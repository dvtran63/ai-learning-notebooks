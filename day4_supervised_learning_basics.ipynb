{
 "cells": [
  {
   "cell_type": "markdown",
   "id": "1513aca1",
   "metadata": {},
   "source": [
    "# 📘 Day 4 – Supervised Learning Basics\n",
    "\n",
    "This notebook introduces supervised learning using classification and regression.\n",
    "We'll use scikit-learn to explore both tasks."
   ]
  },
  {
   "cell_type": "markdown",
   "id": "93ab7414",
   "metadata": {},
   "source": [
    "## 🔢 Classification with Logistic Regression (Binary: Is Setosa?)"
   ]
  },
  {
   "cell_type": "code",
   "execution_count": null,
   "id": "060e02d9",
   "metadata": {},
   "outputs": [],
   "source": [
    "from sklearn.datasets import load_iris\n",
    "from sklearn.linear_model import LogisticRegression\n",
    "from sklearn.model_selection import train_test_split\n",
    "from sklearn.metrics import classification_report\n",
    "\n",
    "# Load data\n",
    "X, y = load_iris(return_X_y=True)\n",
    "y = (y == 0).astype(int)  # Binary classification: Setosa or not\n",
    "\n",
    "# Train/Test split\n",
    "X_train, X_test, y_train, y_test = train_test_split(X, y, random_state=42)\n",
    "\n",
    "# Train model\n",
    "model = LogisticRegression()\n",
    "model.fit(X_train, y_train)\n",
    "\n",
    "# Evaluate\n",
    "print(classification_report(y_test, model.predict(X_test)))"
   ]
  },
  {
   "cell_type": "markdown",
   "id": "7a86acd4",
   "metadata": {},
   "source": [
    "## 📈 Regression with Linear Regression"
   ]
  },
  {
   "cell_type": "code",
   "execution_count": null,
   "id": "b861ff49",
   "metadata": {},
   "outputs": [],
   "source": [
    "from sklearn.linear_model import LinearRegression\n",
    "from sklearn.datasets import make_regression\n",
    "import matplotlib.pyplot as plt\n",
    "\n",
    "# Generate synthetic data\n",
    "X, y = make_regression(n_samples=100, n_features=1, noise=15, random_state=42)\n",
    "\n",
    "# Train model\n",
    "reg = LinearRegression()\n",
    "reg.fit(X, y)\n",
    "\n",
    "# Plot results\n",
    "plt.scatter(X, y, label=\"Data\")\n",
    "plt.plot(X, reg.predict(X), color='red', label=\"Regression Line\")\n",
    "plt.title(\"Linear Regression Line\")\n",
    "plt.xlabel(\"Feature\")\n",
    "plt.ylabel(\"Target\")\n",
    "plt.legend()\n",
    "plt.show()"
   ]
  },
  {
   "cell_type": "markdown",
   "id": "7b01f7a3",
   "metadata": {},
   "source": [
    "## 🧪 Your Exercises\n",
    "- Try `KNeighborsClassifier` on the Iris dataset.\n",
    "- Load Titanic dataset using Seaborn and train logistic regression on it.\n",
    "- Visualize model performance using confusion matrix or scatter plots."
   ]
  }
 ],
 "metadata": {},
 "nbformat": 4,
 "nbformat_minor": 5
}
