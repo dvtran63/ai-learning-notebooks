{
  "cells": [
    {
      "cell_type": "markdown",
      "metadata": {
        "id": "view-in-github",
        "colab_type": "text"
      },
      "source": [
        "<a href=\"https://colab.research.google.com/github/dvtran63/ai-learning-notebooks/blob/main/day8_neural_network_explainer.ipynb\" target=\"_parent\"><img src=\"https://colab.research.google.com/assets/colab-badge.svg\" alt=\"Open In Colab\"/></a>"
      ]
    },
    {
      "cell_type": "markdown",
      "metadata": {
        "id": "cGmSPXapDlPV"
      },
      "source": [
        "# 🧠 Visualizing Neural Networks: Neurons, Layers & Activations\n",
        "This notebook provides an interactive way to understand neurons, layers, and activations using simple visualizations."
      ],
      "id": "cGmSPXapDlPV"
    },
    {
      "cell_type": "code",
      "execution_count": 3,
      "metadata": {
        "colab": {
          "base_uri": "https://localhost:8080/"
        },
        "id": "bMeSuGzEDlPX",
        "outputId": "160043aa-4e32-4ec0-e85c-a5611dddbe64"
      },
      "outputs": [
        {
          "output_type": "stream",
          "name": "stdout",
          "text": [
            "\u001b[2K   \u001b[90m━━━━━━━━━━━━━━━━━━━━━━━━━━━━━━━━━━━━━━━━\u001b[0m \u001b[32m1.6/1.6 MB\u001b[0m \u001b[31m5.6 MB/s\u001b[0m eta \u001b[36m0:00:00\u001b[0m\n",
            "\u001b[?25h"
          ]
        }
      ],
      "source": [
        "# 📦 Required packages\n",
        "!pip install ipywidgets matplotlib --quiet"
      ],
      "id": "bMeSuGzEDlPX"
    },
    {
      "cell_type": "code",
      "execution_count": 4,
      "metadata": {
        "id": "hTqe_yTGDlPa"
      },
      "outputs": [],
      "source": [
        "import numpy as np\n",
        "import matplotlib.pyplot as plt\n",
        "import ipywidgets as widgets\n",
        "from IPython.display import display"
      ],
      "id": "hTqe_yTGDlPa"
    },
    {
      "cell_type": "markdown",
      "metadata": {
        "id": "HPxeIZ3ADlPa"
      },
      "source": [
        "## 🔍 How a Single Neuron Works"
      ],
      "id": "HPxeIZ3ADlPa"
    },
    {
      "cell_type": "code",
      "execution_count": 30,
      "metadata": {
        "id": "xF76F3ZcDlPa"
      },
      "outputs": [],
      "source": [
        "def plot_neuron(w1, w2, b, activation):\n",
        "    x1 = np.linspace(-1, 1, 100)\n",
        "    x2 = np.linspace(-1, 1, 100)\n",
        "    X1, X2 = np.meshgrid(x1, x2)\n",
        "    Z = w1 * X1 + w2 * X2 + b\n",
        "    print(x1.shape, x2.shape, X1.shape, X2.shape)\n",
        "    if activation == 'relu':\n",
        "        A = np.maximum(0, Z)\n",
        "    elif activation == 'sigmoid':\n",
        "        A = 1 / (1 + np.exp(-Z))\n",
        "    elif activation == 'tanh':\n",
        "        A = np.tanh(Z)\n",
        "\n",
        "    #print(Z,\"\\n\", A)\n",
        "    plt.figure(figsize=(6, 5))\n",
        "    plt.contourf(X1, X2, A, levels=20, cmap='viridis')\n",
        "    plt.colorbar(label='Activation Output')\n",
        "    plt.title(f\"Activation: {activation}\")\n",
        "    plt.xlabel(\"x1\")\n",
        "    plt.ylabel(\"x2\")\n",
        "    plt.grid(True)\n",
        "    plt.show()"
      ],
      "id": "xF76F3ZcDlPa"
    },
    {
      "cell_type": "code",
      "execution_count": 31,
      "metadata": {
        "colab": {
          "base_uri": "https://localhost:8080/",
          "height": 783,
          "referenced_widgets": [
            "8fae3802040d4843a6878ac2572005c2",
            "a8cd797bdb7b45b1aa679d763e5ab93e",
            "af07d8e9034e4d4abe76da43f00ebf8e",
            "6bc369fcd330473ab3b12b4be3dec423",
            "7f957cd9a8734447a3baa7b8cc8cf962",
            "656237f56fd5401f98281feb15b15263",
            "ab501d7bc511477897fe76a05d5db803",
            "deac01dd1ef34fa78873e6f2f4993b41",
            "81c9be1388c94f0a999570558cfd54ca",
            "1264761eb190434587e1df94ec414098",
            "992f3ba19312450284690052486fdea4",
            "279f4b581b434f438c013ef219aff27c",
            "955a15456cb24d53a639457fc904759a",
            "985191fe9b054f9285dd9c96a15db855",
            "37660e5a6a4e4f05953d661c7b4e779c",
            "6d280d37299644899e8db944fdf8bacd"
          ]
        },
        "id": "QGKCe-SHDlPb",
        "outputId": "10b035fd-d8c9-4361-ad74-71f4b185d2b8"
      },
      "outputs": [
        {
          "output_type": "display_data",
          "data": {
            "text/plain": [
              "interactive(children=(FloatSlider(value=1.0, description='Weight w1', max=3.0, min=-3.0), FloatSlider(value=1.…"
            ],
            "application/vnd.jupyter.widget-view+json": {
              "version_major": 2,
              "version_minor": 0,
              "model_id": "8fae3802040d4843a6878ac2572005c2"
            }
          },
          "metadata": {}
        },
        {
          "output_type": "execute_result",
          "data": {
            "text/plain": [
              "<function __main__.plot_neuron(w1, w2, b, activation)>"
            ],
            "text/html": [
              "<div style=\"max-width:800px; border: 1px solid var(--colab-border-color);\"><style>\n",
              "      pre.function-repr-contents {\n",
              "        overflow-x: auto;\n",
              "        padding: 8px 12px;\n",
              "        max-height: 500px;\n",
              "      }\n",
              "\n",
              "      pre.function-repr-contents.function-repr-contents-collapsed {\n",
              "        cursor: pointer;\n",
              "        max-height: 100px;\n",
              "      }\n",
              "    </style>\n",
              "    <pre style=\"white-space: initial; background:\n",
              "         var(--colab-secondary-surface-color); padding: 8px 12px;\n",
              "         border-bottom: 1px solid var(--colab-border-color);\"><b>plot_neuron</b><br/>def plot_neuron(w1, w2, b, activation)</pre><pre class=\"function-repr-contents function-repr-contents-collapsed\" style=\"\"><a class=\"filepath\" style=\"display:none\" href=\"#\">/tmp/ipython-input-3256517262.py</a>&lt;no docstring&gt;</pre></div>"
            ]
          },
          "metadata": {},
          "execution_count": 31
        }
      ],
      "source": [
        "widgets.interact(\n",
        "    plot_neuron,\n",
        "    w1=widgets.FloatSlider(value=1.0, min=-3, max=3, step=0.1, description='Weight w1'),\n",
        "    w2=widgets.FloatSlider(value=1.0, min=-3, max=3, step=0.1, description='Weight w2'),\n",
        "    b=widgets.FloatSlider(value=0.0, min=-3, max=3, step=0.1, description='Bias'),\n",
        "    activation=widgets.RadioButtons(\n",
        "        options=['relu', 'sigmoid', 'tanh'],\n",
        "        description='Activation:',\n",
        "        disabled=False\n",
        "    )\n",
        ")"
      ],
      "id": "QGKCe-SHDlPb"
    },
    {
      "cell_type": "markdown",
      "metadata": {
        "id": "angeqRqADlPb"
      },
      "source": [
        "You can adjust weights and bias to see how they affect neuron output. Try each activation function!"
      ],
      "id": "angeqRqADlPb"
    }
  ],
  "metadata": {
    "kernelspec": {
      "display_name": "Python 3",
      "language": "python",
      "name": "python3"
    },
    "language_info": {
      "name": "python",
      "version": "3.8"
    },
    "colab": {
      "provenance": [],
      "include_colab_link": true
    },
    "widgets": {
      "application/vnd.jupyter.widget-state+json": {
        "8fae3802040d4843a6878ac2572005c2": {
          "model_module": "@jupyter-widgets/controls",
          "model_name": "VBoxModel",
          "model_module_version": "1.5.0",
          "state": {
            "_dom_classes": [
              "widget-interact"
            ],
            "_model_module": "@jupyter-widgets/controls",
            "_model_module_version": "1.5.0",
            "_model_name": "VBoxModel",
            "_view_count": null,
            "_view_module": "@jupyter-widgets/controls",
            "_view_module_version": "1.5.0",
            "_view_name": "VBoxView",
            "box_style": "",
            "children": [
              "IPY_MODEL_a8cd797bdb7b45b1aa679d763e5ab93e",
              "IPY_MODEL_af07d8e9034e4d4abe76da43f00ebf8e",
              "IPY_MODEL_6bc369fcd330473ab3b12b4be3dec423",
              "IPY_MODEL_7f957cd9a8734447a3baa7b8cc8cf962",
              "IPY_MODEL_656237f56fd5401f98281feb15b15263"
            ],
            "layout": "IPY_MODEL_ab501d7bc511477897fe76a05d5db803"
          }
        },
        "a8cd797bdb7b45b1aa679d763e5ab93e": {
          "model_module": "@jupyter-widgets/controls",
          "model_name": "FloatSliderModel",
          "model_module_version": "1.5.0",
          "state": {
            "_dom_classes": [],
            "_model_module": "@jupyter-widgets/controls",
            "_model_module_version": "1.5.0",
            "_model_name": "FloatSliderModel",
            "_view_count": null,
            "_view_module": "@jupyter-widgets/controls",
            "_view_module_version": "1.5.0",
            "_view_name": "FloatSliderView",
            "continuous_update": true,
            "description": "Weight w1",
            "description_tooltip": null,
            "disabled": false,
            "layout": "IPY_MODEL_deac01dd1ef34fa78873e6f2f4993b41",
            "max": 3,
            "min": -3,
            "orientation": "horizontal",
            "readout": true,
            "readout_format": ".2f",
            "step": 0.1,
            "style": "IPY_MODEL_81c9be1388c94f0a999570558cfd54ca",
            "value": 1.3
          }
        },
        "af07d8e9034e4d4abe76da43f00ebf8e": {
          "model_module": "@jupyter-widgets/controls",
          "model_name": "FloatSliderModel",
          "model_module_version": "1.5.0",
          "state": {
            "_dom_classes": [],
            "_model_module": "@jupyter-widgets/controls",
            "_model_module_version": "1.5.0",
            "_model_name": "FloatSliderModel",
            "_view_count": null,
            "_view_module": "@jupyter-widgets/controls",
            "_view_module_version": "1.5.0",
            "_view_name": "FloatSliderView",
            "continuous_update": true,
            "description": "Weight w2",
            "description_tooltip": null,
            "disabled": false,
            "layout": "IPY_MODEL_1264761eb190434587e1df94ec414098",
            "max": 3,
            "min": -3,
            "orientation": "horizontal",
            "readout": true,
            "readout_format": ".2f",
            "step": 0.1,
            "style": "IPY_MODEL_992f3ba19312450284690052486fdea4",
            "value": 1
          }
        },
        "6bc369fcd330473ab3b12b4be3dec423": {
          "model_module": "@jupyter-widgets/controls",
          "model_name": "FloatSliderModel",
          "model_module_version": "1.5.0",
          "state": {
            "_dom_classes": [],
            "_model_module": "@jupyter-widgets/controls",
            "_model_module_version": "1.5.0",
            "_model_name": "FloatSliderModel",
            "_view_count": null,
            "_view_module": "@jupyter-widgets/controls",
            "_view_module_version": "1.5.0",
            "_view_name": "FloatSliderView",
            "continuous_update": true,
            "description": "Bias",
            "description_tooltip": null,
            "disabled": false,
            "layout": "IPY_MODEL_279f4b581b434f438c013ef219aff27c",
            "max": 3,
            "min": -3,
            "orientation": "horizontal",
            "readout": true,
            "readout_format": ".2f",
            "step": 0.1,
            "style": "IPY_MODEL_955a15456cb24d53a639457fc904759a",
            "value": 2.3
          }
        },
        "7f957cd9a8734447a3baa7b8cc8cf962": {
          "model_module": "@jupyter-widgets/controls",
          "model_name": "RadioButtonsModel",
          "model_module_version": "1.5.0",
          "state": {
            "_dom_classes": [],
            "_model_module": "@jupyter-widgets/controls",
            "_model_module_version": "1.5.0",
            "_model_name": "RadioButtonsModel",
            "_options_labels": [
              "relu",
              "sigmoid",
              "tanh"
            ],
            "_view_count": null,
            "_view_module": "@jupyter-widgets/controls",
            "_view_module_version": "1.5.0",
            "_view_name": "RadioButtonsView",
            "description": "Activation:",
            "description_tooltip": null,
            "disabled": false,
            "index": 0,
            "layout": "IPY_MODEL_985191fe9b054f9285dd9c96a15db855",
            "style": "IPY_MODEL_37660e5a6a4e4f05953d661c7b4e779c"
          }
        },
        "656237f56fd5401f98281feb15b15263": {
          "model_module": "@jupyter-widgets/output",
          "model_name": "OutputModel",
          "model_module_version": "1.0.0",
          "state": {
            "_dom_classes": [],
            "_model_module": "@jupyter-widgets/output",
            "_model_module_version": "1.0.0",
            "_model_name": "OutputModel",
            "_view_count": null,
            "_view_module": "@jupyter-widgets/output",
            "_view_module_version": "1.0.0",
            "_view_name": "OutputView",
            "layout": "IPY_MODEL_6d280d37299644899e8db944fdf8bacd",
            "msg_id": "",
            "outputs": [
              {
                "output_type": "stream",
                "name": "stdout",
                "text": [
                  "(100,) (100,) (100, 100) (100, 100)\n"
                ]
              },
              {
                "output_type": "display_data",
                "data": {
                  "text/plain": "<Figure size 600x500 with 2 Axes>",
                  "image/png": "iVBORw0KGgoAAAANSUhEUgAAAi0AAAHWCAYAAAC7VLk1AAAAOnRFWHRTb2Z0d2FyZQBNYXRwbG90bGliIHZlcnNpb24zLjEwLjAsIGh0dHBzOi8vbWF0cGxvdGxpYi5vcmcvlHJYcgAAAAlwSFlzAAAPYQAAD2EBqD+naQAAhEBJREFUeJzt3XtcU/X/B/DXNrZxHWBy0STwUoJ51yT8WlqSoFRil6+ahZKXnyWVYVb0TREpsfKSlmmZpvXVsPqqWZaXSPJbkne+qampgVoKXmFcdMB2fn8Yy8l2GGPbeR94Px+PPXBnZ599Nrez196fzzlHIQiCAMYYY4wx4pRSd4AxxhhjzB4cWhhjjDEmCxxaGGOMMSYLHFoYY4wxJgscWhhjjDEmCxxaGGOMMSYLHFoYY4wxJgscWhhjjDEmCxxaGGOMMSYLHFoYI27MmDGIiIiQ5LFnzJgBhUIhyWO7SlN8Tow1FxxaGGuk9957DwqFAtHR0Q63cebMGcyYMQP5+fnO65idKisrMWPGDOTm5rr9sRljrCE4tDDWSKtWrUJERAR27dqF48ePO9TGmTNnkJGRYTW0LF26FEePHm1kL22rrKxERkaG1dDy6quv4sqVKy57bMYYawgOLYw1QkFBAXbs2IF58+YhKCgIq1atcvpjqNVqaLVap7drDw8PD3h6ekry2PaqqKiQuguMMTfh0MJYI6xatQqBgYFISEjAI488YjO0lJSU4Pnnn0dERAS0Wi3atGmDpKQkXLhwAbm5ubjjjjsAAMnJyVAoFFAoFFixYgUAyzkt1dXVaNGiBZKTk+s8hl6vh6enJ1544QUAQFVVFaZPn45evXrB398fPj4+uOuuu7Bt2zbzfQoLCxEUFAQAyMjIMD/2jBkzAFif/1FTU4PMzEy0b98eWq0WEREReOWVV2AwGCzWi4iIwP33348ff/wRffr0gaenJ9q1a4ePP/64Tt9PnDiBEydO1PNqAytWrIBCocAPP/yAp59+GsHBwWjTpo359m+//RZ33XUXfHx84Ofnh4SEBBw6dEi0zcLCQovX+3rXvxaMMelxaGGsEVatWoWHHnoIGo0GI0eOxLFjx7B7926LdcrLy3HXXXfhnXfewaBBg7BgwQJMnDgRR44cwR9//IGoqCjMnDkTADBhwgR88skn+OSTT3D33XfXeTy1Wo1hw4Zh/fr1qKqqsrht/fr1MBgMGDFiBIBrIebDDz/EgAED8MYbb2DGjBk4f/484uLizMNQQUFBWLx4MQBg2LBh5sd+6KGHbD7ncePGYfr06ejZsyfmz5+P/v37Iysry/y41zt+/DgeeeQR3HfffZg7dy4CAwMxZsyYOkFi4MCBGDhwYD2v9t+efvpp/Prrr5g+fTpefvllAMAnn3yChIQE+Pr64o033sC0adPw66+/ol+/figsLLS7bcYYYQJjzCF79uwRAAhbt24VBEEQTCaT0KZNG+G5556zWG/69OkCAGHt2rV12jCZTIIgCMLu3bsFAMJHH31UZ53Ro0cL4eHh5uubN28WAAhfffWVxXpDhgwR2rVrZ75eU1MjGAwGi3UuX74shISECE8++aR52fnz5wUAQnp6ep3HTk9PF67fTOTn5wsAhHHjxlms98ILLwgAhO+//968LDw8XAAgbN++3bzs3LlzglarFaZMmWJx//DwcIvnaMtHH30kABD69esn1NTUmJeXlZUJAQEBwvjx4y3WLyoqEvz9/S2W3/icCgoKbL72tl4Xxpg0uNLCmINWrVqFkJAQ3HPPPQCuDSUMHz4c2dnZMBqN5vX+85//oFu3bhg2bFidNhzZ9fbee+9Fy5YtsWbNGvOyy5cvY+vWrRg+fLh5mUqlgkajAQCYTCZcunQJNTU16N27N/bt29fgxwWAb775BgCQmppqsXzKlCkAgI0bN1os79SpE+666y7z9aCgIHTs2BG///67xXqFhYUNqoaMHz8eKpXKfH3r1q0oKSnByJEjceHCBfNFpVIhOjraYkiMMSZfHlJ3gDE5MhqNyM7Oxj333IOCggLz8ujoaMydOxc5OTkYNGgQgGvzNR5++GGnPbaHhwcefvhhrF69GgaDAVqtFmvXrkV1dbVFaAGAlStXYu7cuThy5Aiqq6vNy9u2bevQY588eRJKpRIdOnSwWB4aGoqAgACcPHnSYvktt9xSp43AwEBcvnzZocevdWP/jx07BuBaoLNGp9M16vEYYzRwaGHMAd9//z3Onj2L7OxsZGdn17l91apV5tDiCiNGjMD777+Pb7/9FomJifjss88QGRmJbt26mdf597//jTFjxiAxMRFTp05FcHAwVCoVsrKy7Jr0KsbeCtH11ZDrCYLQqMf38vKyuG4ymQBcm9cSGhpaZ30PD9ubOlvP5fpqGWOMBg4tjDlg1apVCA4OxqJFi+rctnbtWqxbtw5LliyBl5cX2rdvj4MHD4q219BhorvvvhutWrXCmjVr0K9fP3z//ff417/+ZbHOF198gXbt2mHt2rUW7aenpzv82OHh4TCZTDh27BiioqLMy4uLi1FSUoLw8PAGPQ9nad++PQAgODgYsbGxDbpvYGAggGt7eF3vxqoRY0x6PKeFsQa6cuUK1q5di/vvvx+PPPJInUtKSgrKysqwYcMGAMDDDz+M//3vf1i3bl2dtmorDj4+PgDqfnHaolQq8cgjj+Crr77CJ598gpqamjpDQ7VVjuurGjt37kReXp7Fet7e3nY/9pAhQwAAb7/9tsXyefPmAQASEhLs6v+N7N3l2Za4uDjodDrMmjXLYhis1vnz523eV6fToWXLlti+fbvF8vfee8/h/jDGXIMrLYw10IYNG1BWVoYHH3zQ6u133nmn+UBzw4cPx9SpU/HFF1/g0UcfxZNPPolevXrh0qVL2LBhA5YsWYJu3bqhffv2CAgIwJIlS+Dn5wcfHx9ER0eLzj0ZPnw43nnnHaSnp6NLly4WlQ8AuP/++7F27VoMGzYMCQkJKCgowJIlS9CpUyeUl5eb1/Py8kKnTp2wZs0a3HbbbWjRogU6d+6Mzp0713nMbt26YfTo0fjggw9QUlKC/v37Y9euXVi5ciUSExPNk5IbqnZ3Z0d3TdbpdFi8eDGeeOIJ9OzZEyNGjEBQUBBOnTqFjRs34h//+Afeffddm/cfN24cZs+ejXHjxqF3797Yvn07fvvtN4f6whhzIYn3XmJMdh544AHB09NTqKiosLnOmDFjBLVaLVy4cEEQBEG4ePGikJKSItx8882CRqMR2rRpI4wePdp8uyAIwpdffil06tRJ8PDwsNgF98ZdnmuZTCYhLCxMACC89tprVm+fNWuWEB4eLmi1WqFHjx7C119/bbW9HTt2CL169RI0Go3Fbr437h4sCIJQXV0tZGRkCG3bthXUarUQFhYmpKWlCVevXrVYLzw8XEhISKjTr/79+wv9+/evs25DdnnevXu31du3bdsmxMXFCf7+/oKnp6fQvn17YcyYMcKePXvM61h7TpWVlcLYsWMFf39/wc/PT/jnP/8pnDt3jnd5ZowYhSA0ckYcY4wxxpgb8JwWxhhjjMkChxbGGGOMyQKHFsYYY4zJgqxCy/bt2/HAAw+gdevWUCgUWL9+fb33yc3NRc+ePaHVatGhQwerZ3JdtGgRIiIi4OnpiejoaOzatcv5nWeMMcZYo8gqtFRUVKBbt25WD+hlTUFBARISEnDPPfcgPz8fkydPxrhx47B582bzOmvWrEFqairS09Oxb98+dOvWDXFxcTh37pyrngZjjDHGHCDbvYcUCgXWrVuHxMREm+u89NJL2Lhxo8XRSEeMGIGSkhJs2rQJwLVzxdxxxx3mYziYTCaEhYXhmWeeMZ/ynjHGGGPSa9IHl8vLy6tzSO+4uDhMnjwZAFBVVYW9e/ciLS3NfLtSqURsbGydo4Zez2AwwGAwmK/XnkH3pptucuisvYwxxmgQBAFlZWVo3bo1lErnD0ZcvXoVVVVVTmlLo9HA09PTKW3JRZMOLUVFRQgJCbFYFhISAr1ejytXruDy5cswGo1W1zly5IjNdrOyspCRkeGSPjPGGJPe6dOn0aZNG6e2efXqVUSE+6D4nMkp7YWGhqKgoKBZBZcmHVpcJS0tDampqebrpaWluOWWW9Dl5RmoUWsl7Nnfanzr/1BoFQq80iYCs/4ohMHFo4QmO/rTEFoo8WpgW7x2uQAGNKxtD2/n/MpxhBZKvKztiNmGo+Z++/lelaw/1rT0rrC6XC2oMFIfg091eahWuO8MyDd76ht1f5XggQHnBiE3eAuMiprG98frcqPbsJfSpMZtp/6J3275DCZl3XMqRWhsn1NJCuHqiwAAk1GL80deRVDka1CqDPXcy3XaejR8u1ZSqkLPvsfg5+fn9P5UVVWh+JwJB3eHws+vcVWcsjITOt9RhKqqKg4tTUVoaCiKi4stlhUXF0On08HLywsqlQoqlcrqOtZOb19Lq9VCq60bTmrUWtRoaIQWVAE1OvEvc5VCAW9vb9R4alHj4tBi9HTul5xKobzW96saVAsNCy3VJg3UvtIEFxWU8NZ6o0alQc1foeWySQN/vyuS9MeacwhAsE953RsEFbxrvAFfD8CNw6B/ogXCvEscvr/KpIR3uTdUfkoITij3a7wa3YTdlKZrJ7TU6ACTla6fQRA6aIvr3iCR8whEO815mIwqVHh7wy+gBkpV44Oioy4AuNWjodseDYCGn3m9Ifz8lNA1MrQ0V036VYuJiUFOTo7Fsq1btyImJgbAtfHAXr16WaxjMpmQk5NjXqch1JWN629TpipXSd0FC9XlGqm7YKG0zI3fhHY4V+ErdRfIOnnlJqm7YOG4IaT+ldzo96ogqbvAmjBZhZby8nLk5+cjPz8fwLVdmvPz83Hq1CkA14ZtkpKSzOtPnDgRv//+O1588UUcOXIE7733Hj777DM8//zz5nVSU1OxdOlSrFy5EocPH8ZTTz2FiooKJCcnu/W5uYKHntZ/LwcX5qjTlQFSd8ECBxf5OFZDa7vDGkdWw0N79uzBPffcY75eO69k9OjRWLFiBc6ePWsOMADQtm1bbNy4Ec8//zwWLFiANm3a4MMPP0RcXJx5neHDh+P8+fOYPn06ioqK0L17d2zatKnO5Fx7qcuBakI/Uj30ynqHidxJVa6C0dd98yHkpLTMi9YwUYWv9WEiiZyuDGjUMJGznbxyE8K9LkrdDZIKq1qC0iyLYzUqB4aJGEWyCi0DBgyA2GFlrB3tdsCAAdi/f79ouykpKUhJSWls98w4uMhHdbl081us4eAijlpwoeS4IYTU/BZqOLg0DbTGD5oQNZ3tPDk8TCSO2vwWZhsPE4krrGopdRdYE8OhpZng+S3iqAUXSqhNyuX5LeKoBRdKeH6L/NH6JmtiqFVbOLjIB7VqCwcXcdSCCyXU9ibi4CJvtL7FmiAOLvJBrdpCLbicr/CRugvMTtSqLRxcmLPwN5gbUAsulFCrtnBwkQ+utojj4MKaIg4tzRC1agsHF+YoDi7iqAUXSrjaIk+0vr2aMGrVFg4u8kGt2kJtmIhacGG2Uau2cHCRH1rfXE0cueBSxv/9tlCrtlALLtQm5lLC1RZxHFxYY/C3lptRCy6UUKu2cHCRD2rVFg4u4qgFFyYfHFoYKRxc5INatYWDC3NUc6y2zJ49GwqFApMnT7a5zooVK6BQKCwunp7SnqCBQ4sEqFVbqA0TUQsulFCrtnBwkQ+utohrTsFl9+7deP/999G1a9d619XpdDh79qz5cvLkSTf00DZa31bNCLngQmxiLiXUqi0cXOSDWrWFg4u45hBcysvLMWrUKCxduhSBgYH1rq9QKBAaGmq+OHoyYWfhbyoJUQsulFCrtnBwkQ9q1RYOLvJSUKOQugsNotfrLS4Gg0F0/UmTJiEhIQGxsbF2tV9eXo7w8HCEhYVh6NChOHTokDO67TBZneWZuRa1s0GrylUw+tI5Kyu1M0JTwmeDFnfyyk0I97oodTdI+r0qCO0056XuhludqFHBt6ZxNYPyv8JVWFiYxfL09HTMmDHD6n2ys7Oxb98+7N69267H6NixI5YvX46uXbuitLQUc+bMQd++fXHo0CG0adOmUf13FIcWianLgWpC1XUOLvJRWuYFf78rUnfDjIOLfBw3hKCDtljqbpg1x+DiLKdPn4ZOpzNf12q1Ntd77rnnsHXrVrsn08bExCAmJsZ8vW/fvoiKisL777+PzMzMxnXcQTw8RAC1YSKe32IbDxOJ4/kttvEwkThq81vkQqfTWVxshZa9e/fi3Llz6NmzJzw8PODh4YEffvgBCxcuhIeHB4zG+n8cqtVq9OjRA8ePH3f207AbfzsRQS24UMLzW8RRCy6U8PwWcdSCC3OdgQMH4sCBA8jPzzdfevfujVGjRiE/Px8qVf3bWaPRiAMHDqBVq1Zu6LF1PDzErOJhInE8v8U2asNEf1zxl7oLFnh+i208TOQ6fn5+6Ny5s8UyHx8f3HTTTeblSUlJuPnmm5GVlQUAmDlzJu6880506NABJSUleOutt3Dy5EmMGzfO7f2vxZUWQqhVW6gNE1GruFBCrdrCw0TyQa3awsNE0jl16hTOnj1rvn758mWMHz8eUVFRGDJkCPR6PXbs2IFOnTpJ1keutBDDE3Plg1q1hSfmyge1agtPzG2ecnNzRa/Pnz8f8+fPd1+H7EDrpzQDQK/iQgm1agvPb5EPisNElFCruDBmDYcWVi8eJhJHLbhQQm2YiCfmygcPEzFraH0bMTNq1RZqwUVZTqs/lFCrtnBwkQ9q1RYOLuxGvOUnjIOLfFCrtnBwkQ9q1RYOLowy/hZizEk4uMgHtWoLBxfG7MOhhTiutoijNkxELbhQQq3awsFFPrjawmrR2uIzqzi4iKM2MZcSatUWDi7yQa3awsGFARxaZINacGG2Uau2cHCRD2rVFg4ujBoOLcwhXG0Rx8FFPqhVWzi4MGYbrW8eJopatYWDC3MUtWoLBxf54GpL80brW4fVi4OLfHC1RRwHF/mgVm3h4NJ88TeODFELLpRQq7ZwcBFHLbhQQq3awsGFUcChhTUatWoLBxfmKGrVltNXWkjdBQvUggtrfvgszzLFZ4MWpypXwehrlLobJPHZoMWdrgxAmHeJ1N1gdpDr2aALq1rCu6pxP64qq4wATjunQzJC6ycyaxBqw0TUKi6UUKu28DCROGoVF0qoVVt4mKh54W8ZmaMWXCjhYSJx1IILs42HicRxcGk+OLQwp6JWbaEWXGoqaAUXSrjaIo4n5jImw9CyaNEiREREwNPTE9HR0di1a5fNdQcMGACFQlHnkpCQYF5nzJgxdW6Pj493x1NxGmrVFg4u8kGt2sLBRRy14EIJV1uaB1rfLvVYs2YNUlNTkZ6ejn379qFbt26Ii4vDuXPnrK6/du1anD171nw5ePAgVCoVHn30UYv14uPjLdb79NNP3fF0nIqDC3MUBxfmKGrVFg4uTZ+svlnmzZuH8ePHIzk5GZ06dcKSJUvg7e2N5cuXW12/RYsWCA0NNV+2bt0Kb2/vOqFFq9VarBcYGOiOp+N01IILJdSqLdSGiagFF0q42iKOgwtzJ9ns8lxVVYW9e/ciLS3NvEypVCI2NhZ5eXl2tbFs2TKMGDECPj4+Fstzc3MRHByMwMBA3HvvvXjttddw0022NwwGgwEGg8F8Xa/XAwDUSgVUKkVDnpbTKRsQQ7VKhcVfZ9OWq1Dj55rdoLUKhcVfu1R4wOQr7W7Z2r9+J2ihhKHCEx4+VZL253oaQfzNU3t7fes5Q0m5DkE+FU5pSy2oLP46oqjiJrTxKnVKfxpCZfKw+Fvrz4oQhHldcnt/bPn9Shu001xX8TZqLP+6mcmobcR9ZfO12CzJ5n/nwoULMBqNCAmxTPUhISE4cuRIvffftWsXDh48iGXLllksj4+Px0MPPYS2bdvixIkTeOWVVzB48GDk5eVBpbK+kcvKykJGRkad5VN63AJvb+8GPCsapkVFSN0Fh2WEtZO6Cw7JbNFe6i7UVW3faqk1PV3bj1olzm0uqbRf4xoocUo3HBJbPES6B28Ez2OTJXncokbct7KyEsBjzuoKczLZhJbGWrZsGbp06YI+ffpYLB8xYoT53126dEHXrl3Rvn175ObmYuDAgVbbSktLQ2pqqvm6Xq9HWFgY5u4/BZPa8YTvTNU+9a+jVSowLSoCmYcLYTAJLu2PsysuWoUCGWHtkH76dxiEhvVdymqLFkpktmiPaZdOwIBr/aBUbQEAna/1A89pBCVSa3pinsc+VCnc9xo2tuKiFlRIKu2Hj/1/RLWicQccdHe1RWXyQGzxEHwX8g2Mypo6t1OqtgD4u9pi1MDz2GRcvfVtQCXd+ztCc6HB9ykraTZfi7Ikm/+dli1bQqVSobi42GJ5cXExQkNDRe9bUVGB7OxszJw5s97HadeuHVq2bInjx4/bDC1arRZabd1wUm0SUGN07Ze/3fT2HzHXYBJcH1oaGCzsZRCEBocWlCmkO1ruX6NZBphwVfjri7/cA2pfOsHlfLlW9Ii5VQqTW0NLY4PG9e00tq2Cq76SHC3XqKxBjZXQUmDQIdzrotv7Y8vxmkB00F63jVZVSRpaCo26Bh8xV6niI2lTJpuJuBqNBr169UJOTo55mclkQk5ODmJiYkTv+/nnn8NgMODxxx+v93H++OMPXLx4Ea1atWpwH3kirG3U9iaiNjGX2oHnKKG2NxFPzGVMOrS+SeqRmpqKpUuXYuXKlTh8+DCeeuopVFRUIDk5GQCQlJRkMVG31rJly5CYmFhncm15eTmmTp2Kn3/+GYWFhcjJycHQoUPRoUMHxMXFueU5uRK1EMXBRT6o7U3EwUU+eG8i5kqyGR4CgOHDh+P8+fOYPn06ioqK0L17d2zatMk8OffUqVNQ3rD7zNGjR/Hjjz9iy5YtddpTqVT45ZdfsHLlSpSUlKB169YYNGgQMjMzrQ7/2ENTBlT5OXRXl+ATK8pHdbmG1DARn1hRPk5euYnUMNHvVcHoJHUnriPXEyuyumQVWgAgJSUFKSkpVm/Lzc2ts6xjx44QbMx58PLywubNm53ZPQAcXOSE2tmgObjIB7WzQVMLLoy5Aq16fROiKZO6B3TxMJE4nt9iGw8TieP5LbbxMFHTQOvbg7kMz28RRy24UMLzW8RRCy6U/F4VLHUXLHBwkT9a3xxNDLVqCwcX+aBWbeHgIh/Uqi08MZem2bNnQ6FQYPLkyaLrff7554iMjISnpye6dOmCb775xj0dtIG/NVyMg4t8UKu2UAsu+nJawYUSatUWDi5MzO7du/H++++ja9euouvt2LEDI0eOxNixY7F//34kJiYiMTERBw8edFNP6+LQ4gbUggsl1KotHFzkg1q1hYOLfDTnakt5eTlGjRqFpUuX1nty4AULFiA+Ph5Tp05FVFQUMjMz0bNnT7z77rtu6m1dtL4xmFtQq7ZwcGGO4uAiH9SqLU0luOj1eovL9SfztWbSpElISEhAbGxsvW3n5eXVWS8uLs7ukxS7gux2eZYrirtBQyd1L/7Gx2+xjdpu0PpyL3j6OecMzM7Ax2+xjdpu0McNIZaH+ZeYVMdv+b0qCJ4GdaPauFp17QynYWFhFsvT09MxY8YMq/fJzs7Gvn37sHv3brseo6ioyOpJiouKGnNKysbh0OJG5IILne8dcvj4LeL4+C228fFbxFELLnJ3+vRp6HR//wK1dWDU06dP47nnnsPWrVvh6enpru45Ha26PGvWeJhIHM9vsY2HicTx/Bbb5D5MpNPpLC62QsvevXtx7tw59OzZEx4eHvDw8MAPP/yAhQsXwsPDA0Zj3R9poaGhDp2k2JVofUs0AzwpVxwHF/ng3aDFUQsulPD8FvcbOHAgDhw4gPz8fPOld+/eGDVqFPLz86FS1d3WxcTEWJykGAC2bt1a70mKXYmHhyRAcZjIQOj7h+e32MbDROJ4fottPEwkrqmfn8jPzw+dO3e2WObj44ObbrrJvDwpKQk333wzsrKyAADPPfcc+vfvj7lz5yIhIQHZ2dnYs2cPPvjgA7f3vxatn7XNCFdc5INatYXaMBG1igsl1Kot1IaJqFVcmrtTp07h7Nmz5ut9+/bF6tWr8cEHH6Bbt2744osvsH79+jrhx5240sIA0DupIrVqC0/MlQ9q1RaemCsfv1cFobJaCeCE1F1xixtPMmztpMOPPvooHn30Ufd0yA5caZEQtWoLH79FHLWKCyXUqi08v0U+uNrCGoLWt0IzxMGFOYqHicRRCy6U8DARkysOLQRQCy6UcLVFHAcX+aBWbeHgwuSI1jcCI4FatYWDizhqwYUSatUWDi6MNQ6tb4NmjFq1hYMLcxS1asv5Ch+pu2CBWnChhKstrD78TUAIBxf54GqLOGrBhdlGrdrCwYWJ4dBCDLXgQgm1agsHF3EcXGyjVm3h4MLkgta3ACOHWrWFgwtzFA8TiaMWXBizhtY3AANAr9rCwUU+uNoijifmygdXW5g1vPUnioOLfFCrtnBwEUctuFBCrdrCwYXdiEMLYdSCCyUeZbTeuhxcmKOoVVs4uDDKaG35GWlcbRFHLbhQwtUWcRxcGLMPhxbiqFVbqAUXahUXSqhVWzi4iKMWXCjhagurxWd5lgFNGVDlJ3Uv/kbtjNCU8NmgxZWWecHf74rU3WB2oHY26OOGEHTQFkvdDac4faUFNKrG/aioukLnc+1O/DNVJqhVXCihtjcRtWEiahUXSrjaIo7aMBFXXBitrT2TDXLDRBxcZIOHicRxcGHMNlpbeiaKWrWFg4t8UKu2cHBhjuJqS/PGW3mZ4eAiH9SqLRxc5IOrLeI4uDRfHFpkiFpwoYRatYWDi3xQq7ZwcBHHwaV5orWFZ7JErdrCwUU+qFVbqAWXP674S90FxkihtXVndqNWbeHgIh/Uqi0cXOSDqy1MarxllzEOLvJBrdrCwYU5ioMLkxKHFpmjFlwooVZt4eAiH9SqLdSGiagFF9Z80NqqM9mjVm2hFlyU5bT6Qwm1agu14EJtYi4lXG1pPmS3BV20aBEiIiLg6emJ6Oho7Nq1y+a6K1asgEKhsLh4enparCMIAqZPn45WrVrBy8sLsbGxOHbsmKufhlNRq7ZwcJEPatUWDi7yQa3awsGleZDV1nzNmjVITU1Feno69u3bh27duiEuLg7nzp2zeR+dToezZ8+aLydPnrS4/c0338TChQuxZMkS7Ny5Ez4+PoiLi8PVq1dd/XScioMLcxQHF/mgVm3h4MLcTVahZd68eRg/fjySk5PRqVMnLFmyBN7e3li+fLnN+ygUCoSGhpovISF/v6kFQcDbb7+NV199FUOHDkXXrl3x8ccf48yZM1i/fr0bnpFzUQsulFCrtlAbJqIWXCihVm3h4MKaM9mc5bmqqgp79+5FWlqaeZlSqURsbCzy8vJs3q+8vBzh4eEwmUzo2bMnZs2ahdtvvx0AUFBQgKKiIsTGxprX9/f3R3R0NPLy8jBixAirbRoMBhgMBvN1vV4PANAoFTCpFI16no2laMBcT41SYfHX2bRXgGoflzQN7V991jag79pyFWr8TK7pkL19UCj+/lvhAZOvtP25nkc9v2G0f92udcNvnatlPtD5Ouds0BpBafHXESXlOgT5VDilPw2hFlQWf2sVVdyENl6lbu+PLUqT2ur1G5e7w+9X2qCdxnb1vV5GWj8omCXZhJYLFy7AaDRaVEoAICQkBEeOHLF6n44dO2L58uXo2rUrSktLMWfOHPTt2xeHDh1CmzZtUFRUZG7jxjZrb7MmKysLGRkZdZY/c9ct8Pb2buhTk1xa7wipu+CwaVERUnfBIRlh7aTugsPStVHueaBq5zaXWtOzcQ2UOKUbDkkq7Vd3YYnbu9FgkYWjpO5Cg5kqKwH8KHU3mA2yCS2OiImJQUxMjPl63759ERUVhffffx+ZmZkOt5uWlobU1FTzdb1ej7CwMLzz31MweWgb1WdnqfKrfx2NUoG03hHI2lOIKpPg0v44u+KiVSowLSoCmYcLYWhg36WstmgVCmSEtUP66d9hEK71m1K1BQA8fKqsLtdCiXRtFDIMh2GA+/rc2IqLRlAitaYn5nnsQ5Wicf12d7VFLaiQVNoPH/v/iGqFsc7tlKotABDmdQnAtQpLZOEoHIlYBZPSyemzARypuFwtbZqVlsWLF2Px4sUoLCwEANx+++2YPn06Bg8ebHX9FStWIDk52WKZVquVfL6nbEJLy5YtoVKpUFxcbLG8uLgYoaGhdrWhVqvRo0cPHD9+HADM9ysuLkarVq0s2uzevbvNdrRaLbTauuGkyiTAaHTtl7/dSuwLLsC1fhtc3O9qF33HGUxCg0MLShWo0UkbFAyCYA4tKFPA6Fv3C0ky5R5Q+1oPLgBggMmtoaWxQeP6dhrb1p+VXgj2cf8s82qF0WpoKbjqizDvErf3x5YCgw7hXhfN103KaklDC1S238e279M0Q0ubNm0we/Zs3HrrrRAEAStXrsTQoUOxf/9+85SJG+l0Ohw9etR8XaGQdvoDIKOJuBqNBr169UJOTo55mclkQk5OjkU1RYzRaMSBAwfMAaVt27YIDQ21aFOv12Pnzp12t8nsQ21vImoTc6kdeI4SansT8cRc+eC9if72wAMPYMiQIbj11ltx22234fXXX4evry9+/vlnm/cR25FFKrS23PVITU3F0qVLsXLlShw+fBhPPfUUKioqzCWspKQki4m6M2fOxJYtW/D7779j3759ePzxx3Hy5EmMGzcOwLX/kMmTJ+O1117Dhg0bcODAASQlJaF169ZITExscP/U5USqLH+htjcRBxf5oLY3EQcX+aC2N1FTDy56vd7icv1OIrYYjUZkZ2ejoqJC9Ad67Y4sYWFhGDp0KA4dOuTMrjtENsNDADB8+HCcP38e06dPR1FREbp3745NmzaZ09+pU6egVP79RXT58mWMHz8eRUVFCAwMRK9evbBjxw506tTJvM6LL76IiooKTJgwASUlJejXrx82bdpU5yB09tKUCajyk76EVktTZv8wkTuoy4Fq3t5bpSpXkRomqi7XiA4TuVtpmRf8/ZyzR1FTc7oygNQw0ekrLdCp/tXc5rghBB20xfWv6CZ/XvGHh7Jx8x9rrlwLJ2FhYRbL09PTMWPGDKv3OXDgAGJiYnD16lX4+vpi3bp1Ft+H16tvRxapyCq0AEBKSgpSUlKs3pabm2txff78+Zg/f75oewqFAjNnzsTMmTOd1UVywYXZ5qFXSj6/5XocXOTjXIWvJPNbbKEWXJh7nD59Gjqdznzd2nzLWh07dkR+fj5KS0vxxRdfYPTo0fjhhx+sBhdX7cjSWFwfbwZ4mEgctWEint9iGw8TieP5LbY11WEinU5ncRELLRqNBh06dECvXr2QlZWFbt26YcGCBXY9zo07skiF1ta6CdGU8fwWMRxc5IPnt4ijFlwoOX2lhdRdsNBUg4ujTCaTXXNggLo7skiFt9QuxMGFOYpatYWDi3xQq7bwxFwa0tLSsH37dhQWFuLAgQNIS0tDbm4uRo26dgDAhu7IIhXZzWmRG57fYhu1Sbk8v0VcTYUGoHHsRHJ4fou4k1dusjh+C3O/c+fOISkpCWfPnoW/vz+6du2KzZs347777gPg2I4sUuDQ0szw3kTiOLjIB7W9iTi4yAe1vYncYdmyZaK3O7IjixR4eMgNeJhIHLX5LUw+qA0T8fwW23iYiDkDhxY34eAiH9Qm5VKb31JTwfNb5ILnt4jj4CI/tLbOTRy14EIJtWoLBxdx1CbmUkKt2sLBhTUltLbMzK2oVVs4uDBHUau2cHCRD662yAtvld2Mqy3iqAUXSrjaIo6Di3xQq7ZwcJEPDi0SoBZcqFVcKKFWbeHgwhxFrdrCwYU5gtYWuRmhFlwooVZt4eAiH1xtEcfBhckdra0xkwy1agsHF/mgVm3h4CKOWnChhKst9PGWWELUqi0cXOSDWrWFgwtzFLVqS2FVkNRdYCI4tEiMg4t8UKu2cHCRD662iKMWXBhdtLbCzRS14EIJtWoLBxf5oFZt4eAijoMLswetLTAjgVq1hYOLfFCrtnBwYaxp4a0vEdSqLRxc5INatYVacNGX0woulHC1hckNn+WZEE2ZgCo/hdTdMKN2RmhK+GzQ4qrLNVD7VkndDZL4bNDiTl65CeFeF6Xuhkudr/SFCtpGtWGsVDupN/LClRZiqFVcKKFWbaE2TESt4sJsozZMRK3iwpgttLa6jBweJhJHLbhQwsNE4qgFF0p4mIjZwltcgqhVWzi4yAe1agu14EJtYi4l1KotHFyYNRxaiOLgIh/Uqi0cXOSDWrWFgwujjtbWllmgFlwoUVdI3QNLHFzkg1q1hYMLY/ajtaVlpHG1RRy14EIJtWoLBxf54GoLux5vZYmjVm2hFlyoVVwooVZt4eAiH9SqLRxcWC0OLTLAwUU+qFVbOLjIB7VqCwcXRhGtLSyziVpwoYTa3kQcXOSDWrWFgwtj4mhtXZlsUKu2cHCRD2rVFg4u8sHVFsZbVhmhVm3h4CIf1KotHFzkg1q1hYNL88ahRWY4uMgHtWoLBxf5oFZt4eDCGkqlUuHcuXN1ll+8eBEqlePbIlpbVcYaiVq1hYOLfFCrtnBwYXImCNZ/YBsMBmg0jv9g4bM8yxCfDVqcuhyoJrS9p3ZGaEqonQ26tMwL/n5XpO6G2fkKH6m7QFZzOBu0HC1cuBAAoFAo8OGHH8LX9++NsdFoxPbt2xEZGelw+xxaZIqDizhqwYUSVbkKRl+j1N0w4+AiH6crAxDmXSJ1N8w4uNAzf/58ANcqLUuWLLEYCtJoNIiIiMCSJUscbp9Di4xRCy7MNmrVFg4uzFEcXJiYgoICAMA999yDtWvXIjAw0Knt0xpwZ7JGbVIuz28Rx/NbbKM2v4XaMBHPb5GfxYsXo2vXrtDpdNDpdIiJicG3334rep/PP/8ckZGR8PT0RJcuXfDNN9/Y/Xjbtm1zemABuNIie9SqLTxMJM6jjFZwoYRatYXaMNG5Cl8E+xBL4kRwtaV+bdq0wezZs3HrrbdCEASsXLkSQ4cOxf79+3H77bfXWX/Hjh0YOXIksrKycP/992P16tVITEzEvn370Llz53of78knnxS9ffny5Q49D9ltQRctWoSIiAh4enoiOjoau3btsrnu0qVLcddddyEwMBCBgYGIjY2ts/6YMWOgUCgsLvHx8a5+Gk7Fu0EzR1GrtlDbDZpaxYUSatUW3g1a3AMPPIAhQ4bg1ltvxW233YbXX38dvr6++Pnnn62uv2DBAsTHx2Pq1KmIiopCZmYmevbsiXfffdeux7t8+bLF5dy5c/j++++xdu1alJSUOPw8ZFVpWbNmDVJTU7FkyRJER0fj7bffRlxcHI4ePYrg4OA66+fm5mLkyJHo27cvPD098cYbb2DQoEE4dOgQbr75ZvN68fHx+Oijj8zXtVqtW56PM1GruFBCrdpCDc9vkQ9q1Rae3yI9vV5vcV2r1db7HWY0GvH555+joqICMTExVtfJy8tDamqqxbK4uDisX7/ern6tW7euzjKTyYSnnnoK7du3t6sNa2RVaZk3bx7Gjx+P5ORkdOrUCUuWLIG3t7fNMtOqVavw9NNPo3v37oiMjMSHH34Ik8mEnJwci/W0Wi1CQ0PNF1eMwzU31Kot5Oa3EBsmolZxoYRatYWP3yJ/+jJPlJZ5NeqiL/MEAISFhcHf3998ycrKsvm4Bw4cgK+vL7RaLSZOnIh169ahU6dOVtctKipCSEiIxbKQkBAUFRU5/LyVSiVSU1PNexg5QjaVlqqqKuzduxdpaWnmZUqlErGxscjLy7OrjcrKSlRXV6NFixYWy3NzcxEcHIzAwEDce++9eO2113DTTbZLjQaDAQaDwXy9NulqPBQwKaWrdmiuANW+9j++RqWw+Ots2krXzW/R/PU6axrwemuvANUSz2fU/tVfrVKBGgWtyphJIR6ktH/9xtFCCbi66xWe8PBxTrXFot8OulrmA52v++e3aASlxd9aJeU6BPlUuL0/tniYLL9KVH9dV5nc/xXzZ0UIwrwuOXx/JZ2d/Oxy+vRp6HQ683WxKkvHjh2Rn5+P0tJSfPHFFxg9ejR++OEHm8HFFU6cOIGamhqH7y+b0HLhwgUYjUarye/IkSN2tfHSSy+hdevWiI2NNS+Lj4/HQw89hLZt2+LEiRN45ZVXMHjwYOTl5dk81HBWVhYyMjLqLJ8YFw5vb+8GPCsapgyIkLoLDkvrHSF1FxwyLSpC6i44LLOF46VdKaVroxrXQLVz+uGI1JqedReWuL0btpVYXxxbPMSt3XCGyspKAOul7obdavcGsodGo0GHDh0AAL169cLu3buxYMECvP/++3XWDQ0NRXFxscWy4uJihIaG2vVYNw4tCYKAs2fPYuPGjRg9erRdbVgjm9DSWLNnz0Z2djZyc3Ph6elpXj5ixAjzv7t06YKuXbuiffv2yM3NxcCBA622lZaWZvEfotfrERYWhiWbT8KkpDEfxp6Ki0alwJQBEZibW4gqo+sm87qi2qJRKpDWOwJZewpRZWpY36WstmiVCkyLikDm4UIY/up3jR+tn3YmX+v90UKJzBbtMe3SCRjgvj43tuKihRLp2ihkGA43ut/urrZoBCVSa3pinsc+VCnq9p1StQUA2niVArhWYYktHoLvQr6BUen4r+rGcqTiUqWvf52mwmQyWYwaXC8mJgY5OTmYPHmyednWrVttzoG50f79+y2uK5VKBAUFYe7cufXuWSRGNqGlZcuWUKlUDiW/OXPmYPbs2fjuu+/QtWtX0XXbtWuHli1b4vjx4zZDi62JTlU1AkxKGnvyVDVgXmWVUYDBhaEFJa4bJqoyOdB3vfQTcw0mwRxaUKogdeA5o2CjL3/lYANMuGprHRdQOykgGWBqdGg5X66VZDfoKoXJamj5s9KL1MTcgqu+FhNzjcoa1EgYWkzKhpfHTLSmmzlNWloaBg8ejFtuuQVlZWVYvXo1cnNzsXnzZgBAUlISbr75ZvOcmOeeew79+/fH3LlzkZCQgOzsbOzZswcffPCBXY+3bds2lzwP2fz3aDQa9OrVy2ISbe2kWrHk9+abbyIzMxObNm1C7969632cP/74AxcvXkSrVq2c0m+p8G7Q4qhNzKWE2qRc3g1aHLWJuZTwbtB/O3fuHJKSktCxY0cMHDgQu3fvxubNm3HfffcBAE6dOoWzZ8+a1+/bty9Wr16NDz74AN26dcMXX3yB9evX23WMlhsf97///S/++9//Wj3rc0PJptICXBsjGz16NHr37o0+ffrg7bffRkVFBZKTkwHUTYpvvPEGpk+fjtWrVyMiIsI869nX1xe+vr4oLy9HRkYGHn74YYSGhuLEiRN48cUX0aFDB8TFxTW4f9oyE674O+/5Nha13aCpHXiOEj7Mvzhqu0FTO/AcJacrA9DWk86vgua4G7Q1y5YtE709Nze3zrJHH30Ujz76qEOPp9frMWnSJHz66acwma5t21QqFYYPH45FixbB39+xL0vZVFoAYPjw4ZgzZw6mT5+O7t27Iz8/H5s2bTJPzr0xKS5evBhVVVV45JFH0KpVK/Nlzpw5AK69gL/88gsefPBB3HbbbRg7dix69eqF//73vw4fq0VbSmdDD9CruFBCrdrCh/lnjqJWbfmD0q83cMVFCuPHj8fOnTuxceNGlJSUoKSkBF9//TX27NmD//u//3O4XVlVWgAgJSUFKSkpVm+7MSkWFhaKtuXl5WUez3MmbakRBn/e4FtDrdpC7cBz1CoulHC1RRy1A8+x5u3rr7/G5s2b0a9fP/OyuLg4LF26tFFHnaf10465BLVqC89vkQ9q1Rae3yKOWsWFEq62uNdNN91kdQjI39+/UQdw5dDiIjxMJI5acKGEh4nEUQsuzDYeJmq+Xn31VaSmplocQbeoqAhTp07FtGnTHG5XdsNDckJtmIjaxFxKeJhInKpcBfjRCr5U8DCROD4/UfO0ePFiHD9+HLfccgtuueUWANfmnWq1Wpw/f97igHb79u2zu10OLS5GLbhQwvNbxFELLpTw/BZxHFyY1IYOHQqFC05VwqGlmaFWbeHgIh/KciXQov713IWDC3MUV1tcb8aMGS5pl9bgeRPF81vE8fwW26jNb6GG57fYRm1SLrWzQfP8Ftdq164dLl6sGwxLSkrQrl07h9vlLaKbcHCRD2p7E1ELLspyWv2hhPcmEsfBpfkoLCyE0Vj3e89gMOCPP/5wuF0eHnIjnt9iGw8TieP5LbbxMJE4avNbWNO2YcMG8783b95ssduz0WhETk4O2rZt63D7HFqaMXU5rWoLBxf54MP8i6MWXCihNimX57c4V2JiIgBAoVBg9OjRFrep1WpERERg7ty5DrfPdV43ozZMRA3Pb7GN2jARH79FPniYSBwPEzmPyWSCyWTCLbfcgnPnzpmvm0wmGAwGHD16FPfff7/D7dPaCjYT1IILtYoLJTy/RRy14EIJz28RRy24MOcqKChAy5Ytnd4uDw9JhOe32MbDROJ4fottPEwkjue32ObOYaLqCg2UpsZVBk1XaG8DZs6cKXr79OnTHWqXQwsDwMdvqQ+14EIJz28RRy24UEJxfksr8PwWZ1i3bp3F9erqahQUFMDDwwPt27fn0CJH1KotHFzkg1q1hYOLfFCrtlALLn9ecfxkfuxv+/fvr7NMr9djzJgxGDZsmMPt0hogb4aozW/h47fYxvNbxPH8Ftt4fos4nt/SPOh0OmRkZDTqhIm0tnrNFLXgQgm1vYk4uMgHtb2JOLgwBpSWlqK0tNTh+/PwEKuDh4nE8fwW2ygOE2l9a6TuhhnPb7GN2jARa5yFCxdaXBcEAWfPnsUnn3yCwYMHO9wuhxYieH6LOGrBhRKe3yKupkIDaKXuBU08v4W5yvz58y2uK5VKBAUFYfTo0UhLS3O4XQ4thHBwkQ9q1RYOLvJBrdrCwYW5QkFBgUva5QFxJhs8v0Ucz2+RD57fwpqDkpIS7NmzB3v27EFJSYlT2uStHDHUJuVS25uIg4t8UNubqKaCJ+bKBe9NJG+FhYVISEhAy5YtER0djejoaLRs2RL3338/CgsLG9U2Dw8RxMNE4jRlAAKk7gVNPEwkjo/fYhsPEzFnOH36NO68806o1WpkZmYiKioKAPDrr79i8eLFiImJwe7du9GmTRuH2udKC1HUKi7MNmrVFmrDRNQqLpRQq7ZQGybiiov8zJgxAx07dsSxY8eQlpaGxMREJCYm4pVXXsFvv/2G2267DTNmzHC4fVpbN0YWDxOJ4+AiH3z8FnHUgguTl02bNuH111+Hp6dnndu8vLyQmZmJb775xuH2ectGGLVqC7XgQg214EIJtWoLBxf54GqLvFy4cAERERE2b2/Xrh0uXbrkcPscWojj4MIcRa3awsFFPqhVWzi4yEerVq3w66+/2rz94MGDCA0Ndbh9Wls1ZhW14EIJDxOJ4+AiH9SqLRxcmCMSExPxwgsv4Pz583VuO3fuHF566SUkJiY63D6tLRqTBWrVFg4u4qgFF0qoVVs4uDBXycrKwh133AE/Pz8EBwcjMTERR48eFb3PihUroFAoLC7W5qpcLz09HVevXkX79u3x9NNPY+HChViwYAEmTpyIDh064MqVK5g+fbrDz4N3eZYJ3g1aHB/mXz54N2hx1I6YSwnvBu24H374AZMmTcIdd9yBmpoavPLKKxg0aBB+/fVX+Pj42LyfTqezCDcKhfh2PzAwEDt37sQrr7yC7Oxs80HlAgIC8Nhjj2HWrFlo0aKFw8+DQ4uMcHCRDz7MvzgOLvLBx29pGjZt2mRxfcWKFQgODsbevXtx991327yfQqFo8ByUwMBALF68GO+99555mCgoKKjewGMPrhvLDM9vsY2HicRRGybi+S228TCROJ7f8je9Xm9xMRgMdt2vtLQUAOqtepSXlyM8PBxhYWEYOnQoDh06ZHffFAoFgoODERwc7JTAAnBoYY3E81vEUQsuzDae3yKOWnCRM1WFCqryRl4qroX+sLAw+Pv7my9ZWVn1Pr7JZMLkyZPxj3/8A507d7a5XseOHbF8+XJ8+eWX+Pe//w2TyYS+ffvijz/+cNpr0VA8PCRDPEwkjue32MbDROKoDRPpy70ArdS9oImHia45ffo0dDqd+bpWW/8bZtKkSTh48CB+/PFH0fViYmIQExNjvt63b19ERUXh/fffR2ZmpuOdbgSutMgUtWEiahUXSqhVW3iYSBy1igsl1KotPEx0baLs9Zf6QktKSgq+/vprbNu2rcHn/1Gr1ejRoweOHz/emC43Cq2tF2sQasGFEh4mEkctuDD54OAiT4IgICUlBevWrcP333+Ptm3bNrgNo9GIAwcOoFWrVi7ooX14eIg5DQ8TiVOXA9DVu1qzxMNE4vTlXvD0q5C6G2bU9ihi9Zs0aRJWr16NL7/8En5+figqKgIA+Pv7w8vr2vyppKQk3HzzzeZ5MTNnzsSdd96JDh06oKSkBG+99RZOnjyJcePG2fWYOTk5yMnJwblz52AyWQ5LL1++3KHn0aCfW//73//w2muv4b333sOFCxcsbtPr9XjyyScd6gRzHLVqC7VhImoVF0qoVVt4mEgctYm5lHC1pX6LFy9GaWkpBgwYgFatWpkva9asMa9z6tQpnD171nz98uXLGD9+PKKiojBkyBDo9Xrs2LEDnTp1qvfxMjIyMGjQIOTk5ODChQu4fPmyxcVRdm+1tmzZgj59+iA7OxtvvPEGIiMjsW3bNvPtV65cwcqVKx3uiL0WLVqEiIgIeHp6Ijo6Grt27RJd//PPP0dkZCQ8PT3RpUuXOmeXFAQB06dPR6tWreDl5YXY2FgcO3bMlU/B6Ti4yIeazo9lABxcmON4mEheBEGwehkzZox5ndzcXKxYscJ8ff78+Th58iQMBgOKioqwceNG9OjRw67HW7JkCVasWIGdO3di/fr1WLduncXFUXZvsWbMmIEXXngBBw8eRGFhIV588UU8+OCDdQ5Y40pr1qxBamoq0tPTsW/fPnTr1g1xcXE4d+6c1fV37NiBkSNHYuzYsdi/fz8SExORmJiIgwcPmtd58803sXDhQixZsgQ7d+6Ej48P4uLicPXqVXc9LaegFlwo4WqLOGrBhRKutojj4MJsqaqqQt++fZ3ert1bq0OHDpmHfxQKBV588UW8//77eOSRR/D11187vWPWzJs3D+PHj0dycjI6deqEJUuWwNvb2+bY2IIFCxAfH4+pU6ciKioKmZmZ6NmzJ959910A15Ln22+/jVdffRVDhw5F165d8fHHH+PMmTNYv369W55TU0Wt2kItuFCruFBCrdrCwYWxhhs3bhxWr17t9Hbtnoir1WrN5xCo9dhjj0GpVGL48OGYO3eus/tmoaqqCnv37kVaWpp5mVKpRGxsLPLy8qzeJy8vD6mpqRbL4uLizIGkoKAARUVFiI2NNd/u7++P6Oho5OXlYcSIEVbbNRgMFkcd1Ov1AAC1WgFBwh2yNJUCDDr7H1/jobD46/T+XAGqfV3Utkph8dce2krpJ+ZqlArzXy2hAoe2XIUaP/Hjt2j/OqKl1klHthRV4QGTr3OOJ6P96zOphRJwtOsVnvDwcf/EXIu+X0cj0HnzlJTrEORjmcLVgsrirzsVVdyENl6lDt/fKNA5jpGcXb16FR988AG+++47dO3aFWq12uL2efPmOdSu3aGle/fu2LZtG3r16mWxfMSIERAEAaNHj3aoA/a6cOECjEYjQkJCLJaHhITgyJEjVu9TVFRkdf3aWdO1f8XWsSYrKwsZGRl1lj/5cFt4e3vX/2SIeTah4bu+UTFlQITUXXBIWu8IqbvgsIywdlJ3wSGZLdpL3QWHpWujLBdUS9MPm0qsL04q7efWbpiVOH7XyspKfIAVzupJs/XLL7+ge/fuAGAxJQOo/6SLYuwOLU899RS2b99u9baRI0dCEAQsXbrU4Y7ISVpamkUFR6/XIywsDMv/UwCByOEr7am4aDwUeDahLRZuLEBVjeuGc1xRbdGoFJgyIAJzcwtRZWxY36WstmiUCqT1jkDWnkJUma71u9r2CVYlYaviolUokBHWDumnf4dBcM/wnzOqLVookdmiPaZdOgEDGteeu6stWiiRro1ChuGw1b7rfGmdDbq24qIWVEgq7YeP/X9EtUKa+XaOVluMZVxpcYbrd9RxJrtDy7BhwzBs2DBs27YN99xzT53bH3vsMZSVuW7iQMuWLaFSqVBcXGyxvLi42OYZKENDQ0XXr/1bXFxscbCc4uJic0K0RqvVWj3qYHW1AFMjN4rOUlVjf1CoqhFcGlpQ4rrjt1QZBRgaGFpQIv0wUZXpun7raZ0RuqaeQGIQBLeFFpQpGn/8lr/eegaYcLWxpf9yD0mO32KAyWpoOV+uhb8fneByY0CpVhglCy0FV30dOsy/SUFjG96U1J6rqKFH4LWmwQOjtRNbq6v/rk9euHABDzzwAF5++eVGd8gWjUaDXr16IScnx7zMZDIhJyfH4twI14uJibFYHwC2bt1qXr9t27YIDQ21WEev12Pnzp0225QLansT8cRc+aC2NxFPzJUP3puI1TKZTJg5cyb8/f0RHh6O8PBwBAQEIDMzs86B5hqiwVunbdu2Yd26dbjjjjvw66+/YuPGjejcuTNKS0uRn5/vcEfskZqaiqVLl2LlypU4fPgwnnrqKVRUVCA5ORnAtaP5XT9R97nnnsOmTZswd+5cHDlyBDNmzMCePXuQkpIC4Nq42uTJk/Haa69hw4YNOHDgAJKSktC6dWskJiY2uH/qMloDzRxc5IMP8y+OWnChhNreRBxcGAD861//wrvvvovZs2dj//792L9/P2bNmoV33nkH06ZNc7jdBh/Gv2/fvsjPz8fEiRPRs2dPmEwmZGZm4sUXX2zU5Bp7DB8+HOfPn8f06dNRVFSE7t27Y9OmTeaJtKdOnYJS+ffGtm/fvli9ejVeffVVvPLKK7j11luxfv16i1Nxv/jii6ioqMCECRNQUlKCfv36YdOmTfD09HSoj+rSalT7q+tf0U2onRGaEoqH+ac0TETtjNCUUDvMf2mZF6lhovMVxCZqMbdbuXIlPvzwQzz44IPmZV27dsXNN9+Mp59+Gq+//rpD7Tp07qHffvsNe/bsQZs2bXDmzBkcPXoUlZWV8PFx/Rs1JSXFXCm5UW5ubp1ljz76KB599FGb7SkUCsycORMzZ850VhfJBRdK+PxE4qgFF0r4/ETiqAUXSk5XBjg0v4U57tKlS4iMjKyzPDIyEpcuXXK43QbXgGfPno2YmBjcd999OHjwIHbt2oX9+/eja9euNo+XwqTFw0TieH6LbTxMJI7nt8gHDxO5V7du3cwHcr3eu+++i27dujncboMrLQsWLMD69esxePBgAEDnzp2xa9cuvPLKKxgwYIDFQdeaM2rVFmrDRNQqLpRQq7ZQGyaiVnGhhFq15XyFDwJ89VJ3w4wrLu7z5ptvIiEhAd999515x5a8vDycPn26zjkAG6LBP6MOHDhgDiy11Go13nrrLWzZssXhjjRF6lKemCsX1KotPDFXPqhVW3hiLqOgf//++O233zBs2DCUlJSgpKQEDz30EI4ePYq77rrL4XYbXGlp2bKlaCcZsxe1agvPb5EPatUWnt8iHxSqLSq9Eqqqxv0QMF6l/0OidevWDk+4tcWhibjMfjxMJI6Di3x4lNHaSHJwkY9zFb4I9qFTPqQQXJqiX375BZ07d4ZSqcQvv/wium7Xrl0degwOLW7AwUUcteBCCVdbxFELLpRQq7ZwcGn6unfvjqKiIgQHB6N79+5QKBQQrBw9W6FQwGh07HPLocVNqAUXZhu1agu14OJRpoSBg4JV1KotHFyYOxUUFCAoKMj8b1egVe9lbkNtUi7vBi2O2sRcSng3aHHUJuZSwrtBO1d4eLj5ILMnT57EzTffbD6Ef+3l5ptvxsmTJx1+DA4tbkRubyI9nd1YAQ4uckJtbyIOLvJBbW8iDi6ucc8991g9iFxpaanVky7bi9aWpxmgFlyYfFCrtnBwkQ9q1RYOLk2fIAhWT+1z8eLFRh09n+e0SIDnt9hGbVIuz28RR+3Ac5Tw/BZxPL+laXrooYcAXJtsO2bMGGi1WvNtRqMRv/zyC/r27etw+xxaGLR6E6q8KQUFDi5iqAUXSqjtTcTBRT54byLn8Pf3B3Ct0uLn5wcvr7+rfBqNBnfeeSfGjx/vcPscWiRCrdrCu0EzR1GrtnBwkQ9q1ZbTlQG4GY6fzI8BH330EQAgIiICL7zwgtNPpExrULqZoTa/hdoeRZRQm5TL81vE8fwW23h+i7g/r+qk7kKTkJ6e7vTAAnClRXLUKi6UUKu28DCROGoVF0qoVVuoDRNRq7gw5/jiiy/w2Wef4dSpU6iqsnz/79u3z6E2af08YpKjVm3h3aCZo6hVW6jtBk2t4sKaloULFyI5ORkhISHYv38/+vTpg5tuugm///57nZMuNwSHFgJ4mEgcteBCCQ8TiePgIh/UholY47z33nv44IMP8M4770Cj0eDFF1/E1q1b8eyzz6K0tNThdmltYZoxDi7yQa3awsFFnLKcVn8ooVZt4eDSdJw6dcq8a7OXlxfKyq5tOJ944gl8+umnDrfLn2ZCqAUXSqhVWzi4MEdRq7ZwcGGuEBoaaj4i7i233IKff/4ZwLVzElk7iaK9OLQwm6hVWzi4yAe1ags1HFxYU3fvvfdiw4YNAIDk5GQ8//zzuO+++zB8+HAMGzbM4XZ5y0IMtWoLBxf5oFZtoRZcqA0TUQsulHC1xfmysrJwxx13wM/PD8HBwUhMTMTRo0frvd/nn3+OyMhIeHp6okuXLvjmm2/serwPPvgA//rXvwAAkyZNwvLlyxEVFYWZM2di8eLFDj8PWp9iBoCDi5xQq7ZwcGGOolZt4eDiXD/88AMmTZqEn3/+GVu3bkV1dTUGDRqEiooKm/fZsWMHRo4cibFjx2L//v1ITExEYmIiDh48WO/jKZVKeHj8fVSVESNGYOHChXjmmWeg0Tge2HmLQhS14EIJtWoLBxf54L2JxHFwabo2bdqEMWPG4Pbbb0e3bt2wYsUKnDp1Cnv37rV5nwULFiA+Ph5Tp05FVFQUMjMz0bNnT7z77rv1Pl6HDh0wY8YM/Pbbb858GhxamH2oVVvU5Rxc5IJatYWDizhqwYWJ0+v1FheDwWDX/Wp3O27RooXNdfLy8hAbG2uxLC4uDnl5efW2P2nSJGzcuBFRUVG44447sGDBAhQVFdnVNzG0tibMArVqC7XgwmyjVm3h4MIc1RSrLeqKa5/RRl3+GtUJCwuDv7+/+ZKVlVXv45tMJkyePBn/+Mc/0LlzZ5vrFRUVISQkxGJZSEiIXeHj+eefx+7du3H48GEMGTIEixYtQlhYGAYNGoSPP/643vvbQmtLwurg4CIf1KotHFzkg6st4ppicHGW06dPo7S01HxJS0ur9z6TJk3CwYMHkZ2d7fL+3XbbbcjIyMBvv/2G//73vzh//jySk5Mdbo/PPSQDfH4i29TlAgyEtq98fiL54LNBi+PzE8mDTqeDTmf/SR5TUlLw9ddfY/v27WjTpo3ouqGhoSguLrZYVlxcjNDQ0Ab1cdeuXVi9ejXWrFkDvV6PRx99tEH3vx7/9GENRq3awhNz5YNatYXaMBG1igtrOgRBQEpKCtatW4fvv/8ebdu2rfc+MTExyMnJsVi2detWxMTE1Hvf3377Denp6bjtttvwj3/8A4cPH8Ybb7yB4uLiRlV4uNIiE9SqLdpSIwz+dDb41M4ITQm1agu1s0FTq7hQwtWWpmPSpElYvXo1vvzyS/j5+Znnpfj7+8PL61q5OikpCTfffLN5Xsxzzz2H/v37Y+7cuUhISEB2djb27NmDDz74oN7Hi4yMxB133IFJkyZhxIgRdebGOIpDi4xwcJEPHiYSRy24UMLDROI4uDim9oBuAwYMsFj+0UcfYcyYMQCunS9Iqfy7Gtq3b1+sXr0ar776Kl555RXceuutWL9+vejk3VpHjx7Frbfe6rT+1+LQIjPUggsl1KotHFzkg1q1hYMLczZ7zveTm5tbZ9mjjz7q0BwUVwQWgEMLayRq1RYOLvJBrdpCMbhofWuk7gZJXG2hqUWLFvjtt9/QsmVLBAYGQqGwvS2uPZliQ3FokSFq1RYOLvJBrdrCwUU+qFVbOLjQM3/+fPj5+Zn/LRZaHMWhRaY4uMgHtWoLBxf5qKnQAFqpe/E3Di5MzOjRo83/rp0n42y09j9kDULtwHOU8G7Q4qgdeI4SartBU0PtwHOMJpVKhXPnztVZfvHiRahUjn/GOLQwp+Hjt4ijFlwo4eO3iKup4OO32MJHy6XJ1sRfg8HQqLM88/CQzPEwkTie32IbDxOJ4/kttvEwEbNl4cKFAACFQoEPP/wQvr5/b2SMRiO2b9+OyMhIh9uXTWi5dOkSnnnmGXz11VdQKpV4+OGHsWDBAosX5Mb109PTsWXLFpw6dQpBQUFITExEZmYm/P39zetZmyj06aefYsSIES57Ls7GwUU+qFVbOLjIB+8GLY6DCw3z588HcK3SsmTJEouhII1Gg4iICCxZssTh9mUTWkaNGoWzZ89i69atqK6uRnJyMiZMmIDVq1dbXf/MmTM4c+YM5syZg06dOuHkyZOYOHEizpw5gy+++MJi3Y8++gjx8fHm6wEBAa58Ki5BLbhQwtUWcdSCCyXUqi0cXBh1BQUFAIB77rkHa9euRWBgoFPbl0VoOXz4MDZt2oTdu3ejd+/eAIB33nkHQ4YMwZw5c9C6des69+ncuTP+85//mK+3b98er7/+Oh5//HHU1NTAw+Pvpx4QENDgE0AxcdSqLdSCi6YMMHhL3QuaqFVbOLjIB1db6Ni2bZtL2pVFaMnLy0NAQIA5sABAbGwslEoldu7ciWHDhtnVTmlpKXQ6nUVgAa6dk2HcuHFo164dJk6ciOTkZNH9yw0GAwwGg/m6Xq8HAHh4KCHl3GbNFSOqdfZXW9RqxXV/nd9vTaUAg841r4fGQ2Hx1677XAGqfaUNLhqVwvxXSyfTQXsFqPapZx2lwuKvS/tTrkKNn3OCi/avz7K2MceMqPCAydf9QUr71+dSCyVwXfc9CO1DcbXMBzpfy2qLRlBa/HWnknIdgnwqHG/AjiPHsvo9/PDD6NOnD1566SWL5W+++SZ2796Nzz//3KF2ZRFaioqKEBwcbLHMw8MDLVq0MJ/0qT4XLlxAZmYmJkyYYLF85syZuPfee+Ht7Y0tW7bg6aefRnl5OZ599lmbbWVlZSEjI6PO8qTkW+HtLb+fzxNHtJe6Cw57NqH+M5VSNGVAhNRdcNi0qAipu+CQjLB2UnfBYZktiH9GbRx9IbWmp3v7UavE8btWVlbiK7zjtK40V9u3b8eMGTPqLB88eDDmzp3rcLuShpaXX34Zb7zxhug6hw8fbvTj6PV6JCQkoFOnTnVexGnTppn/3aNHD1RUVOCtt94SDS1paWlITU21aD8sLAwff3QMgPS7JtpbbVGrFZg4oj2WZJ9AdbXrfl24otqi8VDg2YS2WLixAFU1Deu7lNUWjUqBKQMiMDe3EFXGa/2mdOA5wHbFRatUYFpUBDIPF8Jgcs+vUWdUW7QKBTLC2iH99O8wNPJXtLurLVookdmiPaZdOgED6j62hw+tYaLaiotGUCK1pifmeexDlUKaoT6Hqy0efOoEZygvL7e6a7NarTaPTjhC0tAyZcqUeo+a165dO4SGhtY5SE1NTQ0uXbpU71yUsrIyxMfHw8/PD+vWrYNaLf6FHh0djczMTBgMBmi11g9FqdVqrd5WU2OCyURgLP6Cwc5JudfCRHW1gKpq1/VbcdHksvktVTVCg0MLSqSf31JlFGD4K7SghFZwqe+tYDAJbgstKFU4bX6LQRAaHVpQpnDv/Ja/3qYGmHBVsPI6lHuQmt9yY0CpUpgkCy1/Vno5Nr9FQWf+kpx16dIFa9aswfTp0y2WZ2dno1OnTg63K2loCQoKQlBQUL3rxcTEoKSkBHv37kWvXr0AAN9//z1MJhOio6Nt3k+v1yMuLg5arRYbNmyAp6dnvY+Vn5+PwMBAm4FFLqjtTcQTc+WD2t5EPDFXPqjtTUR1Yq6mHFA1Mmsa6WRVq6ZNm4aHHnoIJ06cwL333gsAyMnJwaeffurwfBZAJkfEjYqKQnx8PMaPH49du3bhp59+QkpKCkaMGGHec+jPP/9EZGQkdu3aBeBaYBk0aBAqKiqwbNky6PV6FBUVoaioCEbjtQ3OV199hQ8//BAHDx7E8ePHsXjxYsyaNQvPPPOMQ/1UlV51zhN2Ej7Mv3xQPH4LJdSOmEtJdbn0Q9LXo3aYfz5irjQeeOABrF+/HsePH8fTTz+NKVOm4I8//sB3332HxMREh9uVxURcAFi1ahVSUlIwcOBA88Hlao+8BwDV1dU4evQoKisrAQD79u3Dzp07AQAdOnSwaKugoAARERFQq9VYtGgRnn/+eQiCgA4dOmDevHkYP368w/1UX76C6kBaH1oquNoijk+sKB/Uqi3UdoPWl3uROtEjk0ZCQgISEhLqLD948CA6d+7sUJuyCS0tWrSweSA5AIiIiLA418GAAQNsnvugVnx8vMVB5ZoiHiYSx8FFPniYSBy14EIJ1WGi5qSsrAyffvopPvzwQ+zdu9c84tFQXHN1AfVlOmO6AL1hImonVmS28TCROGonVmS28TCRNLZv346kpCS0atUKc+bMwb333ouff/7Z4fZkU2mRG2rDRNQqLpRwtUUctWEiahUXSqhVW/TlXvD0a8SB3pyMKy7uUVRUhBUrVpjnk/7zn/+EwWDA+vXrG7XnEMCVFpeiVnGhhFq1RVNG6yiYPDFXPqhVW3hiLpPSAw88gI4dO+KXX37B22+/jTNnzuCdd5x3sD4OLc0IDxOJoxZcmG08TCSOWnChhIeJXOvbb7/F2LFjkZGRgYSEBIuzPDsDrU9+E0St2sLBRT7IVVvoVPkBcHCRE2rVFg4urvPjjz+irKwMvXr1QnR0NN59911cuHDBae3T+tQ3URxc5INatYVacKGGWnChhFq1hYNL83DnnXdi6dKlOHv2LP7v//4P2dnZaN26NUwmE7Zu3YqyssZt1PgT7ybUggsl1KotHFyYo6hVWzi4MKn4+PjgySefxI8//ogDBw5gypQpmD17NoKDg/Hggw863C6HlmaKWrWFg4t88DCROA4u8sHVFvfo2LEj3nzzTfzxxx/49NNPG9UWrU97E0et2qLWc3CRC2rVFmp7E3FwkQ9q1RYOLu6jUqmQmJiIDRs2ONwGrU96M0AtuDDbqFVbOLgwR1GrtnBwYY7i0CIBDi62Uau2cHCRD662iOPgwpoCWp9yJgkeJhJHLbhQQq3awsFFHLXgQglXW+SB1ie8GaFWbeGJufJBrdrCwYU5ilq1pSkHl+3bt+OBBx5A69atoVAosH79etH1c3NzoVAo6lyKiorc02Eb+NMtIQ4u8kGt2sLBRT642iKOWnC5UOkjdRdcoqKiAt26dcOiRYsadL+jR4/i7Nmz5ktwcLCLemgfPmGixKidWJESbakRBn86G3w+saJ8UDupoqpcBaMvneohtRMrlpZ5wd+P1o+4pmbw4MEYPHhwg+8XHByMgIAA53fIQVxpYRaoVVuoDRNRq7hQQq3aQm2YiFrFhTUNer3e4mIwGJzafvfu3dGqVSvcd999+Omnn5zatiNofaqbKR4mEkctuFDCw0TiqAUXSniYSDqaMsEpFwAICwuDv7+/+ZKVleWUPrZq1QpLlizBf/7zH/znP/9BWFgYBgwYgH379jmlfUfx8BAR1IaJ1KXVqPZXS90NkniYSJy6HKhuuvMZG4WHicTxMFHDnT59Gjqdznxdq9U6pd2OHTuiY8eO5ut9+/bFiRMnMH/+fHzyySdOeQxH8M8QQqhVXCihVm2hNkxEreJCiUcZrc0ctWEiahUX1jA6nc7i4qzQYk2fPn1w/Phxl7VvD1qfZkYKDxOJoxZcKKE2TEQNteBCSXMaJpKb/Px8tGrVStI+8PAQMTxMJI7aHkWU8DCROI8yJQyEhmYo4WGipq+8vNyiSlJQUID8/Hy0aNECt9xyC9LS0vDnn3/i448/BgC8/fbbaNu2LW6//XZcvXoVH374Ib7//nts2bJFqqcAgEMLSRxc5IPnt4ijFlwo4fkt4ji4ONeePXtwzz33mK+npqYCAEaPHo0VK1bg7NmzOHXqlPn2qqoqTJkyBX/++Se8vb3RtWtXfPfddxZtSIFDC1HUggsl2lIjhJvovHU5uMgHH79FHLXgwpxnwIABEATbQ9orVqywuP7iiy/ixRdfdHGvGo7ntDC7kJvfoqfzxQPw/BYx1Oa3UNsNmue32MbzW9iNaH16mQVqexNRCy7MNmp7E3FwkQ9qexNxcGHX408ucRxc5INatYWDi3xQq7ZwcGFUcWhhssbDROKoBRdKqFVbOLgwVj9an1pmFVdbxPHxW+SDWrWFg4t8cLWFARxaZIODizhqwYUSatUWDi7yQa3awsGF8adVRqgFF2YbtWoLBxf5oFZt4eDCKOHQwhzG1RZxHFzkg1q1hYMLY9bR+qSyelGrtnBwEUctuFBCrdrCwUU+uNrSfNH6lDK7cHBhjqJWbeHgIh/Uqi0cXJon/oTKFLXgQglXW8RxcJEPZTmtTTQHFyY1Wp8IJlvUqi0cXMRRCy6UcLVFHLXgwpoX/nTKGLVqCwcX5ihq1RZqwYVaxYUSrrY0L3ROlcscQu1s0OrSalT7q6XuBkmaMgEI4LNB26IuB6p9pe7F36idEZoSameDLi3zgr8frR9xYjR6IzzUjftRVVPdPH+UcXxvAqhVXCihVm1Rl/MwkRhqFRdKqO1NRG2YiCsuzYNsQsulS5cwatQo6HQ6BAQEYOzYsSgvF9/CDRgwAAqFwuIyceJEi3VOnTqFhIQEeHt7Izg4GFOnTkVNTY0rn0qTx8NErKmgNkzEwYU1d7IZHho1ahTOnj2LrVu3orq6GsnJyZgwYQJWr14ter/x48dj5syZ5uve3t7mfxuNRiQkJCA0NBQ7duzA2bNnkZSUBLVajVmzZrnsubgCDxOJ05YaYfCntcGngoeJxFEbJlKVq2D05SBujdyGiVjDySK0HD58GJs2bcLu3bvRu3dvAMA777yDIUOGYM6cOWjdurXN+3p7eyM0NNTqbVu2bMGvv/6K7777DiEhIejevTsyMzPx0ksvYcaMGdBorP+KMBgMMBgM5ut6vR4AoFYrAJV0v8zUlQbUBNgfXNRqpcVfZ9NcMaJa55rgolYrrvtrX/8FD+nnk2j+6oPPVQCe0venlray/uCiUSos/rq0P1eAah8ntfVXf7WN6Le2XIUaP/cHF61CYfG3lklBqAJU4QkPH8v5Ldq/PpNaCYr5V8t8oPN1PLgoBUKvLatDIQgCrUF2K5YvX44pU6bg8uXL5mU1NTXw9PTE559/jmHDhlm934ABA3Do0CEIgoDQ0FA88MADmDZtmrnaMn36dGzYsAH5+fnm+xQUFKBdu3bYt28fevToYbXdGTNmICMjo87y1atXW1RyGGOMyUtlZSUee+wxlJaWQqfTObVtvV4Pf39/xAyeCQ+1Z6Paqqm+irxvp7ukn5TJotJSVFSE4OBgi2UeHh5o0aIFioqKbN7vscceQ3h4OFq3bo1ffvkFL730Eo4ePYq1a9ea2w0JCbG4T+11sXbT0tKQmppqvq7X6xEWFobVC34BTNKP8dpbbVGrlRg7oSOWfXAU1dWu+xXpimqLWq3AxBHtsST7BKqrG5a7DTrpfklpPBR4NqEtFm4sQFXNtX5X+9KpuIhVWzRKBdJ6RyBrTyGqTO75reOMaotWqcC0qAhkHi6EoZH9dne1RatQICOsHdJP/w6Dld+XJl86w1YAzBUXLZRI10Yhw3AYBkjTR0erLUoPWnPymCVJQ8vLL7+MN954Q3Sdw4cPO9z+hAkTzP/u0qULWrVqhYEDB+LEiRNo3769w+1qtVpotdo6y6urBaCGwEakuKJB81uqq02oqnJhvy8YXDC/5VrwqK4WUNXAwKW4aJJ8fktVjWAOLVWUpieU1D9MVGUSYDC6qUCrd978FoNJaHRoQalCkvktBkGwGlpQpiA1v0V9Q0AxwCRZaDlfrnVofotSQWAbzmySNLRMmTIFY8aMEV2nXbt2CA0Nxblz5yyW19TU4NKlSzbnq1gTHR0NADh+/Djat2+P0NBQ7Nq1y2Kd4uJiAGhQuxTxxFz50JQJqPKjU23hibnMUXz8FuZqkoaWoKAgBAUF1bteTEwMSkpKsHfvXvTq1QsA8P3338NkMpmDiD1q5660atXK3O7rr7+Oc+fOmYeftm7dCp1Oh06dOjXw2QCKknIIvoENvp+rUAsulFDbm4iDi3zw3kTiqss10PrSOWwEB5emRRbTpKOiohAfH4/x48dj165d+Omnn5CSkoIRI0aY9xz6888/ERkZaa6cnDhxApmZmdi7dy8KCwuxYcMGJCUl4e6770bXrl0BAIMGDUKnTp3wxBNP4H//+x82b96MV199FZMmTbI6/GMPxWViR+sihI/fIo7a+YkooXbQOT5+i7iaCunn9rGmidYnT8SqVasQGRmJgQMHYsiQIejXrx8++OAD8+3V1dU4evQoKisrAQAajQbfffcdBg0ahMjISEyZMgUPP/wwvvrqK/N9VCoVvv76a6hUKsTExODxxx9HUlKSxXFd5I7a0XI5uMgHHy1XHLXgwmzjo+U2HbLYewgAWrRoIXoguYiICFy/93ZYWBh++OGHetsNDw/HN99845Q+1lJcLoMQSKe2Tm2YiOe32MbDROJ4fott1IaJqOFhoqaBfyq4CLVhImoVF0qoVVuoDRNRq7hQQq3awsNE4rjiIn+0PnFNDLXgQgkPE4mjFlwo4WEicdSCC2POROvTxlyKWrWFg4t8UKu2cHCRD2onVeRqi7zxJ83FqFVbOLjIB7VqCwcX+aBWbeHgwpyFQ4sbcHCRD2rVFmrBhdlGrdrCwYVdb/v27XjggQfQunVrKBQKrF+/vt775ObmomfPntBqtejQoQNWrFjh8n7Wh9anrAmjFlwooVZt4eAiH9SqLRxc5KO5VVsqKirQrVs3LFq0yK71CwoKkJCQgHvuuQf5+fmYPHkyxo0bh82bN7u4p+Jks8szcy715StAiBPORuck1HaDpnbEXEo0ZYCB0MnMqe0GTe2IuZTwYf6lM3jwYAwePNju9ZcsWYK2bdti7ty5AK4d5PXHH3/E/PnzERcX56pu1ovWz4Imjlq1xaOE1oeVWsWFEmrVFp7fIh/Uqi3UhonkXnHR6/UWF4PB4JR28/LyEBsba7EsLi4OeXl5TmnfURxa3IxacGG28TCROGrBhRIeJhJHLbi4m1pfDXVpIy/6az/ywsLC4O/vb75kZWU5pY9FRUUICQmxWBYSEgK9Xo8rV6T7wcvDQxKgdsRcSniYSBy1I+ZSwsNE4viIubbJeZjo9OnT0Ol05uuOnjdPLmj9HGCS4GEicdQqLpRQq7ZQGyaiVnGhhFq1Ra7DRDqdzuLirNASGhqK4uJii2XFxcXQ6XTw8pLuteJPlESoDRNR2w2aWnChhIeJxFELLpTwMJE4uQYXV4iJiUFOTo7Fsq1btyImJkaiHl3DoUVCHFzkg1q1hYOLfFCrtnBwEVdW7il1F1yivLwc+fn5yM/PB3Btl+b8/HycOnUKAJCWloakpCTz+hMnTsTvv/+OF198EUeOHMF7772Hzz77DM8//7wU3Tej9Wli7DrUqi0cXOSDWrWFgwuT2p49e9CjRw/06NEDAJCamooePXpg+vTpAICzZ8+aAwwAtG3bFhs3bsTWrVvRrVs3zJ07Fx9++KGkuzsDPBFXctQm5aovX0F1IJ0SKU/MlQ9NGVBF563ME3NlhNrxW5qiAQMGQBBs/9CxdrTbAQMGYP/+/S7sVcPRiv/NFA8TiaNWcaGEWrWF2jARtYoLJdSqLdSGiRhNHFqIoBZcmG08TCSOWnChhIeJxHFwYfWh9QliZHC1RRwHF/lQV0jdA0scXBhzHK1PTzNHrdrCwUUcteBCCVdbxFELLpRwtYWJ4U8OMRxcmKOoVVuoBRdqFRdKqFVbOLgwWzi0EEQtuFDC1RZxHFzkg1q1hYMLkwNanxpGErVqCwcXcdSCCyXU9ibi4MJYw9D6xDAzatUWcsFFTyu4MNuoVVs4uMgHV1vYjfjTQhgHF/ngaos4Di7yQa3awsGFXY9DC3HUgguzjYOLOGrBhRJq1RYOLowqWp8URh61agu1YSJqwYXZRq3awsGFsfrR+pQwq6hVW8gFF2ITcynhaos4Di7ywdUWBnBokQ0OLvJBrdrCwUUcteBCCbVqCwcXxmd5lhFqZ4SmhM8GLU5TJqDKTyF1N5gdqJ0NWlWugtGXThBvCmeEVpdchYeqcT8mFEaDk3ojL1xpYQ6jVm2hNkxEreJCCVdbxFEbJqJWcWHNF61PBqsXDxOJoxZcKOFhInEcXOSDh4maL/5UyBAHF/mgVm3h4MIcRa3awsGleeLQIlPUggsl1KotHFzkg1y1pYzWJpqDC5MarU8Eky1q1RYOLvJBrdpCLbhQQy24sOaFQ4uMUau2cHCRD2rVFg4uzFFcbWleOLTIHAcX+aBWbeHgIh88TCSOg0vzQeuTwBxCLbhQQq3aotXTOf4GQC+4UEKt2kJtbyIOLkwKtD4FIi5duoRRo0ZBp9MhICAAY8eORXm57a1KYWEhFAqF1cvnn39uXs/a7dnZ2e54Sk0WtWoLteDCbKNWbeHgwhgtsvkEjBo1CocOHcLWrVvx9ddfY/v27ZgwYYLN9cPCwnD27FmLS0ZGBnx9fTF48GCLdT/66COL9RITE138bJyPWrWFg4t8UKu2cHCRD662MHeTxWH8Dx8+jE2bNmH37t3o3bs3AOCdd97BkCFDMGfOHLRu3brOfVQqFUJDQy2WrVu3Dv/85z/h6+trsTwgIKDOunJE7TD/6stXUB3oJXU3SNLqTajypnNYfWqH+deUAVV03sqk8GH+xTWFw/wz22QRWvLy8hAQEGAOLAAQGxsLpVKJnTt3YtiwYfW2sXfvXuTn52PRokV1bps0aRLGjRuHdu3aYeLEiUhOToZCYXsDbjAYYDD8fd4HvV4PAFBrVYBK4l8eVyohBPjWvx4AtUZp8dcVFC5qW61WWvy1h+aKEdU6ac9PpFYrzH/9KgUYdHSKnZorQLWv7fe9RqWw+OtqCid9lDRKhcVfR2ivANU+zulPgx73rz5rb+i7tlyFGj86wQUVHjD5/t0f7V9FfC2UgARZ2KMRgwiNuS9zPVmElqKiIgQHB1ss8/DwQIsWLVBUVGRXG8uWLUNUVBT69u1rsXzmzJm499574e3tjS1btuDpp59GeXk5nn32WZttZWVlISMjo87ykdPuhLe3t139oWT01O5Sd8FhYyd0lLoLDpk4or3UXXDYlAERUnfBIWm9I6TugsOmRUVI3QWHZLaQ3/u80liJx6TuBLNJ0tDy8ssv44033hBd5/Dhw41+nCtXrmD16tWYNm1anduuX9ajRw9UVFTgrbfeEg0taWlpSE1NNV/X6/UICwvDp5k/AzU0cqA91Ra1RonRU7tj5Vv5qK5y7a+2mgDnDhOp1UqMndARyz44iurqhvddqoqLWq3AxBHtsST7BKqrr80loVRtAWxXWzQqBaYMiMDc3EJUGd03D6axw0QapQJpvSOQtacQVabG99udFRetUoFpURHIPFwIg5W+k6q2AOZqixZKZLZoj2mXTsAA6fro4dPwYSIPAw8tUSbpN+yUKVMwZswY0XXatWuH0NBQnDt3zmJ5TU0NLl26ZNdclC+++AKVlZVISkqqd93o6GhkZmbCYDBAq9VaXUer1Vq9rdpgBKqJzAsoKrV7fkt1lQnVBhdvWIorXDK/pbrahCoHApcjQcc5lH89voCqv/qguGiCwZ/QhMYS8fktVUYBBjeGFpQ4Z35Llck5/ZbirWMwCVZDC0oVpOa3oExxbX7LX28fA0y4KkjYv3KPBs9vMUoYslj9JP2JFxQUhMjISNGLRqNBTEwMSkpKsHfvXvN9v//+e5hMJkRHR9f7OMuWLcODDz6IoKCgetfNz89HYGCgzcAixnS5pMH3cSVqexRRQm1vIj7wnHxQ25uI2m7Q1PYoYpYWLVqEiIgIeHp6Ijo6Grt27bK57ooVK+ocEsTT09ONva2L1rvdhqioKMTHx2P8+PHYtWsXfvrpJ6SkpGDEiBHmPYf+/PNPREZG1vkPOH78OLZv345x48bVaferr77Chx9+iIMHD+L48eNYvHgxZs2ahWeeecYtz6u54d2gxVELLpTwbtDiqAUXSng36L+tWbMGqampSE9Px759+9CtWzfExcXVGcm4nk6nszgkyMmTJ93Y47pk805ftWoVIiMjMXDgQAwZMgT9+vXDBx98YL69uroaR48eRWVlpcX9li9fjjZt2mDQoEF12lSr1Vi0aBFiYmLQvXt3vP/++5g3bx7S09Md7qfp4iWH7+sK1KotHFzkg1q1hYOLfCjLaX21cHC5Zt68eRg/fjySk5PRqVMnLFmyBN7e3li+fLnN+ygUCoSGhpovISEhbuxxXTRmjdqhRYsWWL16tc3bIyIiIAh1N7KzZs3CrFmzrN4nPj4e8fHxTutjLdPFS1De1MLp7TqKj98iH9pSI6n5LXz8FvmgdvwWaprq8VtqD7lRy9acy6qqKuzduxdpaWnmZUqlErGxscjLy7PZfnl5OcLDw2EymdCzZ0/MmjULt99+u/OeQAPRisNNCLWKC7ONWrWF2jARtYoLJdSqLdSGiahVXKhQlJRBcbmRl5JrpcewsDD4+/ubL1lZWVYf88KFCzAajXUqJSEhITYPHdKxY0csX74cX375Jf7973/DZDKhb9+++OOPP5z7gjSAbCotrHG42iJOXVqNan9pDzx3PWoVF0qoVVvU5UC1fcdzdAuuuNjWFKstp0+fhk6nM193ZCcSW2JiYhATE2O+3rdvX0RFReH9999HZmam0x6nITgGuxC1agvPbxFHreJCCbVqC89vkQ9qexM1tfktOp3O4mIrtLRs2RIqlQrFxcUWy4uLi+0+jY1arUaPHj1w/PjxRvfbURxaXIyDC3MUtWEidTkHF7mgNkzEwUV6Go0GvXr1Qk5OjnmZyWRCTk6ORTVFjNFoxIEDB9CqVStXdbNetN7ZTRS14EIJV1vEUQsuzDZq1RYOLuxGqampWLp0KVauXInDhw/jqaeeQkVFBZKTkwEASUlJFhN1Z86ciS1btuD333/Hvn378Pjjj+PkyZNWDyHiLjynpRni+S3ieH6LfPD8FnE8v8W2pji/pT7Dhw/H+fPnMX36dBQVFaF79+7YtGmTeXLuqVOnoFT+HXYvX76M8ePHo6ioCIGBgejVqxd27NiBTp06SfUUOLS4C8XdoBHqL3U3zKgFF2abulyAgdB/FQcX+VCVq64d5p+I5hhcUlJSkJKSYvW23Nxci+vz58/H/Pnz3dAr+9GqHzZx1IaJFCXE6tmE8DCROJ6YKx88TCSuOc5vkTNa7+ZmgFpwoYTnt4jj4CIfPL9FHLXgwuSD1juZNXscXJijqFVbOLjIB1db5IPfxRKgVm2hNkxELbhQwtUWcRxc5INatYWDizxwaJEIueDCx2+xiVq1hYOLOGrBhRJq1RYOLqyhaL2DmxlqwYUSatUWDi7MUdSqLRxcxNVUcnChjNa7l0mKWrWFg4t8cLVFHAcXxpyD37kSo1Zt4eAiH9SqLRxcxFELLpRQq7Ywuji0EMDBRT6oVVs4uDBHUau2cHBh9qD1rm3GqAUXSqhVWzi4yAdXW8RxcGFyQ+sdy8igVm3h4CIf1KotHFzEUQsujInhdysh1KotHFzkg1q1hVpwYfLB1RYmhkMLMRxc5INatYWDi3xwtUUcBxdmC5/lmSBqZ4SmhNrZoNWl1aj2V0vdDTNtqREGf97gW6MpAwzeUvfib9TOBu2hV6JGZ5K6G2bUzgjtTKZLl2FSNO54MCaheZ2duhateM1IolZtoTZMRK3iQgm1agvPb2FM3ji0EMXDROI8SmgFF0p4mEgcteBCCQ8TMepovUOZBQ4u8kGt2sLBRT6oVVs4uDDKaL07WR3UgguzjYOLfFCrtnBwYcw+/M5kDUKt2kJtmIhacKGEWrWFg4t8cLWF1eLQIgPUqi3Uggu1ibmUUKu2cHCRD2rVFg4uDODQIhscXOSDWrWFg4t8UKu2cHBh1NB6RzJR1IILJdSqLRxc5INatYWDC2O28buROYxatYWDi3xQq7ZwcJEPrrY0bxxaZIZatYWDi3xQq7ZwcJEPatUWDi7NF613IrMLBxf5oFZt4eAiH9SqLRxcGAW03oXMbtSCCyXUqi0cXOSDWrVFXSF1DyxRCy6s+eF3IHMKatUWDi7yQa3aQi24MNu42tL8cGiRMWrVFg4u8kGt2sLBRT6oVVs4uDQvtN59rME4uMgHtWoLBxf54GEicRxcmg9a7zzGnIxatUWt5+AiF9SqLTwxlzEZhZbXX38dffv2hbe3NwICAuy6jyAImD59Olq1agUvLy/Exsbi2LFjFutcunQJo0aNgk6nQ0BAAMaOHYvycmJbh3pwtUUcteDCbKNWbeHgIh9cbbHPokWLEBERAU9PT0RHR2PXrl2i63/++eeIjIyEp6cnunTpgm+++cZNPbVONqGlqqoKjz76KJ566im77/Pmm29i4cKFWLJkCXbu3AkfHx/ExcXh6tWr5nVGjRqFQ4cOYevWrfj666+xfft2TJgwwRVPwaU4uIjj4GIbtWoLBxf5oFZt4eAibs2aNUhNTUV6ejr27duHbt26IS4uDufOnbO6/o4dOzBy5EiMHTsW+/fvR2JiIhITE3Hw4EE39/xvtN5xIjIyMvD888+jS5cudq0vCALefvttvPrqqxg6dCi6du2Kjz/+GGfOnMH69esBAIcPH8amTZvw4YcfIjo6Gv369cM777yD7OxsnDlzxoXPxjWoBRdmGw8TiaMWXCihVm3h4CIf8+bNw/jx45GcnIxOnTphyZIl8Pb2xvLly62uv2DBAsTHx2Pq1KmIiopCZmYmevbsiXfffdfNPf+bh2SP7GIFBQUoKipCbGyseZm/vz+io6ORl5eHESNGIC8vDwEBAejdu7d5ndjYWCiVSuzcuRPDhg2z2rbBYIDBYDBfLy0tvfYPjck1T6Yh1DX2r+shoLKyEvCoAdTO/9JSlF+GEODr9HYBAErFtb4rqwAP+77g1GXVMPp7uqY/dlNe6zeqoC0zodpPLXF//uZVChj8bH8BKU3XXnOlyQClyfWhQmVUOKUdpfBXv2sMUDnYb68SoNpFb2Ux5te82gCP6/ruUQJUe7u/P7Z4XABqfP/e/nkorvXb46oBRsH9AVTp4fi22ONKFYBrP3xdpUZo/I+W2jb0er3Fcq1WC61WW2f9qqoq7N27F2lpaeZlSqUSsbGxyMvLs/oYeXl5SE1NtVgWFxdn/uEvhSYbWoqKigAAISEhFstDQkLMtxUVFSE4ONjidg8PD7Ro0cK8jjVZWVnIyMios3xL8aeN7XbjXW7Y6l89ttA1/XCDrx+TugeO2bRV6h44bvtKqXvgmLzFUvfAcTJ9m8u237UuXrwIf39/p7ap0WgQGhqK7UVrndKer68vwsLCLJalp6djxowZdda9cOECjEaj1e/EI0eOWG2/qKhI9DtUCpKGlpdffhlvvPGG6DqHDx9GZGSkm3pkn7S0NIv0WVJSgvDwcJw6dcrpb3JX0uv1CAsLw+nTp6HT6aTuToPIte9y7Tcg377Ltd+AfPsu134D1yrnt9xyC1q0aOH0tj09PVFQUICqqiqntCcIAhQKy4qktSpLUyJpaJkyZQrGjBkjuk67du0cajs0NBQAUFxcjFatWpmXFxcXo3v37uZ1bpyAVFNTg0uXLpnvb42t8pu/v7/sPqAAoNPpZNlvQL59l2u/Afn2Xa79BuTbd7n2G7g2dOIKnp6e8PR0/zB1y5YtoVKpUFxcbLG8uLjY5vddaGhog9Z3B0lnUAUFBSEyMlL0otFoHGq7bdu2CA0NRU5OjnmZXq/Hzp07ERMTAwCIiYlBSUkJ9u7da17n+++/h8lkQnR0dOOeHGOMMUaERqNBr169LL4TTSYTcnJyzN+JN4qJibFYHwC2bt1qc313oDXtW8SpU6eQn5+PU6dOwWg0Ij8/H/n5+RbHVImMjMS6desAAAqFApMnT8Zrr72GDRs24MCBA0hKSkLr1q2RmJgIAIiKikJ8fDzGjx+PXbt24aeffkJKSgpGjBiB1q1bS/E0GWOMMZdITU3F0qVLsXLlShw+fBhPPfUUKioqkJycDABISkqymKj73HPPYdOmTZg7dy6OHDmCGTNmYM+ePUhJSZHqKQCCTIwePVoAUOeybds28zoAhI8++sh83WQyCdOmTRNCQkIErVYrDBw4UDh69KhFuxcvXhRGjhwp+Pr6CjqdTkhOThbKysoa1LerV68K6enpwtWrVxvzFN1Orv0WBPn2Xa79FgT59l2u/RYE+fZdrv0WBHn33R7vvPOOcMsttwgajUbo06eP8PPPP5tv69+/vzB69GiL9T/77DPhtttuEzQajXD77bcLGzdudHOPLSkEQYL90RhjjDHGGkg2w0OMMcYYa944tDDGGGNMFji0MMYYY0wWOLQwxhhjTBY4tNjh9ddfR9++feHt7Y2AgAC77iMIAqZPn45WrVrBy8sLsbGxOHbsmMU6ly5dwqhRo6DT6RAQEICxY8da7MLdWA1tv7CwEAqFwurl888/N69n7fbs7Gyn9duRvgPAgAED6vRr4sSJFuucOnUKCQkJ8Pb2RnBwMKZOnYqamgacr8nJ/b506RKeeeYZdOzYEV5eXrjlllvw7LPP/n0+q7+44jV39inq7XnPO0tD+r506VLcddddCAwMRGBgIGJjY+usP2bMmDqvb3x8vKT9XrFiRZ0+3XhQMqqvubXPokKhQEJCgnkdd7zm27dvxwMPPIDWrVtDoVDYdc6c3Nxc9OzZE1qtFh06dMCKFSvqrNPQzw5zIkn3XZKJ6dOnC/PmzRNSU1MFf39/u+4ze/Zswd/fX1i/fr3wv//9T3jwwQeFtm3bCleuXDGvEx8fL3Tr1k34+eefhf/+979Chw4dhJEjRzqt3w1tv6amRjh79qzFJSMjQ/D19bXYDRx/7Vp+/XrXPy8p+i4I13bXGz9+vEW/SktLLZ5f586dhdjYWGH//v3CN998I7Rs2VJIS0uTrN8HDhwQHnroIWHDhg3C8ePHhZycHOHWW28VHn74YYv1nP2aZ2dnCxqNRli+fLlw6NAhYfz48UJAQIBQXFxsdf2ffvpJUKlUwptvvin8+uuvwquvviqo1WrhwIED5nXsec87Q0P7/thjjwmLFi0S9u/fLxw+fFgYM2aM4O/vL/zxxx/mdUaPHi3Ex8dbvL6XLl2StN8fffSRoNPpLPpUVFRksQ7V1/zixYsW/T548KCgUqksDknhjtf8m2++Ef71r38Ja9euFQAI69atE13/999/F7y9vYXU1FTh119/Fd555x1BpVIJmzZtMq/T0NeCOReHlgb46KOP7AotJpNJCA0NFd566y3zspKSEkGr1QqffvqpIAiC8OuvvwoAhN27d5vX+fbbbwWFQiH8+eefje6rs9rv3r278OSTT1oss+fD3xiO9r1///7Cc889Z/P2b775RlAqlRYb/sWLFws6nU4wGAyS9ftGn332maDRaITq6mrzMme/5n369BEmTZpkvm40GoXWrVsLWVlZVtf/5z//KSQkJFgsi46OFv7v//5PEAT73vNS9f1GNTU1gp+fn7By5UrzstGjRwtDhw51aj9v1NB+17e9kdNrPn/+fMHPz08oLy83L3PHa349ez5DL774onD77bdbLBs+fLgQFxdnvt7Y14I1Dg8PuUBBQQGKiooQGxtrXubv74/o6GjzKcDz8vIQEBCA3r17m9eJjY2FUqnEzp07G90HZ7S/d+9e5OfnY+zYsXVumzRpElq2bIk+ffpg+fLlTj2Ne2P6vmrVKrRs2RKdO3dGWloaKisrLdrt0qWLxVlL4+LioNfrcejQIUn7fb3S0lLodDp4eFieGsxZr3ntKeqvf3/ac4r669cHrr12tevb8553Bkf6fqPKykpUV1fXOSFebm4ugoOD0bFjRzz11FO4ePGi5P0uLy9HeHg4wsLCMHToUIv3qZxe82XLlmHEiBHw8fGxWO7K19wR9b3PnfFasMaR9ISJTVXtabvFTuldVFSE4OBgi9s9PDzQokULp5z22xntL1u2DFFRUejbt6/F8pkzZ+Lee++Ft7c3tmzZgqeffhrl5eV49tlnG93vxvT9scceQ3h4OFq3bo1ffvkFL730Eo4ePYq1a9ea27X2f1J7m1T9vt6FCxeQmZmJCRMmWCx35mvuilPU2/OedwZH+n6jl156Ca1bt7b44omPj8dDDz2Etm3b4sSJE3jllVcwePBg5OXlQaVSSdLvjh07Yvny5ejatStKS0sxZ84c9O3bF4cOHUKbNm1k85rv2rULBw8exLJlyyyWu/o1d4St97ler8eVK1dw+fLlRr//WOM029Dy8ssv44033hBd5/Dhw4iMjHRTj+xjb78b68qVK1i9ejWmTZtW57brl/Xo0QMVFRV466236v0CdXXfr/+i79KlC1q1aoWBAwfixIkTaN++vcPtuus11+v1SEhIQKdOnTBjxgyL2xx9zZml2bNnIzs7G7m5uRaTWkeMGGH+d5cuXdC1a1e0b98eubm5GDhwoBRdRUxMjMWJ6fr27YuoqCi8//77yMzMlKRPjli2bBm6dOmCPn36WCyn+Joz+pptaJkyZQrGjBkjuk67du0carv2tN3FxcVo1aqVeXlxcTG6d+9uXufcuXMW96upqcGlS5dET/ttb78dbb/WF198gcrKSiQlJdW7bnR0NDIzM2EwGKDVaiXv+/X9AoDjx4+jffv2CA0NrTPLv/a061K/5mVlZYiPj4efnx/WrVsHtVotur69r7k1rjhFvT3veWdwpO+15syZg9mzZ+O7775D165dRddt164dWrZsiePHjzvlC7Qx/a6lVqvRo0cPHD9+HIA8XvOKigpkZ2dj5syZ9T6Os19zR9h6n+t0Onh5eUGlUjX6/5E1ktSTauSkoRNx58yZY15WWlpqdSLunj17zOts3rzZ6RNxHW2/f//+dfZgseW1114TAgMDHe7rjZz12vz4448CAOF///ufIAh/T8S9fpb/+++/L+h0OqecHM3RfpeWlgp33nmn0L9/f6GiosKux2rsa96nTx8hJSXFfN1oNAo333yz6ETc+++/32JZTExMnYm4Yu95Z2lo3wVBEN544w1Bp9MJeXl5dj3G6dOnBYVCIXz55ZeN7m8tR/p9vZqaGqFjx47C888/LwgC/ddcEK5tM7VarXDhwoV6H8MVr/n1YOdE3M6dO1ssGzlyZJ2JuI35f2SNw6HFDidPnhT2799v3v13//79wv79+y12A+7YsaOwdu1a8/XZs2cLAQEBwpdffin88ssvwtChQ63u8tyjRw9h586dwo8//ijceuutTt/lWaz9P/74Q+jYsaOwc+dOi/sdO3ZMUCgUwrffflunzQ0bNghLly4VDhw4IBw7dkx47733BG9vb2H69OlO67cjfT9+/Lgwc+ZMYc+ePUJBQYHw5ZdfCu3atRPuvvtu831qd3keNGiQkJ+fL2zatEkICgpy+i7PDel3aWmpEB0dLXTp0kU4fvy4xe6fNTU1giC45jXPzs4WtFqtsGLFCuHXX38VJkyYIAQEBJj3rHriiSeEl19+2bz+Tz/9JHh4eAhz5swRDh8+LKSnp1vd5bm+97wzNLTvs2fPFjQajfDFF19YvL61n9+ysjLhhRdeEPLy8oSCggLhu+++E3r27CnceuutTj3Tb0P7nZGRIWzevFk4ceKEsHfvXmHEiBGCp6encOjQIYvnRvE1r9WvXz9h+PDhdZa76zUvKyszb68BCPPmzRP2798vnDx5UhAEQXj55ZeFJ554wrx+7S7PU6dOFQ4fPiwsWrTI6i7PYq8Fcy0OLXYYPXq0AKDOZdu2beZ18NdxNGqZTCZh2rRpQkhIiKDVaoWBAwcKR48etWj34sWLwsiRIwVfX19Bp9MJycnJFkGoseprv6CgoM7zEARBSEtLE8LCwgSj0VinzW+//Vbo3r274OvrK/j4+AjdunUTlixZYnVdd/b91KlTwt133y20aNFC0Gq1QocOHYSpU6daHKdFEAShsLBQGDx4sODl5SW0bNlSmDJlisWuxe7u97Zt26y+twAIBQUFgiC47jV39inq7XnPO0tD+h4eHm719U1PTxcEQRAqKyuFQYMGCUFBQYJarRbCw8OF8ePHu+RLqCH9njx5snndkJAQYciQIcK+ffss2qP6mguCIBw5ckQAIGzZsqVOW+56zW19vmr7Onr0aKF///517tO9e3dBo9EI7dq1s9iu1xJ7LZhrKQTBifuqMsYYY4y5CB+nhTHGGGOywKGFMcYYY7LAoYUxxhhjssChhTHGGGOywKGFMcYYY7LAoYUxxhhjssChhTHGGGOywKGFMcYYY7LAoYUxxhhjssChhTFml7Nnz+Kxxx7DbbfdBqVSicmTJ0vdJcZYM8OhhTFmF4PBgKCgILz66qvo1q2b1N1hjDVDHFoYYwCA8+fPIzQ0FLNmzTIv27FjBzQaDXJychAREYEFCxYgKSkJ/v7+EvaUMdZceUjdAcYYDUFBQVi+fDkSExMxaNAgdOzYEU888QRSUlIwcOBAqbvHGGMcWhhjfxsyZAjGjx+PUaNGoXfv3vDx8UFWVpbU3WKMMQA8PMQYu8GcOXNQU1ODzz//HKtWrYJWq5W6S4wxBoBDC2PsBidOnMCZM2dgMplQWFgodXcYY8yMh4cYY2ZVVVV4/PHHMXz4cHTs2BHjxo3DgQMHEBwcLHXXGGOMQwtj7G//+te/UFpaioULF8LX1xfffPMNnnzySXz99dcAgPz8fABAeXk5zp8/j/z8fGg0GnTq1EnCXjPGmguFIAiC1J1gjEkvNzcX9913H7Zt24Z+/foBAAoLC9GtWzfMnj0bTz31FBQKRZ37hYeH8zASY8wtOLQwxhhjTBZ4Ii5jjDHGZIFDC2OMMcZkgUMLY4wxxmSBQwtjjDHGZIFDC2OMMcZkgUMLY4wxxmSBQwtjjDHGZIFDC2OMMcZkgUMLY4wxxmSBQwtjjDHGZIFDC2OMMcZk4f8B8lu8WPXInkcAAAAASUVORK5CYII=\n"
                },
                "metadata": {}
              }
            ]
          }
        },
        "ab501d7bc511477897fe76a05d5db803": {
          "model_module": "@jupyter-widgets/base",
          "model_name": "LayoutModel",
          "model_module_version": "1.2.0",
          "state": {
            "_model_module": "@jupyter-widgets/base",
            "_model_module_version": "1.2.0",
            "_model_name": "LayoutModel",
            "_view_count": null,
            "_view_module": "@jupyter-widgets/base",
            "_view_module_version": "1.2.0",
            "_view_name": "LayoutView",
            "align_content": null,
            "align_items": null,
            "align_self": null,
            "border": null,
            "bottom": null,
            "display": null,
            "flex": null,
            "flex_flow": null,
            "grid_area": null,
            "grid_auto_columns": null,
            "grid_auto_flow": null,
            "grid_auto_rows": null,
            "grid_column": null,
            "grid_gap": null,
            "grid_row": null,
            "grid_template_areas": null,
            "grid_template_columns": null,
            "grid_template_rows": null,
            "height": null,
            "justify_content": null,
            "justify_items": null,
            "left": null,
            "margin": null,
            "max_height": null,
            "max_width": null,
            "min_height": null,
            "min_width": null,
            "object_fit": null,
            "object_position": null,
            "order": null,
            "overflow": null,
            "overflow_x": null,
            "overflow_y": null,
            "padding": null,
            "right": null,
            "top": null,
            "visibility": null,
            "width": null
          }
        },
        "deac01dd1ef34fa78873e6f2f4993b41": {
          "model_module": "@jupyter-widgets/base",
          "model_name": "LayoutModel",
          "model_module_version": "1.2.0",
          "state": {
            "_model_module": "@jupyter-widgets/base",
            "_model_module_version": "1.2.0",
            "_model_name": "LayoutModel",
            "_view_count": null,
            "_view_module": "@jupyter-widgets/base",
            "_view_module_version": "1.2.0",
            "_view_name": "LayoutView",
            "align_content": null,
            "align_items": null,
            "align_self": null,
            "border": null,
            "bottom": null,
            "display": null,
            "flex": null,
            "flex_flow": null,
            "grid_area": null,
            "grid_auto_columns": null,
            "grid_auto_flow": null,
            "grid_auto_rows": null,
            "grid_column": null,
            "grid_gap": null,
            "grid_row": null,
            "grid_template_areas": null,
            "grid_template_columns": null,
            "grid_template_rows": null,
            "height": null,
            "justify_content": null,
            "justify_items": null,
            "left": null,
            "margin": null,
            "max_height": null,
            "max_width": null,
            "min_height": null,
            "min_width": null,
            "object_fit": null,
            "object_position": null,
            "order": null,
            "overflow": null,
            "overflow_x": null,
            "overflow_y": null,
            "padding": null,
            "right": null,
            "top": null,
            "visibility": null,
            "width": null
          }
        },
        "81c9be1388c94f0a999570558cfd54ca": {
          "model_module": "@jupyter-widgets/controls",
          "model_name": "SliderStyleModel",
          "model_module_version": "1.5.0",
          "state": {
            "_model_module": "@jupyter-widgets/controls",
            "_model_module_version": "1.5.0",
            "_model_name": "SliderStyleModel",
            "_view_count": null,
            "_view_module": "@jupyter-widgets/base",
            "_view_module_version": "1.2.0",
            "_view_name": "StyleView",
            "description_width": "",
            "handle_color": null
          }
        },
        "1264761eb190434587e1df94ec414098": {
          "model_module": "@jupyter-widgets/base",
          "model_name": "LayoutModel",
          "model_module_version": "1.2.0",
          "state": {
            "_model_module": "@jupyter-widgets/base",
            "_model_module_version": "1.2.0",
            "_model_name": "LayoutModel",
            "_view_count": null,
            "_view_module": "@jupyter-widgets/base",
            "_view_module_version": "1.2.0",
            "_view_name": "LayoutView",
            "align_content": null,
            "align_items": null,
            "align_self": null,
            "border": null,
            "bottom": null,
            "display": null,
            "flex": null,
            "flex_flow": null,
            "grid_area": null,
            "grid_auto_columns": null,
            "grid_auto_flow": null,
            "grid_auto_rows": null,
            "grid_column": null,
            "grid_gap": null,
            "grid_row": null,
            "grid_template_areas": null,
            "grid_template_columns": null,
            "grid_template_rows": null,
            "height": null,
            "justify_content": null,
            "justify_items": null,
            "left": null,
            "margin": null,
            "max_height": null,
            "max_width": null,
            "min_height": null,
            "min_width": null,
            "object_fit": null,
            "object_position": null,
            "order": null,
            "overflow": null,
            "overflow_x": null,
            "overflow_y": null,
            "padding": null,
            "right": null,
            "top": null,
            "visibility": null,
            "width": null
          }
        },
        "992f3ba19312450284690052486fdea4": {
          "model_module": "@jupyter-widgets/controls",
          "model_name": "SliderStyleModel",
          "model_module_version": "1.5.0",
          "state": {
            "_model_module": "@jupyter-widgets/controls",
            "_model_module_version": "1.5.0",
            "_model_name": "SliderStyleModel",
            "_view_count": null,
            "_view_module": "@jupyter-widgets/base",
            "_view_module_version": "1.2.0",
            "_view_name": "StyleView",
            "description_width": "",
            "handle_color": null
          }
        },
        "279f4b581b434f438c013ef219aff27c": {
          "model_module": "@jupyter-widgets/base",
          "model_name": "LayoutModel",
          "model_module_version": "1.2.0",
          "state": {
            "_model_module": "@jupyter-widgets/base",
            "_model_module_version": "1.2.0",
            "_model_name": "LayoutModel",
            "_view_count": null,
            "_view_module": "@jupyter-widgets/base",
            "_view_module_version": "1.2.0",
            "_view_name": "LayoutView",
            "align_content": null,
            "align_items": null,
            "align_self": null,
            "border": null,
            "bottom": null,
            "display": null,
            "flex": null,
            "flex_flow": null,
            "grid_area": null,
            "grid_auto_columns": null,
            "grid_auto_flow": null,
            "grid_auto_rows": null,
            "grid_column": null,
            "grid_gap": null,
            "grid_row": null,
            "grid_template_areas": null,
            "grid_template_columns": null,
            "grid_template_rows": null,
            "height": null,
            "justify_content": null,
            "justify_items": null,
            "left": null,
            "margin": null,
            "max_height": null,
            "max_width": null,
            "min_height": null,
            "min_width": null,
            "object_fit": null,
            "object_position": null,
            "order": null,
            "overflow": null,
            "overflow_x": null,
            "overflow_y": null,
            "padding": null,
            "right": null,
            "top": null,
            "visibility": null,
            "width": null
          }
        },
        "955a15456cb24d53a639457fc904759a": {
          "model_module": "@jupyter-widgets/controls",
          "model_name": "SliderStyleModel",
          "model_module_version": "1.5.0",
          "state": {
            "_model_module": "@jupyter-widgets/controls",
            "_model_module_version": "1.5.0",
            "_model_name": "SliderStyleModel",
            "_view_count": null,
            "_view_module": "@jupyter-widgets/base",
            "_view_module_version": "1.2.0",
            "_view_name": "StyleView",
            "description_width": "",
            "handle_color": null
          }
        },
        "985191fe9b054f9285dd9c96a15db855": {
          "model_module": "@jupyter-widgets/base",
          "model_name": "LayoutModel",
          "model_module_version": "1.2.0",
          "state": {
            "_model_module": "@jupyter-widgets/base",
            "_model_module_version": "1.2.0",
            "_model_name": "LayoutModel",
            "_view_count": null,
            "_view_module": "@jupyter-widgets/base",
            "_view_module_version": "1.2.0",
            "_view_name": "LayoutView",
            "align_content": null,
            "align_items": null,
            "align_self": null,
            "border": null,
            "bottom": null,
            "display": null,
            "flex": null,
            "flex_flow": null,
            "grid_area": null,
            "grid_auto_columns": null,
            "grid_auto_flow": null,
            "grid_auto_rows": null,
            "grid_column": null,
            "grid_gap": null,
            "grid_row": null,
            "grid_template_areas": null,
            "grid_template_columns": null,
            "grid_template_rows": null,
            "height": null,
            "justify_content": null,
            "justify_items": null,
            "left": null,
            "margin": null,
            "max_height": null,
            "max_width": null,
            "min_height": null,
            "min_width": null,
            "object_fit": null,
            "object_position": null,
            "order": null,
            "overflow": null,
            "overflow_x": null,
            "overflow_y": null,
            "padding": null,
            "right": null,
            "top": null,
            "visibility": null,
            "width": null
          }
        },
        "37660e5a6a4e4f05953d661c7b4e779c": {
          "model_module": "@jupyter-widgets/controls",
          "model_name": "DescriptionStyleModel",
          "model_module_version": "1.5.0",
          "state": {
            "_model_module": "@jupyter-widgets/controls",
            "_model_module_version": "1.5.0",
            "_model_name": "DescriptionStyleModel",
            "_view_count": null,
            "_view_module": "@jupyter-widgets/base",
            "_view_module_version": "1.2.0",
            "_view_name": "StyleView",
            "description_width": ""
          }
        },
        "6d280d37299644899e8db944fdf8bacd": {
          "model_module": "@jupyter-widgets/base",
          "model_name": "LayoutModel",
          "model_module_version": "1.2.0",
          "state": {
            "_model_module": "@jupyter-widgets/base",
            "_model_module_version": "1.2.0",
            "_model_name": "LayoutModel",
            "_view_count": null,
            "_view_module": "@jupyter-widgets/base",
            "_view_module_version": "1.2.0",
            "_view_name": "LayoutView",
            "align_content": null,
            "align_items": null,
            "align_self": null,
            "border": null,
            "bottom": null,
            "display": null,
            "flex": null,
            "flex_flow": null,
            "grid_area": null,
            "grid_auto_columns": null,
            "grid_auto_flow": null,
            "grid_auto_rows": null,
            "grid_column": null,
            "grid_gap": null,
            "grid_row": null,
            "grid_template_areas": null,
            "grid_template_columns": null,
            "grid_template_rows": null,
            "height": null,
            "justify_content": null,
            "justify_items": null,
            "left": null,
            "margin": null,
            "max_height": null,
            "max_width": null,
            "min_height": null,
            "min_width": null,
            "object_fit": null,
            "object_position": null,
            "order": null,
            "overflow": null,
            "overflow_x": null,
            "overflow_y": null,
            "padding": null,
            "right": null,
            "top": null,
            "visibility": null,
            "width": null
          }
        }
      }
    }
  },
  "nbformat": 4,
  "nbformat_minor": 5
}