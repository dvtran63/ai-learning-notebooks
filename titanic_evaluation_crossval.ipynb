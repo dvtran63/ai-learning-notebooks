{
  "cells": [
    {
      "cell_type": "markdown",
      "metadata": {
        "id": "view-in-github",
        "colab_type": "text"
      },
      "source": [
        "<a href=\"https://colab.research.google.com/github/dvtran63/ai-learning-notebooks/blob/main_b1/titanic_evaluation_crossval.ipynb\" target=\"_parent\"><img src=\"https://colab.research.google.com/assets/colab-badge.svg\" alt=\"Open In Colab\"/></a>"
      ]
    },
    {
      "cell_type": "markdown",
      "id": "91462dfa",
      "metadata": {
        "id": "91462dfa"
      },
      "source": [
        "# 🚢 Titanic Dataset: Model Evaluation & Cross-Validation\n",
        "\n",
        "In this notebook, you'll:\n",
        "- Load and clean the Titanic dataset\n",
        "- Train models (Decision Tree, KNN)\n",
        "- Evaluate them using cross-validation and classification metrics"
      ]
    },
    {
      "cell_type": "markdown",
      "id": "933373f2",
      "metadata": {
        "id": "933373f2"
      },
      "source": [
        "## 📥 Load Titanic Dataset"
      ]
    },
    {
      "cell_type": "code",
      "execution_count": 2,
      "id": "8f14b3c8",
      "metadata": {
        "id": "8f14b3c8"
      },
      "outputs": [],
      "source": [
        "import seaborn as sns\n",
        "import pandas as pd\n",
        "\n",
        "df = sns.load_dataset('titanic')\n",
        "df = df.dropna(subset=['age', 'embarked', 'fare', 'sex'])\n",
        "\n",
        "df['sex'] = df['sex'].map({'male': 0, 'female': 1})\n",
        "df['embarked'] = df['embarked'].map({'S': 0, 'C': 1, 'Q': 2})\n",
        "\n",
        "features = ['pclass', 'sex', 'age', 'fare', 'embarked']\n",
        "X = df[features]\n",
        "y = df['survived']"
      ]
    },
    {
      "cell_type": "markdown",
      "id": "550dd17d",
      "metadata": {
        "id": "550dd17d"
      },
      "source": [
        "## 🔍 Train/Test Split and Scaling"
      ]
    },
    {
      "cell_type": "code",
      "execution_count": 3,
      "id": "8fbc5775",
      "metadata": {
        "id": "8fbc5775"
      },
      "outputs": [],
      "source": [
        "from sklearn.model_selection import train_test_split\n",
        "from sklearn.preprocessing import StandardScaler\n",
        "\n",
        "X_train, X_test, y_train, y_test = train_test_split(X, y, random_state=42)\n",
        "\n",
        "scaler = StandardScaler()\n",
        "X_train = scaler.fit_transform(X_train)\n",
        "X_test = scaler.transform(X_test)"
      ]
    },
    {
      "cell_type": "markdown",
      "id": "6e3dd019",
      "metadata": {
        "id": "6e3dd019"
      },
      "source": [
        "## 🌳 Decision Tree: Evaluation"
      ]
    },
    {
      "cell_type": "code",
      "execution_count": 4,
      "id": "40199d31",
      "metadata": {
        "colab": {
          "base_uri": "https://localhost:8080/"
        },
        "id": "40199d31",
        "outputId": "209cc2c1-0675-4fa2-9046-7764b0c6d29c"
      },
      "outputs": [
        {
          "output_type": "stream",
          "name": "stdout",
          "text": [
            "Decision Tree Confusion Matrix:\n",
            "[[86 13]\n",
            " [42 37]]\n",
            "\n",
            "Classification Report:\n",
            "              precision    recall  f1-score   support\n",
            "\n",
            "           0       0.67      0.87      0.76        99\n",
            "           1       0.74      0.47      0.57        79\n",
            "\n",
            "    accuracy                           0.69       178\n",
            "   macro avg       0.71      0.67      0.67       178\n",
            "weighted avg       0.70      0.69      0.68       178\n",
            "\n"
          ]
        }
      ],
      "source": [
        "from sklearn.tree import DecisionTreeClassifier\n",
        "from sklearn.metrics import classification_report, confusion_matrix\n",
        "\n",
        "tree = DecisionTreeClassifier(max_depth=4, random_state=42)\n",
        "tree.fit(X_train, y_train)\n",
        "y_pred_tree = tree.predict(X_test)\n",
        "\n",
        "print(\"Decision Tree Confusion Matrix:\")\n",
        "print(confusion_matrix(y_test, y_pred_tree))\n",
        "print(\"\\nClassification Report:\")\n",
        "print(classification_report(y_test, y_pred_tree))"
      ]
    },
    {
      "cell_type": "markdown",
      "id": "010fcc58",
      "metadata": {
        "id": "010fcc58"
      },
      "source": [
        "## 🌀 KNN: Evaluation"
      ]
    },
    {
      "cell_type": "code",
      "execution_count": 5,
      "id": "2acaf1f6",
      "metadata": {
        "colab": {
          "base_uri": "https://localhost:8080/"
        },
        "id": "2acaf1f6",
        "outputId": "0f1f8cf8-810f-4335-d596-33668712859a"
      },
      "outputs": [
        {
          "output_type": "stream",
          "name": "stdout",
          "text": [
            "KNN Confusion Matrix:\n",
            "[[86 13]\n",
            " [27 52]]\n",
            "\n",
            "Classification Report:\n",
            "              precision    recall  f1-score   support\n",
            "\n",
            "           0       0.76      0.87      0.81        99\n",
            "           1       0.80      0.66      0.72        79\n",
            "\n",
            "    accuracy                           0.78       178\n",
            "   macro avg       0.78      0.76      0.77       178\n",
            "weighted avg       0.78      0.78      0.77       178\n",
            "\n"
          ]
        }
      ],
      "source": [
        "from sklearn.neighbors import KNeighborsClassifier\n",
        "\n",
        "knn = KNeighborsClassifier(n_neighbors=5)\n",
        "knn.fit(X_train, y_train)\n",
        "y_pred_knn = knn.predict(X_test)\n",
        "\n",
        "print(\"KNN Confusion Matrix:\")\n",
        "print(confusion_matrix(y_test, y_pred_knn))\n",
        "print(\"\\nClassification Report:\")\n",
        "print(classification_report(y_test, y_pred_knn))"
      ]
    },
    {
      "cell_type": "markdown",
      "id": "1bd72735",
      "metadata": {
        "id": "1bd72735"
      },
      "source": [
        "## 🔁 Cross-Validation on Entire Dataset"
      ]
    },
    {
      "cell_type": "code",
      "execution_count": 13,
      "id": "40b796c6",
      "metadata": {
        "colab": {
          "base_uri": "https://localhost:8080/"
        },
        "id": "40b796c6",
        "outputId": "3afbd22b-912f-482f-e4cc-255fcfc5f069"
      },
      "outputs": [
        {
          "output_type": "stream",
          "name": "stdout",
          "text": [
            "Tree CV scores: [0.74825175 0.79020979 0.80985915 0.78169014 0.81690141]\n",
            "Tree CV accuracy: 0.789382448537378\n",
            "\n",
            "KNN CV scores: [0.58741259 0.66433566 0.66901408 0.64788732 0.72535211]\n",
            "KNN CV accuracy: 0.6588003545750024\n"
          ]
        }
      ],
      "source": [
        "from sklearn.model_selection import cross_val_score\n",
        "\n",
        "tree_cv_scores = cross_val_score(tree, X, y, cv=5, scoring='accuracy')\n",
        "knn_cv_scores = cross_val_score(knn, X, y, cv=5, scoring='accuracy')\n",
        "\n",
        "print(\"Tree CV scores:\", tree_cv_scores)\n",
        "print(\"Tree CV accuracy:\", tree_cv_scores.mean())\n",
        "print(\"\\nKNN CV scores:\", knn_cv_scores)\n",
        "print(\"KNN CV accuracy:\", knn_cv_scores.mean())"
      ]
    }
  ],
  "metadata": {
    "colab": {
      "provenance": [],
      "include_colab_link": true
    },
    "language_info": {
      "name": "python"
    },
    "kernelspec": {
      "name": "python3",
      "display_name": "Python 3"
    }
  },
  "nbformat": 4,
  "nbformat_minor": 5
}