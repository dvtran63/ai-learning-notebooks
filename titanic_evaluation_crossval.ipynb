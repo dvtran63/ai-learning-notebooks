{
 "cells": [
  {
   "cell_type": "markdown",
   "id": "91462dfa",
   "metadata": {},
   "source": [
    "# 🚢 Titanic Dataset: Model Evaluation & Cross-Validation\n",
    "\n",
    "In this notebook, you'll:\n",
    "- Load and clean the Titanic dataset\n",
    "- Train models (Decision Tree, KNN)\n",
    "- Evaluate them using cross-validation and classification metrics"
   ]
  },
  {
   "cell_type": "markdown",
   "id": "933373f2",
   "metadata": {},
   "source": [
    "## 📥 Load Titanic Dataset"
   ]
  },
  {
   "cell_type": "code",
   "execution_count": null,
   "id": "8f14b3c8",
   "metadata": {},
   "outputs": [],
   "source": [
    "import seaborn as sns\n",
    "import pandas as pd\n",
    "\n",
    "df = sns.load_dataset('titanic')\n",
    "df = df.dropna(subset=['age', 'embarked', 'fare', 'sex'])\n",
    "\n",
    "df['sex'] = df['sex'].map({'male': 0, 'female': 1})\n",
    "df['embarked'] = df['embarked'].map({'S': 0, 'C': 1, 'Q': 2})\n",
    "\n",
    "features = ['pclass', 'sex', 'age', 'fare', 'embarked']\n",
    "X = df[features]\n",
    "y = df['survived']"
   ]
  },
  {
   "cell_type": "markdown",
   "id": "550dd17d",
   "metadata": {},
   "source": [
    "## 🔍 Train/Test Split and Scaling"
   ]
  },
  {
   "cell_type": "code",
   "execution_count": null,
   "id": "8fbc5775",
   "metadata": {},
   "outputs": [],
   "source": [
    "from sklearn.model_selection import train_test_split\n",
    "from sklearn.preprocessing import StandardScaler\n",
    "\n",
    "X_train, X_test, y_train, y_test = train_test_split(X, y, random_state=42)\n",
    "\n",
    "scaler = StandardScaler()\n",
    "X_train = scaler.fit_transform(X_train)\n",
    "X_test = scaler.transform(X_test)"
   ]
  },
  {
   "cell_type": "markdown",
   "id": "6e3dd019",
   "metadata": {},
   "source": [
    "## 🌳 Decision Tree: Evaluation"
   ]
  },
  {
   "cell_type": "code",
   "execution_count": null,
   "id": "40199d31",
   "metadata": {},
   "outputs": [],
   "source": [
    "from sklearn.tree import DecisionTreeClassifier\n",
    "from sklearn.metrics import classification_report, confusion_matrix\n",
    "\n",
    "tree = DecisionTreeClassifier(max_depth=4, random_state=42)\n",
    "tree.fit(X_train, y_train)\n",
    "y_pred_tree = tree.predict(X_test)\n",
    "\n",
    "print(\"Decision Tree Confusion Matrix:\")\n",
    "print(confusion_matrix(y_test, y_pred_tree))\n",
    "print(\"\\nClassification Report:\")\n",
    "print(classification_report(y_test, y_pred_tree))"
   ]
  },
  {
   "cell_type": "markdown",
   "id": "010fcc58",
   "metadata": {},
   "source": [
    "## 🌀 KNN: Evaluation"
   ]
  },
  {
   "cell_type": "code",
   "execution_count": null,
   "id": "2acaf1f6",
   "metadata": {},
   "outputs": [],
   "source": [
    "from sklearn.neighbors import KNeighborsClassifier\n",
    "\n",
    "knn = KNeighborsClassifier(n_neighbors=5)\n",
    "knn.fit(X_train, y_train)\n",
    "y_pred_knn = knn.predict(X_test)\n",
    "\n",
    "print(\"KNN Confusion Matrix:\")\n",
    "print(confusion_matrix(y_test, y_pred_knn))\n",
    "print(\"\\nClassification Report:\")\n",
    "print(classification_report(y_test, y_pred_knn))"
   ]
  },
  {
   "cell_type": "markdown",
   "id": "1bd72735",
   "metadata": {},
   "source": [
    "## 🔁 Cross-Validation on Entire Dataset"
   ]
  },
  {
   "cell_type": "code",
   "execution_count": null,
   "id": "40b796c6",
   "metadata": {},
   "outputs": [],
   "source": [
    "from sklearn.model_selection import cross_val_score\n",
    "\n",
    "tree_cv_scores = cross_val_score(tree, X, y, cv=5, scoring='accuracy')\n",
    "knn_cv_scores = cross_val_score(knn, X, y, cv=5, scoring='accuracy')\n",
    "\n",
    "print(\"Tree CV scores:\", tree_cv_scores)\n",
    "print(\"Tree CV accuracy:\", tree_cv_scores.mean())\n",
    "print(\"\\nKNN CV scores:\", knn_cv_scores)\n",
    "print(\"KNN CV accuracy:\", knn_cv_scores.mean())"
   ]
  }
 ],
 "metadata": {},
 "nbformat": 4,
 "nbformat_minor": 5
}
