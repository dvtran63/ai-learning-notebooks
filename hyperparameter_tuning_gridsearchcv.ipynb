{
 "cells": [
  {
   "cell_type": "markdown",
   "id": "68f36d41",
   "metadata": {},
   "source": [
    "# 🧪 Hyperparameter Tuning with GridSearchCV\n",
    "\n",
    "In this notebook, we'll explore how to tune hyperparameters for:\n",
    "- K-Nearest Neighbors (KNN)\n",
    "- Decision Tree\n",
    "using `GridSearchCV` from `sklearn.model_selection`."
   ]
  },
  {
   "cell_type": "markdown",
   "id": "752ba3ce",
   "metadata": {},
   "source": [
    "## 📥 Load and Prepare Iris Dataset"
   ]
  },
  {
   "cell_type": "code",
   "execution_count": null,
   "id": "dbf42164",
   "metadata": {},
   "outputs": [],
   "source": [
    "from sklearn.datasets import load_iris\n",
    "from sklearn.model_selection import train_test_split\n",
    "from sklearn.preprocessing import StandardScaler\n",
    "\n",
    "iris = load_iris()\n",
    "X, y = iris.data, iris.target\n",
    "\n",
    "X_train, X_test, y_train, y_test = train_test_split(X, y, random_state=42)\n",
    "\n",
    "scaler = StandardScaler()\n",
    "X_train = scaler.fit_transform(X_train)\n",
    "X_test = scaler.transform(X_test)"
   ]
  },
  {
   "cell_type": "markdown",
   "id": "9dde4f8c",
   "metadata": {},
   "source": [
    "## 🔍 Grid Search: KNN Hyperparameter Tuning"
   ]
  },
  {
   "cell_type": "code",
   "execution_count": null,
   "id": "94f75806",
   "metadata": {},
   "outputs": [],
   "source": [
    "from sklearn.neighbors import KNeighborsClassifier\n",
    "from sklearn.model_selection import GridSearchCV\n",
    "\n",
    "knn = KNeighborsClassifier()\n",
    "param_grid_knn = {'n_neighbors': range(1, 31)}\n",
    "\n",
    "grid_knn = GridSearchCV(knn, param_grid_knn, cv=5)\n",
    "grid_knn.fit(X_train, y_train)\n",
    "\n",
    "print(\"Best parameters (KNN):\", grid_knn.best_params_)\n",
    "print(\"Best cross-val score:\", grid_knn.best_score_)"
   ]
  },
  {
   "cell_type": "markdown",
   "id": "380ce075",
   "metadata": {},
   "source": [
    "## 🔍 Grid Search: Decision Tree Hyperparameter Tuning"
   ]
  },
  {
   "cell_type": "code",
   "execution_count": null,
   "id": "cbb68636",
   "metadata": {},
   "outputs": [],
   "source": [
    "from sklearn.tree import DecisionTreeClassifier\n",
    "\n",
    "tree = DecisionTreeClassifier(random_state=42)\n",
    "param_grid_tree = {\n",
    "    'max_depth': [2, 3, 4, 5, 6],\n",
    "    'min_samples_split': [2, 4, 6]\n",
    "}\n",
    "\n",
    "grid_tree = GridSearchCV(tree, param_grid_tree, cv=5)\n",
    "grid_tree.fit(X_train, y_train)\n",
    "\n",
    "print(\"Best parameters (Decision Tree):\", grid_tree.best_params_)\n",
    "print(\"Best cross-val score:\", grid_tree.best_score_)"
   ]
  },
  {
   "cell_type": "markdown",
   "id": "4b54dfa5",
   "metadata": {},
   "source": [
    "## ✅ Evaluate Best Models on Test Set"
   ]
  },
  {
   "cell_type": "code",
   "execution_count": null,
   "id": "09149050",
   "metadata": {},
   "outputs": [],
   "source": [
    "from sklearn.metrics import classification_report\n",
    "\n",
    "best_knn = grid_knn.best_estimator_\n",
    "best_tree = grid_tree.best_estimator_\n",
    "\n",
    "print(\"KNN Test Set Performance:\")\n",
    "print(classification_report(y_test, best_knn.predict(X_test)))\n",
    "\n",
    "print(\"Decision Tree Test Set Performance:\")\n",
    "print(classification_report(y_test, best_tree.predict(X_test)))"
   ]
  }
 ],
 "metadata": {},
 "nbformat": 4,
 "nbformat_minor": 5
}
