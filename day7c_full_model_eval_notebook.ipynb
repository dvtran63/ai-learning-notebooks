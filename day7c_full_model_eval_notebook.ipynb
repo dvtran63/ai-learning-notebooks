{
 "cells": [
  {
   "cell_type": "markdown",
   "id": "b34c3925",
   "metadata": {},
   "source": [
    "# 📊 Day 7 Bonus: Model Evaluation & Feature Importance\n",
    "\n",
    "This notebook compares precision, recall, F1 score, and ROC curves for Decision Tree, Logistic Regression, and KNN.\n",
    "It also explores feature importance for Decision Tree and Logistic Regression."
   ]
  },
  {
   "cell_type": "markdown",
   "id": "9049da6a",
   "metadata": {},
   "source": [
    "## 🔁 Reuse Preprocessed Titanic Dataset"
   ]
  },
  {
   "cell_type": "code",
   "execution_count": null,
   "id": "4db88926",
   "metadata": {},
   "outputs": [],
   "source": [
    "import seaborn as sns\n",
    "import pandas as pd\n",
    "from sklearn.model_selection import train_test_split\n",
    "from sklearn.preprocessing import StandardScaler\n",
    "\n",
    "df = sns.load_dataset(\"titanic\")\n",
    "df = df.dropna(subset=[\"age\", \"embarked\", \"fare\", \"sex\"])\n",
    "\n",
    "df[\"sex\"] = df[\"sex\"].map({\"male\": 0, \"female\": 1})\n",
    "df[\"embarked\"] = df[\"embarked\"].map({\"S\": 0, \"C\": 1, \"Q\": 2})\n",
    "\n",
    "features = [\"pclass\", \"sex\", \"age\", \"fare\", \"embarked\"]\n",
    "X = df[features]\n",
    "y = df[\"survived\"]\n",
    "\n",
    "X_train, X_test, y_train, y_test = train_test_split(X, y, test_size=0.2, random_state=42)\n",
    "\n",
    "scaler = StandardScaler()\n",
    "X_train = scaler.fit_transform(X_train)\n",
    "X_test = scaler.transform(X_test)"
   ]
  },
  {
   "cell_type": "markdown",
   "id": "ed4d8cbe",
   "metadata": {},
   "source": [
    "## ⚙️ Train 3 Models: Decision Tree, Logistic Regression, KNN"
   ]
  },
  {
   "cell_type": "code",
   "execution_count": null,
   "id": "a4fb4179",
   "metadata": {},
   "outputs": [],
   "source": [
    "from sklearn.tree import DecisionTreeClassifier\n",
    "from sklearn.linear_model import LogisticRegression\n",
    "from sklearn.neighbors import KNeighborsClassifier\n",
    "\n",
    "tree = DecisionTreeClassifier(max_depth=4, random_state=42)\n",
    "logreg = LogisticRegression()\n",
    "knn = KNeighborsClassifier(n_neighbors=5)\n",
    "\n",
    "tree.fit(X_train, y_train)\n",
    "logreg.fit(X_train, y_train)\n",
    "knn.fit(X_train, y_train)\n",
    "\n",
    "y_pred_tree = tree.predict(X_test)\n",
    "y_pred_log = logreg.predict(X_test)\n",
    "y_pred_knn = knn.predict(X_test)\n",
    "\n",
    "y_prob_tree = tree.predict_proba(X_test)[:, 1]\n",
    "y_prob_log = logreg.predict_proba(X_test)[:, 1]\n",
    "y_prob_knn = knn.predict_proba(X_test)[:, 1]"
   ]
  },
  {
   "cell_type": "markdown",
   "id": "ee419b01",
   "metadata": {},
   "source": [
    "## 📈 Classification Reports"
   ]
  },
  {
   "cell_type": "code",
   "execution_count": null,
   "id": "cb8509ef",
   "metadata": {},
   "outputs": [],
   "source": [
    "from sklearn.metrics import classification_report\n",
    "\n",
    "print(\"📊 Logistic Regression:\")\n",
    "print(classification_report(y_test, y_pred_log))\n",
    "\n",
    "print(\"📊 Decision Tree:\")\n",
    "print(classification_report(y_test, y_pred_tree))\n",
    "\n",
    "print(\"📊 KNN:\")\n",
    "print(classification_report(y_test, y_pred_knn))"
   ]
  },
  {
   "cell_type": "markdown",
   "id": "049ab54e",
   "metadata": {},
   "source": [
    "## 📉 ROC Curves and AUC"
   ]
  },
  {
   "cell_type": "code",
   "execution_count": null,
   "id": "83a42fef",
   "metadata": {},
   "outputs": [],
   "source": [
    "from sklearn.metrics import roc_curve, roc_auc_score\n",
    "import matplotlib.pyplot as plt\n",
    "\n",
    "fpr_log, tpr_log, _ = roc_curve(y_test, y_prob_log)\n",
    "fpr_tree, tpr_tree, _ = roc_curve(y_test, y_prob_tree)\n",
    "fpr_knn, tpr_knn, _ = roc_curve(y_test, y_prob_knn)\n",
    "\n",
    "plt.figure(figsize=(8, 6))\n",
    "plt.plot(fpr_log, tpr_log, label=f\"Logistic Regression (AUC = {roc_auc_score(y_test, y_prob_log):.2f})\")\n",
    "plt.plot(fpr_tree, tpr_tree, label=f\"Decision Tree (AUC = {roc_auc_score(y_test, y_prob_tree):.2f})\")\n",
    "plt.plot(fpr_knn, tpr_knn, label=f\"KNN (AUC = {roc_auc_score(y_test, y_prob_knn):.2f})\")\n",
    "plt.plot([0, 1], [0, 1], 'k--')\n",
    "plt.xlabel(\"False Positive Rate\")\n",
    "plt.ylabel(\"True Positive Rate\")\n",
    "plt.title(\"ROC Curve\")\n",
    "plt.legend()\n",
    "plt.grid(True)\n",
    "plt.show()"
   ]
  },
  {
   "cell_type": "markdown",
   "id": "aa0eb479",
   "metadata": {},
   "source": [
    "## 🧠 Feature Importance: Decision Tree"
   ]
  },
  {
   "cell_type": "code",
   "execution_count": null,
   "id": "8e0a1297",
   "metadata": {},
   "outputs": [],
   "source": [
    "import numpy as np\n",
    "\n",
    "importances = tree.feature_importances_\n",
    "for name, importance in zip(features, importances):\n",
    "    print(f\"{name}: {importance:.4f}\")\n",
    "\n",
    "plt.barh(features, importances)\n",
    "plt.title(\"Feature Importance (Decision Tree)\")\n",
    "plt.xlabel(\"Importance\")\n",
    "plt.grid(True)\n",
    "plt.show()"
   ]
  },
  {
   "cell_type": "markdown",
   "id": "bf53ab46",
   "metadata": {},
   "source": [
    "## 📊 Feature Coefficients: Logistic Regression"
   ]
  },
  {
   "cell_type": "code",
   "execution_count": null,
   "id": "d7cde84d",
   "metadata": {},
   "outputs": [],
   "source": [
    "coefficients = logreg.coef_[0]\n",
    "for name, coef in zip(features, coefficients):\n",
    "    print(f\"{name}: {coef:.4f}\")\n",
    "\n",
    "plt.barh(features, coefficients)\n",
    "plt.title(\"Feature Coefficients (Logistic Regression)\")\n",
    "plt.xlabel(\"Coefficient\")\n",
    "plt.grid(True)\n",
    "plt.show()"
   ]
  },
  {
   "cell_type": "markdown",
   "id": "08d165db",
   "metadata": {},
   "source": [
    "## 🧮 Confusion Matrices"
   ]
  },
  {
   "cell_type": "code",
   "execution_count": null,
   "id": "36b84ec6",
   "metadata": {},
   "outputs": [],
   "source": [
    "from sklearn.metrics import confusion_matrix\n",
    "import seaborn as sns\n",
    "import matplotlib.pyplot as plt\n",
    "\n",
    "models = {\n",
    "    \"Logistic Regression\": y_pred_log,\n",
    "    \"Decision Tree\": y_pred_tree,\n",
    "    \"KNN\": y_pred_knn\n",
    "}\n",
    "\n",
    "for name, preds in models.items():\n",
    "    cm = confusion_matrix(y_test, preds)\n",
    "    plt.figure(figsize=(4, 3))\n",
    "    sns.heatmap(cm, annot=True, fmt=\"d\", cmap=\"Blues\", cbar=False)\n",
    "    plt.title(f\"Confusion Matrix - {name}\")\n",
    "    plt.xlabel(\"Predicted\")\n",
    "    plt.ylabel(\"Actual\")\n",
    "    plt.show()"
   ]
  },
  {
   "cell_type": "markdown",
   "id": "4938cef3",
   "metadata": {},
   "source": [
    "## 📉 Precision-Recall Curves"
   ]
  },
  {
   "cell_type": "code",
   "execution_count": null,
   "id": "ca302790",
   "metadata": {},
   "outputs": [],
   "source": [
    "from sklearn.metrics import precision_recall_curve\n",
    "\n",
    "prec_log, rec_log, _ = precision_recall_curve(y_test, y_prob_log)\n",
    "prec_tree, rec_tree, _ = precision_recall_curve(y_test, y_prob_tree)\n",
    "prec_knn, rec_knn, _ = precision_recall_curve(y_test, y_prob_knn)\n",
    "\n",
    "plt.figure(figsize=(8, 6))\n",
    "plt.plot(rec_log, prec_log, label=\"Logistic Regression\")\n",
    "plt.plot(rec_tree, prec_tree, label=\"Decision Tree\")\n",
    "plt.plot(rec_knn, prec_knn, label=\"KNN\")\n",
    "plt.xlabel(\"Recall\")\n",
    "plt.ylabel(\"Precision\")\n",
    "plt.title(\"Precision-Recall Curve\")\n",
    "plt.legend()\n",
    "plt.grid(True)\n",
    "plt.show()"
   ]
  }
 ],
 "metadata": {},
 "nbformat": 4,
 "nbformat_minor": 5
}
