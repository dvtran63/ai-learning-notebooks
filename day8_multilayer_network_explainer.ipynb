{
  "cells": [
    {
      "cell_type": "markdown",
      "metadata": {
        "id": "view-in-github",
        "colab_type": "text"
      },
      "source": [
        "<a href=\"https://colab.research.google.com/github/dvtran63/ai-learning-notebooks/blob/main_b1/day8_multilayer_network_explainer.ipynb\" target=\"_parent\"><img src=\"https://colab.research.google.com/assets/colab-badge.svg\" alt=\"Open In Colab\"/></a>"
      ]
    },
    {
      "cell_type": "markdown",
      "metadata": {
        "id": "ULc_OmuKeixl"
      },
      "source": [
        "# 🧠 Multi-Layer Neural Network Visualizer\n",
        "Explore how hidden layers, neurons, and activation functions impact a neural network using scikit-learn's `MLPClassifier`."
      ],
      "id": "ULc_OmuKeixl"
    },
    {
      "cell_type": "code",
      "execution_count": 29,
      "metadata": {
        "id": "mMSd2YTXeixm"
      },
      "outputs": [],
      "source": [
        "!pip install matplotlib scikit-learn ipywidgets --quiet"
      ],
      "id": "mMSd2YTXeixm"
    },
    {
      "cell_type": "code",
      "execution_count": 31,
      "metadata": {
        "id": "wWhYT5p5eixn"
      },
      "outputs": [],
      "source": [
        "import numpy as np\n",
        "import matplotlib.pyplot as plt\n",
        "from sklearn.datasets import make_moons\n",
        "from sklearn.model_selection import train_test_split\n",
        "from sklearn.preprocessing import StandardScaler\n",
        "from sklearn.neural_network import MLPClassifier\n",
        "from sklearn.metrics import accuracy_score\n",
        "import ipywidgets as widgets\n",
        "from IPython.display import display"
      ],
      "id": "wWhYT5p5eixn"
    },
    {
      "cell_type": "markdown",
      "metadata": {
        "id": "XTIlKj_heixo"
      },
      "source": [
        "## 🎯 Dataset: Make Moons\n",
        "This 2D dataset is useful to visualize how neural networks learn non-linear decision boundaries."
      ],
      "id": "XTIlKj_heixo"
    },
    {
      "cell_type": "code",
      "execution_count": 32,
      "metadata": {
        "id": "7RreO50Meixp"
      },
      "outputs": [],
      "source": [
        "# Generate toy data\n",
        "X, y = make_moons(n_samples=500, noise=0.25, random_state=42)\n",
        "X_train, X_test, y_train, y_test = train_test_split(X, y, test_size=0.2, random_state=42)\n",
        "scaler = StandardScaler()\n",
        "X_train_scaled = scaler.fit_transform(X_train)\n",
        "X_test_scaled = scaler.transform(X_test)"
      ],
      "id": "7RreO50Meixp"
    },
    {
      "cell_type": "markdown",
      "metadata": {
        "id": "90DlAcndeixq"
      },
      "source": [
        "## 🖼️ Visualize Decision Boundary"
      ],
      "id": "90DlAcndeixq"
    },
    {
      "cell_type": "code",
      "execution_count": 33,
      "metadata": {
        "id": "SIvM8niReixr"
      },
      "outputs": [],
      "source": [
        "def plot_decision_boundary(model, X, y, ax):\n",
        "    h = 0.01\n",
        "    x_min, x_max = X[:, 0].min() - 1, X[:, 0].max() + 1\n",
        "    y_min, y_max = X[:, 1].min() - 1, X[:, 1].max() + 1\n",
        "    xx, yy = np.meshgrid(np.arange(x_min, x_max, h),\n",
        "                         np.arange(y_min, y_max, h))\n",
        "    Z = model.predict(np.c_[xx.ravel(), yy.ravel()])\n",
        "    Z = Z.reshape(xx.shape)\n",
        "    ax.contourf(xx, yy, Z, cmap=plt.cm.RdBu, alpha=0.6)\n",
        "    ax.scatter(X[:, 0], X[:, 1], c=y, cmap=plt.cm.RdBu, edgecolors='k')\n",
        "    ax.set_title(\"Decision Boundary\")"
      ],
      "id": "SIvM8niReixr"
    },
    {
      "cell_type": "code",
      "execution_count": 39,
      "metadata": {
        "id": "Ka23DkFieixr"
      },
      "outputs": [],
      "source": [
        "def visualize_network(hidden_layers, activation, alpha):\n",
        "    clf = MLPClassifier(\n",
        "        #hidden_layer_sizes=hidden_layers,\n",
        "        #hidden_layer_sizes=tuple(i for layer in hidden_layers for i in (layer if isinstance(layer, tuple) else (layer,))),\n",
        "        hidden_layer_sizes=tuple(sum(hidden_layers, ())),\n",
        "        activation=activation,\n",
        "        solver='adam',\n",
        "        max_iter=1000,\n",
        "        alpha=alpha,\n",
        "        random_state=1\n",
        "    )\n",
        "    clf.fit(X_train_scaled, y_train)\n",
        "    acc = accuracy_score(y_test, clf.predict(X_test_scaled))\n",
        "\n",
        "    fig, ax = plt.subplots(figsize=(6, 5))\n",
        "    plot_decision_boundary(clf, X_test_scaled, y_test, ax)\n",
        "    plt.text(-2, 2, f\"Test Accuracy: {acc:.2f}\", fontsize=12, color='black')\n",
        "    plt.show()"
      ],
      "id": "Ka23DkFieixr"
    },
    {
      "cell_type": "code",
      "execution_count": 43,
      "metadata": {
        "colab": {
          "base_uri": "https://localhost:8080/",
          "height": 712,
          "referenced_widgets": [
            "abe52f10a6c74d409041d8f499cb2cbc",
            "86c51e5988f94896ac4ae33295016105",
            "2205fe01694f4b1b85ca65408572fb5e",
            "e897b401d4c74f0a99808bb7785e5285",
            "06d7231541b648cb82e52fa3fdfeeea6",
            "fe314b0239604402bc22706d7197177d",
            "6571493c7b4f4432bc0781bfa07496f2",
            "927707a16b5c40938b4ae55b6eed3a1a",
            "f1af88c730034877a38635dc80c50031",
            "861e37fc97d54004b28469d792115a7d",
            "6ec101f26c87460b8ee9819880c8c3ab",
            "2656052c74d748d9bfe40897fb30830d",
            "c1c07b6506d64bd29a437ab63b5134cd"
          ]
        },
        "id": "sgkCNYEYeixs",
        "outputId": "939b3e07-db80-4da5-bfde-baf2e83dcdfb"
      },
      "outputs": [
        {
          "output_type": "display_data",
          "data": {
            "text/plain": [
              "interactive(children=(SelectMultiple(description='Hidden Layers', index=(2,), options=((8,), (16,), (32,), (32…"
            ],
            "application/vnd.jupyter.widget-view+json": {
              "version_major": 2,
              "version_minor": 0,
              "model_id": "abe52f10a6c74d409041d8f499cb2cbc"
            }
          },
          "metadata": {}
        },
        {
          "output_type": "execute_result",
          "data": {
            "text/plain": [
              "<function __main__.visualize_network(hidden_layers, activation, alpha)>"
            ],
            "text/html": [
              "<div style=\"max-width:800px; border: 1px solid var(--colab-border-color);\"><style>\n",
              "      pre.function-repr-contents {\n",
              "        overflow-x: auto;\n",
              "        padding: 8px 12px;\n",
              "        max-height: 500px;\n",
              "      }\n",
              "\n",
              "      pre.function-repr-contents.function-repr-contents-collapsed {\n",
              "        cursor: pointer;\n",
              "        max-height: 100px;\n",
              "      }\n",
              "    </style>\n",
              "    <pre style=\"white-space: initial; background:\n",
              "         var(--colab-secondary-surface-color); padding: 8px 12px;\n",
              "         border-bottom: 1px solid var(--colab-border-color);\"><b>visualize_network</b><br/>def visualize_network(hidden_layers, activation, alpha)</pre><pre class=\"function-repr-contents function-repr-contents-collapsed\" style=\"\"><a class=\"filepath\" style=\"display:none\" href=\"#\">/tmp/ipython-input-3153856443.py</a>&lt;no docstring&gt;</pre></div>"
            ]
          },
          "metadata": {},
          "execution_count": 43
        }
      ],
      "source": [
        "widgets.interact(\n",
        "    visualize_network,\n",
        "    hidden_layers=widgets.SelectMultiple(\n",
        "        options=[(8,), (16,), (32,), (32, 16), (64, 32, 16)],\n",
        "        value=[(32,)],\n",
        "        description='Hidden Layers'\n",
        "    ),\n",
        "    activation=widgets.Dropdown(\n",
        "        options=['relu', 'tanh', 'logistic'],\n",
        "        value='relu',\n",
        "        description='Activation'\n",
        "    ),\n",
        "    alpha=widgets.FloatLogSlider(\n",
        "        value=0.0001, base=10, min=-5, max=1, step=0.1,\n",
        "        description='L2 penalty (alpha)'\n",
        "    )\n",
        ")"
      ],
      "id": "sgkCNYEYeixs"
    }
  ],
  "metadata": {
    "kernelspec": {
      "display_name": "Python 3",
      "language": "python",
      "name": "python3"
    },
    "language_info": {
      "name": "python",
      "version": "3.8"
    },
    "colab": {
      "provenance": [],
      "include_colab_link": true
    },
    "widgets": {
      "application/vnd.jupyter.widget-state+json": {
        "abe52f10a6c74d409041d8f499cb2cbc": {
          "model_module": "@jupyter-widgets/controls",
          "model_name": "VBoxModel",
          "model_module_version": "1.5.0",
          "state": {
            "_dom_classes": [
              "widget-interact"
            ],
            "_model_module": "@jupyter-widgets/controls",
            "_model_module_version": "1.5.0",
            "_model_name": "VBoxModel",
            "_view_count": null,
            "_view_module": "@jupyter-widgets/controls",
            "_view_module_version": "1.5.0",
            "_view_name": "VBoxView",
            "box_style": "",
            "children": [
              "IPY_MODEL_86c51e5988f94896ac4ae33295016105",
              "IPY_MODEL_2205fe01694f4b1b85ca65408572fb5e",
              "IPY_MODEL_e897b401d4c74f0a99808bb7785e5285",
              "IPY_MODEL_06d7231541b648cb82e52fa3fdfeeea6"
            ],
            "layout": "IPY_MODEL_fe314b0239604402bc22706d7197177d"
          }
        },
        "86c51e5988f94896ac4ae33295016105": {
          "model_module": "@jupyter-widgets/controls",
          "model_name": "SelectMultipleModel",
          "model_module_version": "1.5.0",
          "state": {
            "_dom_classes": [],
            "_model_module": "@jupyter-widgets/controls",
            "_model_module_version": "1.5.0",
            "_model_name": "SelectMultipleModel",
            "_options_labels": [
              "(8,)",
              "(16,)",
              "(32,)",
              "(32, 16)",
              "(64, 32, 16)"
            ],
            "_view_count": null,
            "_view_module": "@jupyter-widgets/controls",
            "_view_module_version": "1.5.0",
            "_view_name": "SelectMultipleView",
            "description": "Hidden Layers",
            "description_tooltip": null,
            "disabled": false,
            "index": [
              4
            ],
            "layout": "IPY_MODEL_6571493c7b4f4432bc0781bfa07496f2",
            "rows": 5,
            "style": "IPY_MODEL_927707a16b5c40938b4ae55b6eed3a1a"
          }
        },
        "2205fe01694f4b1b85ca65408572fb5e": {
          "model_module": "@jupyter-widgets/controls",
          "model_name": "DropdownModel",
          "model_module_version": "1.5.0",
          "state": {
            "_dom_classes": [],
            "_model_module": "@jupyter-widgets/controls",
            "_model_module_version": "1.5.0",
            "_model_name": "DropdownModel",
            "_options_labels": [
              "relu",
              "tanh",
              "logistic"
            ],
            "_view_count": null,
            "_view_module": "@jupyter-widgets/controls",
            "_view_module_version": "1.5.0",
            "_view_name": "DropdownView",
            "description": "Activation",
            "description_tooltip": null,
            "disabled": false,
            "index": 0,
            "layout": "IPY_MODEL_f1af88c730034877a38635dc80c50031",
            "style": "IPY_MODEL_861e37fc97d54004b28469d792115a7d"
          }
        },
        "e897b401d4c74f0a99808bb7785e5285": {
          "model_module": "@jupyter-widgets/controls",
          "model_name": "FloatLogSliderModel",
          "model_module_version": "1.5.0",
          "state": {
            "_dom_classes": [],
            "_model_module": "@jupyter-widgets/controls",
            "_model_module_version": "1.5.0",
            "_model_name": "FloatLogSliderModel",
            "_view_count": null,
            "_view_module": "@jupyter-widgets/controls",
            "_view_module_version": "1.5.0",
            "_view_name": "FloatLogSliderView",
            "base": 10,
            "continuous_update": true,
            "description": "L2 penalty (alpha)",
            "description_tooltip": null,
            "disabled": false,
            "layout": "IPY_MODEL_6ec101f26c87460b8ee9819880c8c3ab",
            "max": 1,
            "min": -5,
            "orientation": "horizontal",
            "readout": true,
            "readout_format": ".3g",
            "step": 0.1,
            "style": "IPY_MODEL_2656052c74d748d9bfe40897fb30830d",
            "value": 1
          }
        },
        "06d7231541b648cb82e52fa3fdfeeea6": {
          "model_module": "@jupyter-widgets/output",
          "model_name": "OutputModel",
          "model_module_version": "1.0.0",
          "state": {
            "_dom_classes": [],
            "_model_module": "@jupyter-widgets/output",
            "_model_module_version": "1.0.0",
            "_model_name": "OutputModel",
            "_view_count": null,
            "_view_module": "@jupyter-widgets/output",
            "_view_module_version": "1.0.0",
            "_view_name": "OutputView",
            "layout": "IPY_MODEL_c1c07b6506d64bd29a437ab63b5134cd",
            "msg_id": "",
            "outputs": [
              {
                "output_type": "display_data",
                "data": {
                  "text/plain": "<Figure size 600x500 with 1 Axes>",
                  "image/png": "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\n"
                },
                "metadata": {}
              }
            ]
          }
        },
        "fe314b0239604402bc22706d7197177d": {
          "model_module": "@jupyter-widgets/base",
          "model_name": "LayoutModel",
          "model_module_version": "1.2.0",
          "state": {
            "_model_module": "@jupyter-widgets/base",
            "_model_module_version": "1.2.0",
            "_model_name": "LayoutModel",
            "_view_count": null,
            "_view_module": "@jupyter-widgets/base",
            "_view_module_version": "1.2.0",
            "_view_name": "LayoutView",
            "align_content": null,
            "align_items": null,
            "align_self": null,
            "border": null,
            "bottom": null,
            "display": null,
            "flex": null,
            "flex_flow": null,
            "grid_area": null,
            "grid_auto_columns": null,
            "grid_auto_flow": null,
            "grid_auto_rows": null,
            "grid_column": null,
            "grid_gap": null,
            "grid_row": null,
            "grid_template_areas": null,
            "grid_template_columns": null,
            "grid_template_rows": null,
            "height": null,
            "justify_content": null,
            "justify_items": null,
            "left": null,
            "margin": null,
            "max_height": null,
            "max_width": null,
            "min_height": null,
            "min_width": null,
            "object_fit": null,
            "object_position": null,
            "order": null,
            "overflow": null,
            "overflow_x": null,
            "overflow_y": null,
            "padding": null,
            "right": null,
            "top": null,
            "visibility": null,
            "width": null
          }
        },
        "6571493c7b4f4432bc0781bfa07496f2": {
          "model_module": "@jupyter-widgets/base",
          "model_name": "LayoutModel",
          "model_module_version": "1.2.0",
          "state": {
            "_model_module": "@jupyter-widgets/base",
            "_model_module_version": "1.2.0",
            "_model_name": "LayoutModel",
            "_view_count": null,
            "_view_module": "@jupyter-widgets/base",
            "_view_module_version": "1.2.0",
            "_view_name": "LayoutView",
            "align_content": null,
            "align_items": null,
            "align_self": null,
            "border": null,
            "bottom": null,
            "display": null,
            "flex": null,
            "flex_flow": null,
            "grid_area": null,
            "grid_auto_columns": null,
            "grid_auto_flow": null,
            "grid_auto_rows": null,
            "grid_column": null,
            "grid_gap": null,
            "grid_row": null,
            "grid_template_areas": null,
            "grid_template_columns": null,
            "grid_template_rows": null,
            "height": null,
            "justify_content": null,
            "justify_items": null,
            "left": null,
            "margin": null,
            "max_height": null,
            "max_width": null,
            "min_height": null,
            "min_width": null,
            "object_fit": null,
            "object_position": null,
            "order": null,
            "overflow": null,
            "overflow_x": null,
            "overflow_y": null,
            "padding": null,
            "right": null,
            "top": null,
            "visibility": null,
            "width": null
          }
        },
        "927707a16b5c40938b4ae55b6eed3a1a": {
          "model_module": "@jupyter-widgets/controls",
          "model_name": "DescriptionStyleModel",
          "model_module_version": "1.5.0",
          "state": {
            "_model_module": "@jupyter-widgets/controls",
            "_model_module_version": "1.5.0",
            "_model_name": "DescriptionStyleModel",
            "_view_count": null,
            "_view_module": "@jupyter-widgets/base",
            "_view_module_version": "1.2.0",
            "_view_name": "StyleView",
            "description_width": ""
          }
        },
        "f1af88c730034877a38635dc80c50031": {
          "model_module": "@jupyter-widgets/base",
          "model_name": "LayoutModel",
          "model_module_version": "1.2.0",
          "state": {
            "_model_module": "@jupyter-widgets/base",
            "_model_module_version": "1.2.0",
            "_model_name": "LayoutModel",
            "_view_count": null,
            "_view_module": "@jupyter-widgets/base",
            "_view_module_version": "1.2.0",
            "_view_name": "LayoutView",
            "align_content": null,
            "align_items": null,
            "align_self": null,
            "border": null,
            "bottom": null,
            "display": null,
            "flex": null,
            "flex_flow": null,
            "grid_area": null,
            "grid_auto_columns": null,
            "grid_auto_flow": null,
            "grid_auto_rows": null,
            "grid_column": null,
            "grid_gap": null,
            "grid_row": null,
            "grid_template_areas": null,
            "grid_template_columns": null,
            "grid_template_rows": null,
            "height": null,
            "justify_content": null,
            "justify_items": null,
            "left": null,
            "margin": null,
            "max_height": null,
            "max_width": null,
            "min_height": null,
            "min_width": null,
            "object_fit": null,
            "object_position": null,
            "order": null,
            "overflow": null,
            "overflow_x": null,
            "overflow_y": null,
            "padding": null,
            "right": null,
            "top": null,
            "visibility": null,
            "width": null
          }
        },
        "861e37fc97d54004b28469d792115a7d": {
          "model_module": "@jupyter-widgets/controls",
          "model_name": "DescriptionStyleModel",
          "model_module_version": "1.5.0",
          "state": {
            "_model_module": "@jupyter-widgets/controls",
            "_model_module_version": "1.5.0",
            "_model_name": "DescriptionStyleModel",
            "_view_count": null,
            "_view_module": "@jupyter-widgets/base",
            "_view_module_version": "1.2.0",
            "_view_name": "StyleView",
            "description_width": ""
          }
        },
        "6ec101f26c87460b8ee9819880c8c3ab": {
          "model_module": "@jupyter-widgets/base",
          "model_name": "LayoutModel",
          "model_module_version": "1.2.0",
          "state": {
            "_model_module": "@jupyter-widgets/base",
            "_model_module_version": "1.2.0",
            "_model_name": "LayoutModel",
            "_view_count": null,
            "_view_module": "@jupyter-widgets/base",
            "_view_module_version": "1.2.0",
            "_view_name": "LayoutView",
            "align_content": null,
            "align_items": null,
            "align_self": null,
            "border": null,
            "bottom": null,
            "display": null,
            "flex": null,
            "flex_flow": null,
            "grid_area": null,
            "grid_auto_columns": null,
            "grid_auto_flow": null,
            "grid_auto_rows": null,
            "grid_column": null,
            "grid_gap": null,
            "grid_row": null,
            "grid_template_areas": null,
            "grid_template_columns": null,
            "grid_template_rows": null,
            "height": null,
            "justify_content": null,
            "justify_items": null,
            "left": null,
            "margin": null,
            "max_height": null,
            "max_width": null,
            "min_height": null,
            "min_width": null,
            "object_fit": null,
            "object_position": null,
            "order": null,
            "overflow": null,
            "overflow_x": null,
            "overflow_y": null,
            "padding": null,
            "right": null,
            "top": null,
            "visibility": null,
            "width": null
          }
        },
        "2656052c74d748d9bfe40897fb30830d": {
          "model_module": "@jupyter-widgets/controls",
          "model_name": "SliderStyleModel",
          "model_module_version": "1.5.0",
          "state": {
            "_model_module": "@jupyter-widgets/controls",
            "_model_module_version": "1.5.0",
            "_model_name": "SliderStyleModel",
            "_view_count": null,
            "_view_module": "@jupyter-widgets/base",
            "_view_module_version": "1.2.0",
            "_view_name": "StyleView",
            "description_width": "",
            "handle_color": null
          }
        },
        "c1c07b6506d64bd29a437ab63b5134cd": {
          "model_module": "@jupyter-widgets/base",
          "model_name": "LayoutModel",
          "model_module_version": "1.2.0",
          "state": {
            "_model_module": "@jupyter-widgets/base",
            "_model_module_version": "1.2.0",
            "_model_name": "LayoutModel",
            "_view_count": null,
            "_view_module": "@jupyter-widgets/base",
            "_view_module_version": "1.2.0",
            "_view_name": "LayoutView",
            "align_content": null,
            "align_items": null,
            "align_self": null,
            "border": null,
            "bottom": null,
            "display": null,
            "flex": null,
            "flex_flow": null,
            "grid_area": null,
            "grid_auto_columns": null,
            "grid_auto_flow": null,
            "grid_auto_rows": null,
            "grid_column": null,
            "grid_gap": null,
            "grid_row": null,
            "grid_template_areas": null,
            "grid_template_columns": null,
            "grid_template_rows": null,
            "height": null,
            "justify_content": null,
            "justify_items": null,
            "left": null,
            "margin": null,
            "max_height": null,
            "max_width": null,
            "min_height": null,
            "min_width": null,
            "object_fit": null,
            "object_position": null,
            "order": null,
            "overflow": null,
            "overflow_x": null,
            "overflow_y": null,
            "padding": null,
            "right": null,
            "top": null,
            "visibility": null,
            "width": null
          }
        }
      }
    }
  },
  "nbformat": 4,
  "nbformat_minor": 5
}