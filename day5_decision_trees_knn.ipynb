{
  "cells": [
    {
      "cell_type": "markdown",
      "metadata": {
        "id": "view-in-github",
        "colab_type": "text"
      },
      "source": [
        "<a href=\"https://colab.research.google.com/github/dvtran63/ai-learning-notebooks/blob/main_b1/day5_decision_trees_knn.ipynb\" target=\"_parent\"><img src=\"https://colab.research.google.com/assets/colab-badge.svg\" alt=\"Open In Colab\"/></a>"
      ]
    },
    {
      "cell_type": "markdown",
      "id": "a2fdb0cb",
      "metadata": {
        "id": "a2fdb0cb"
      },
      "source": [
        "# 🌳 Day 5 – Decision Trees & K-Nearest Neighbors (KNN)\n",
        "\n",
        "In this notebook, you'll explore two powerful supervised learning models:\n",
        "- Decision Trees\n",
        "- K-Nearest Neighbors (KNN)"
      ]
    },
    {
      "cell_type": "markdown",
      "id": "809f2cb9",
      "metadata": {
        "id": "809f2cb9"
      },
      "source": [
        "## 🧪 Dataset: Iris (Multiclass Classification)"
      ]
    },
    {
      "cell_type": "code",
      "execution_count": 28,
      "id": "75991ed1",
      "metadata": {
        "colab": {
          "base_uri": "https://localhost:8080/"
        },
        "id": "75991ed1",
        "outputId": "c10dfc52-cd1a-44e8-c3a5-68913a188b82",
        "collapsed": true
      },
      "outputs": [
        {
          "output_type": "stream",
          "name": "stdout",
          "text": [
            "['sepal length (cm)', 'sepal width (cm)', 'petal length (cm)', 'petal width (cm)'] \n",
            " iris.csv \n",
            " [0 0 0 0 0 0 0 0 0 0 0 0 0 0 0 0 0 0 0 0 0 0 0 0 0 0 0 0 0 0 0 0 0 0 0 0 0\n",
            " 0 0 0 0 0 0 0 0 0 0 0 0 0 1 1 1 1 1 1 1 1 1 1 1 1 1 1 1 1 1 1 1 1 1 1 1 1\n",
            " 1 1 1 1 1 1 1 1 1 1 1 1 1 1 1 1 1 1 1 1 1 1 1 1 1 1 2 2 2 2 2 2 2 2 2 2 2\n",
            " 2 2 2 2 2 2 2 2 2 2 2 2 2 2 2 2 2 2 2 2 2 2 2 2 2 2 2 2 2 2 2 2 2 2 2 2 2\n",
            " 2 2] \n",
            " ['setosa' 'versicolor' 'virginica']\n"
          ]
        }
      ],
      "source": [
        "from sklearn.datasets import load_iris\n",
        "from sklearn.model_selection import train_test_split\n",
        "from sklearn.metrics import classification_report, ConfusionMatrixDisplay\n",
        "\n",
        "# Load data\n",
        "data = load_iris()\n",
        "print(data.feature_names,\"\\n\",data.filename,\"\\n\",data.target,\"\\n\",data.target_names)\n",
        "X, y = load_iris(return_X_y=True)\n",
        "X_train, X_test, y_train, y_test = train_test_split(X, y, random_state=42)"
      ]
    },
    {
      "cell_type": "markdown",
      "id": "884d464d",
      "metadata": {
        "id": "884d464d"
      },
      "source": [
        "## 🌳 Decision Tree Classifier"
      ]
    },
    {
      "cell_type": "code",
      "execution_count": 29,
      "id": "6e42405e",
      "metadata": {
        "colab": {
          "base_uri": "https://localhost:8080/",
          "height": 657
        },
        "id": "6e42405e",
        "outputId": "c9c2ecd8-d9cc-4276-878f-83341bb88045",
        "collapsed": true
      },
      "outputs": [
        {
          "output_type": "stream",
          "name": "stdout",
          "text": [
            "Decision Tree Classification Report:\n",
            "              precision    recall  f1-score   support\n",
            "\n",
            "           0       1.00      1.00      1.00        15\n",
            "           1       1.00      1.00      1.00        11\n",
            "           2       1.00      1.00      1.00        12\n",
            "\n",
            "    accuracy                           1.00        38\n",
            "   macro avg       1.00      1.00      1.00        38\n",
            "weighted avg       1.00      1.00      1.00        38\n",
            "\n"
          ]
        },
        {
          "output_type": "execute_result",
          "data": {
            "text/plain": [
              "<sklearn.metrics._plot.confusion_matrix.ConfusionMatrixDisplay at 0x7fd633919590>"
            ]
          },
          "metadata": {},
          "execution_count": 29
        },
        {
          "output_type": "display_data",
          "data": {
            "text/plain": [
              "<Figure size 640x480 with 2 Axes>"
            ],
            "image/png": "[encoded data removed]"
          },
          "metadata": {}
        }
      ],
      "source": [
        "from sklearn.tree import DecisionTreeClassifier\n",
        "\n",
        "\n",
        "tree = DecisionTreeClassifier(max_depth=3)\n",
        "tree.fit(X_train, y_train)\n",
        "\n",
        "# Evaluate\n",
        "y_pred_tree = tree.predict(X_test)\n",
        "#print(y_test, y_pred_tree)\n",
        "print(\"Decision Tree Classification Report:\")\n",
        "print(classification_report(y_test, y_pred_tree))\n",
        "\n",
        "ConfusionMatrixDisplay.from_estimator(tree, X_test, y_test)"
      ]
    },
    {
      "cell_type": "markdown",
      "id": "a9eae3a2",
      "metadata": {
        "id": "a9eae3a2"
      },
      "source": [
        "## 🤝 K-Nearest Neighbors (KNN) Classifier"
      ]
    },
    {
      "cell_type": "code",
      "execution_count": 30,
      "id": "8a102332",
      "metadata": {
        "colab": {
          "base_uri": "https://localhost:8080/",
          "height": 657
        },
        "id": "8a102332",
        "outputId": "6544233e-586f-41ba-8b1a-773cabdf907e",
        "collapsed": true
      },
      "outputs": [
        {
          "output_type": "stream",
          "name": "stdout",
          "text": [
            "KNN Classification Report:\n",
            "              precision    recall  f1-score   support\n",
            "\n",
            "           0       1.00      1.00      1.00        15\n",
            "           1       0.92      1.00      0.96        11\n",
            "           2       1.00      0.92      0.96        12\n",
            "\n",
            "    accuracy                           0.97        38\n",
            "   macro avg       0.97      0.97      0.97        38\n",
            "weighted avg       0.98      0.97      0.97        38\n",
            "\n"
          ]
        },
        {
          "output_type": "execute_result",
          "data": {
            "text/plain": [
              "<sklearn.metrics._plot.confusion_matrix.ConfusionMatrixDisplay at 0x7fd6339bce50>"
            ]
          },
          "metadata": {},
          "execution_count": 30
        },
        {
          "output_type": "display_data",
          "data": {
            "text/plain": [
              "<Figure size 640x480 with 2 Axes>"
            ],
            "image/png": "[encoded data removed]"
          },
          "metadata": {}
        }
      ],
      "source": [
        "from sklearn.neighbors import KNeighborsClassifier\n",
        "\n",
        "\n",
        "knn = KNeighborsClassifier(n_neighbors=44)\n",
        "knn.fit(X_train, y_train)\n",
        "\n",
        "# Evaluate\n",
        "y_pred_knn = knn.predict(X_test)\n",
        "print(\"KNN Classification Report:\")\n",
        "print(classification_report(y_test, y_pred_knn))\n",
        "\n",
        "ConfusionMatrixDisplay.from_estimator(knn, X_test, y_test)"
      ]
    },
    {
      "cell_type": "markdown",
      "id": "7443bad4",
      "metadata": {
        "id": "7443bad4"
      },
      "source": [
        "## 🧪 Try This:\n",
        "- Change `max_depth` of the tree and observe results\n",
        "- Change `n_neighbors` in KNN\n",
        "- Bonus: Try with `sns.load_dataset('penguins')`\n",
        "- Bonus: Train on Titanic data with target = `survived`"
      ]
    },
    {
      "cell_type": "markdown",
      "source": [
        "# Train on Titanic data"
      ],
      "metadata": {
        "id": "icPSOeVGaEE5"
      },
      "id": "icPSOeVGaEE5"
    },
    {
      "cell_type": "code",
      "source": [
        "import pandas as pd\n",
        "import seaborn as sns\n",
        "from sklearn.model_selection import train_test_split\n",
        "from sklearn.linear_model import LogisticRegression\n",
        "from sklearn.preprocessing import LabelEncoder\n",
        "from sklearn.metrics import accuracy_score,classification_report, ConfusionMatrixDisplay\n",
        "import matplotlib.pyplot as plt\n",
        "\n",
        "# 1. Load the Titanic dataset\n",
        "df = sns.load_dataset('titanic')\n",
        "#columns)\n",
        "#print(data.feature_names,\"\\n\",data.filename,\"\\n\",data.target,\"\\n\",data.target_names)\n",
        "df = df.drop(['who', 'adult_male','alive','deck','embarked','embark_town'], axis=1)\n",
        "df_na = df.dropna()\n",
        "#print(df.head())\n",
        "#df = df[df['age'].notnull() & df['survived'].notnull()]\n",
        "\n",
        "#\n",
        "# Separate target variable\n",
        "X = df_na.drop('survived', axis=1)\n",
        "y = df_na['survived']\n",
        "\n",
        "# Encode categorical variable 'sex'\n",
        "label_encoder = LabelEncoder()\n",
        "X['sex'] = label_encoder.fit_transform(X['sex'])\n",
        "X['class'] = label_encoder.fit_transform(X['class'])\n",
        "X['alone'] = label_encoder.fit_transform(X['alone'])\n",
        "#print(X.head())\n",
        "\n",
        "# 2. Preprocess the data\n",
        "# Select relevant features\n",
        "X_train, X_test, y_train, y_test = train_test_split(X, y, random_state=42)\n",
        "#print(X_train.head())\n"
      ],
      "metadata": {
        "colab": {
          "base_uri": "https://localhost:8080/"
        },
        "collapsed": true,
        "id": "kbCoP2DeahIL",
        "outputId": "b8ca6664-68fa-4c44-afed-c5c0128a8493"
      },
      "id": "kbCoP2DeahIL",
      "execution_count": 52,
      "outputs": [
        {
          "output_type": "stream",
          "name": "stdout",
          "text": [
            "   pclass  sex   age  sibsp  parch     fare  class  alone\n",
            "0       3    1  22.0      1      0   7.2500      2      0\n",
            "1       1    0  38.0      1      0  71.2833      0      0\n",
            "2       3    0  26.0      0      0   7.9250      2      1\n",
            "3       1    0  35.0      1      0  53.1000      0      0\n",
            "4       3    1  35.0      0      0   8.0500      2      1\n",
            "     pclass  sex   age  sibsp  parch      fare  class  alone\n",
            "812       2    1  35.0      0      0   10.5000      1      1\n",
            "448       3    0   5.0      2      1   19.2583      2      0\n",
            "657       3    0  32.0      1      1   15.5000      2      0\n",
            "311       1    0  18.0      2      2  262.3750      0      0\n",
            "430       1    1  28.0      0      0   26.5500      0      1\n"
          ]
        }
      ]
    },
    {
      "cell_type": "markdown",
      "source": [
        "## 🌳 Decision Tree Classifier Titanic"
      ],
      "metadata": {
        "id": "BYn5JKNUwwvu"
      },
      "id": "BYn5JKNUwwvu"
    },
    {
      "cell_type": "code",
      "source": [
        "from sklearn.tree import DecisionTreeClassifier\n",
        "\n",
        "tree = DecisionTreeClassifier(max_depth=3)\n",
        "tree.fit(X_train, y_train)\n",
        "#print(X_train.head())\n",
        "# Evaluate\n",
        "y_pred_tree = tree.predict(X_test)\n",
        "#print(y_test, y_pred_tree)\n",
        "print(\"Decision Tree Classification Report:\")\n",
        "print(classification_report(y_test, y_pred_tree))\n",
        "\n",
        "ConfusionMatrixDisplay.from_estimator(tree, X_test, y_test)"
      ],
      "metadata": {
        "colab": {
          "base_uri": "https://localhost:8080/",
          "height": 745
        },
        "id": "h9SxqA-axx1v",
        "outputId": "aa26c893-36db-4d00-ce66-2db9f55c7c94"
      },
      "id": "h9SxqA-axx1v",
      "execution_count": 53,
      "outputs": [
        {
          "output_type": "stream",
          "name": "stdout",
          "text": [
            "     pclass  sex   age  sibsp  parch      fare  class  alone\n",
            "812       2    1  35.0      0      0   10.5000      1      1\n",
            "448       3    0   5.0      2      1   19.2583      2      0\n",
            "657       3    0  32.0      1      1   15.5000      2      0\n",
            "311       1    0  18.0      2      2  262.3750      0      0\n",
            "430       1    1  28.0      0      0   26.5500      0      1\n",
            "Decision Tree Classification Report:\n",
            "              precision    recall  f1-score   support\n",
            "\n",
            "           0       0.76      0.85      0.81       107\n",
            "           1       0.73      0.61      0.67        72\n",
            "\n",
            "    accuracy                           0.75       179\n",
            "   macro avg       0.75      0.73      0.74       179\n",
            "weighted avg       0.75      0.75      0.75       179\n",
            "\n"
          ]
        },
        {
          "output_type": "execute_result",
          "data": {
            "text/plain": [
              "<sklearn.metrics._plot.confusion_matrix.ConfusionMatrixDisplay at 0x7fd638293650>"
            ]
          },
          "metadata": {},
          "execution_count": 53
        },
        {
          "output_type": "display_data",
          "data": {
            "text/plain": [
              "<Figure size 640x480 with 2 Axes>"
            ],
            "image/png": "[encoded data removed]"
          },
          "metadata": {}
        }
      ]
    },
    {
      "cell_type": "markdown",
      "source": [
        "# 🤝 K-Nearest Neighbors (KNN) Classifier Titanic"
      ],
      "metadata": {
        "id": "tloRYmwKe9T6"
      },
      "id": "tloRYmwKe9T6"
    },
    {
      "cell_type": "code",
      "source": [
        "from sklearn.neighbors import KNeighborsClassifier\n",
        "\n",
        "knn = KNeighborsClassifier(n_neighbors=5)\n",
        "knn.fit(X_train, y_train)\n",
        "\n",
        "# Evaluate\n",
        "y_pred_knn = knn.predict(X_test)\n",
        "print(\"KNN Classification Report:\")\n",
        "print(classification_report(y_test, y_pred_knn))\n",
        "\n",
        "ConfusionMatrixDisplay.from_estimator(knn, X_test, y_test)"
      ],
      "metadata": {
        "colab": {
          "base_uri": "https://localhost:8080/",
          "height": 640
        },
        "id": "NHP7rNWkfMWh",
        "outputId": "cfe87e5b-6d55-423c-a04c-d8b79238a261"
      },
      "id": "NHP7rNWkfMWh",
      "execution_count": 54,
      "outputs": [
        {
          "output_type": "stream",
          "name": "stdout",
          "text": [
            "KNN Classification Report:\n",
            "              precision    recall  f1-score   support\n",
            "\n",
            "           0       0.69      0.79      0.73       107\n",
            "           1       0.60      0.47      0.53        72\n",
            "\n",
            "    accuracy                           0.66       179\n",
            "   macro avg       0.64      0.63      0.63       179\n",
            "weighted avg       0.65      0.66      0.65       179\n",
            "\n"
          ]
        },
        {
          "output_type": "execute_result",
          "data": {
            "text/plain": [
              "<sklearn.metrics._plot.confusion_matrix.ConfusionMatrixDisplay at 0x7fd6333d7bd0>"
            ]
          },
          "metadata": {},
          "execution_count": 54
        },
        {
          "output_type": "display_data",
          "data": {
            "text/plain": [
              "<Figure size 640x480 with 2 Axes>"
            ],
            "image/png": "[encoded data removed]"
          },
          "metadata": {}
        }
      ]
    }
  ],
  "metadata": {
    "colab": {
      "provenance": [],
      "include_colab_link": true
    },
    "language_info": {
      "name": "python"
    },
    "kernelspec": {
      "name": "python3",
      "display_name": "Python 3"
    }
  },
  "nbformat": 4,
  "nbformat_minor": 5
}