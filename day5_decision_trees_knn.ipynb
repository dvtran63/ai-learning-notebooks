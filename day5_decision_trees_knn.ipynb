{
 "cells": [
  {
   "cell_type": "markdown",
   "id": "a2fdb0cb",
   "metadata": {},
   "source": [
    "# 🌳 Day 5 – Decision Trees & K-Nearest Neighbors (KNN)\n",
    "\n",
    "In this notebook, you'll explore two powerful supervised learning models:\n",
    "- Decision Trees\n",
    "- K-Nearest Neighbors (KNN)"
   ]
  },
  {
   "cell_type": "markdown",
   "id": "809f2cb9",
   "metadata": {},
   "source": [
    "## 🧪 Dataset: Iris (Multiclass Classification)"
   ]
  },
  {
   "cell_type": "code",
   "execution_count": null,
   "id": "75991ed1",
   "metadata": {},
   "outputs": [],
   "source": [
    "from sklearn.datasets import load_iris\n",
    "from sklearn.model_selection import train_test_split\n",
    "from sklearn.metrics import classification_report, ConfusionMatrixDisplay\n",
    "\n",
    "# Load data\n",
    "X, y = load_iris(return_X_y=True)\n",
    "X_train, X_test, y_train, y_test = train_test_split(X, y, random_state=42)"
   ]
  },
  {
   "cell_type": "markdown",
   "id": "884d464d",
   "metadata": {},
   "source": [
    "## 🌳 Decision Tree Classifier"
   ]
  },
  {
   "cell_type": "code",
   "execution_count": null,
   "id": "6e42405e",
   "metadata": {},
   "outputs": [],
   "source": [
    "from sklearn.tree import DecisionTreeClassifier\n",
    "\n",
    "tree = DecisionTreeClassifier(max_depth=3)\n",
    "tree.fit(X_train, y_train)\n",
    "\n",
    "# Evaluate\n",
    "y_pred_tree = tree.predict(X_test)\n",
    "print(\"Decision Tree Classification Report:\")\n",
    "print(classification_report(y_test, y_pred_tree))\n",
    "\n",
    "ConfusionMatrixDisplay.from_estimator(tree, X_test, y_test)"
   ]
  },
  {
   "cell_type": "markdown",
   "id": "a9eae3a2",
   "metadata": {},
   "source": [
    "## 🤝 K-Nearest Neighbors (KNN) Classifier"
   ]
  },
  {
   "cell_type": "code",
   "execution_count": null,
   "id": "8a102332",
   "metadata": {},
   "outputs": [],
   "source": [
    "from sklearn.neighbors import KNeighborsClassifier\n",
    "\n",
    "knn = KNeighborsClassifier(n_neighbors=5)\n",
    "knn.fit(X_train, y_train)\n",
    "\n",
    "# Evaluate\n",
    "y_pred_knn = knn.predict(X_test)\n",
    "print(\"KNN Classification Report:\")\n",
    "print(classification_report(y_test, y_pred_knn))\n",
    "\n",
    "ConfusionMatrixDisplay.from_estimator(knn, X_test, y_test)"
   ]
  },
  {
   "cell_type": "markdown",
   "id": "7443bad4",
   "metadata": {},
   "source": [
    "## 🧪 Try This:\n",
    "- Change `max_depth` of the tree and observe results\n",
    "- Change `n_neighbors` in KNN\n",
    "- Bonus: Try with `sns.load_dataset('penguins')`\n",
    "- Bonus: Train on Titanic data with target = `survived`"
   ]
  }
 ],
 "metadata": {},
 "nbformat": 4,
 "nbformat_minor": 5
}
