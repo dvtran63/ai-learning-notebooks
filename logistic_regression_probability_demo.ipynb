{
 "cells": [
  {
   "cell_type": "markdown",
   "id": "f5ae9d8e",
   "metadata": {},
   "source": [
    "# 🌸 Logistic Regression Probability Demo with Visualization\n",
    "\n",
    "This notebook demonstrates how logistic regression outputs probabilities,\n",
    "makes classifications, and visualizes the results using plots and metrics."
   ]
  },
  {
   "cell_type": "code",
   "execution_count": null,
   "id": "322aae5c",
   "metadata": {},
   "outputs": [],
   "source": [
    "from sklearn.datasets import load_iris\n",
    "from sklearn.linear_model import LogisticRegression\n",
    "from sklearn.model_selection import train_test_split\n",
    "from sklearn.metrics import classification_report, confusion_matrix, ConfusionMatrixDisplay\n",
    "import pandas as pd\n",
    "import matplotlib.pyplot as plt\n",
    "import seaborn as sns"
   ]
  },
  {
   "cell_type": "code",
   "execution_count": null,
   "id": "4c673dff",
   "metadata": {},
   "outputs": [],
   "source": [
    "# Load the Iris dataset\n",
    "iris = load_iris()\n",
    "X = iris.data  # Features\n",
    "y = (iris.target == 0).astype(int)  # 1 if Setosa, 0 otherwise"
   ]
  },
  {
   "cell_type": "code",
   "execution_count": null,
   "id": "6e92c9e0",
   "metadata": {},
   "outputs": [],
   "source": [
    "# Split the data\n",
    "X_train, X_test, y_train, y_test = train_test_split(X, y, test_size=0.3, random_state=42)"
   ]
  },
  {
   "cell_type": "code",
   "execution_count": null,
   "id": "402c7799",
   "metadata": {},
   "outputs": [],
   "source": [
    "# Train logistic regression\n",
    "model = LogisticRegression()\n",
    "model.fit(X_train, y_train)"
   ]
  },
  {
   "cell_type": "code",
   "execution_count": null,
   "id": "be3891b1",
   "metadata": {},
   "outputs": [],
   "source": [
    "# Predict probabilities and classes\n",
    "proba = model.predict_proba(X_test)\n",
    "predictions = model.predict(X_test)\n",
    "\n",
    "# Create results dataframe\n",
    "results_df = pd.DataFrame(proba, columns=[\"P(Not Setosa)\", \"P(Setosa)\"])\n",
    "results_df[\"Predicted Class\"] = predictions\n",
    "results_df[\"Actual Class\"] = y_test.tolist()\n",
    "results_df.head(10)"
   ]
  },
  {
   "cell_type": "code",
   "execution_count": null,
   "id": "cf7a63d1",
   "metadata": {},
   "outputs": [],
   "source": [
    "# Show confusion matrix\n",
    "cm = confusion_matrix(y_test, predictions)\n",
    "disp = ConfusionMatrixDisplay(confusion_matrix=cm, display_labels=[\"Not Setosa\", \"Setosa\"])\n",
    "disp.plot(cmap=\"Blues\")\n",
    "plt.title(\"Confusion Matrix\")\n",
    "plt.grid(False)\n",
    "plt.show()"
   ]
  },
  {
   "cell_type": "code",
   "execution_count": null,
   "id": "00be5fd9",
   "metadata": {},
   "outputs": [],
   "source": [
    "# Plot predicted probabilities\n",
    "plt.figure(figsize=(8, 5))\n",
    "sns.histplot(results_df[\"P(Setosa)\"], hue=results_df[\"Actual Class\"], bins=20, palette=\"Set1\", kde=True)\n",
    "plt.title(\"Predicted Probability of Setosa\")\n",
    "plt.xlabel(\"Probability\")\n",
    "plt.ylabel(\"Frequency\")\n",
    "plt.show()"
   ]
  },
  {
   "cell_type": "code",
   "execution_count": null,
   "id": "7567f162",
   "metadata": {},
   "outputs": [],
   "source": [
    "# Classification report\n",
    "print(\"Classification Report:\")\n",
    "print(classification_report(y_test, predictions, target_names=[\"Not Setosa\", \"Setosa\"]))"
   ]
  }
 ],
 "metadata": {},
 "nbformat": 4,
 "nbformat_minor": 5
}
