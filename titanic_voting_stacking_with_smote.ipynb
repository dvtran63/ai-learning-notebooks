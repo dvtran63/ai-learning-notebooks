# 🧪 Titanic Feature Engineering + Voting and Stacking Classifiers

import pandas as pd
import numpy as np
from sklearn.model_selection import train_test_split
from sklearn.ensemble import RandomForestClassifier, VotingClassifier, StackingClassifier
from sklearn.linear_model import LogisticRegression
from sklearn.svm import SVC
from sklearn.metrics import classification_report, roc_auc_score
from imblearn.over_sampling import SMOTE
import warnings
warnings.filterwarnings("ignore")

# 📥 Load dataset
df = pd.read_csv("titanic_feature_engineered.csv")

# 🎯 Separate features and target
X = df.drop("Survived", axis=1)
y = df["Survived"]

# 🔀 Train-test split
X_train, X_test, y_train, y_test = train_test_split(X, y, stratify=y, test_size=0.2, random_state=42)

# ⚖️ Apply SMOTE to balance the training data
smote = SMOTE(random_state=42)
X_train_sm, y_train_sm = smote.fit_resample(X_train, y_train)

print("✅ After SMOTE:", y_train.value_counts().to_dict(), "→", dict(zip(*np.unique(y_train_sm, return_counts=True))))

# 🧠 Define base models
logreg = LogisticRegression()
rf = RandomForestClassifier(n_estimators=100, random_state=42)
svm = SVC(probability=True, random_state=42)

# 🗳️ Voting Classifier
voting_clf = VotingClassifier(estimators=[
    ('lr', logreg),
    ('rf', rf),
    ('svm', svm)
], voting='soft')

# 📚 Stacking Classifier
stacking_clf = StackingClassifier(estimators=[
    ('lr', logreg),
    ('rf', rf),
    ('svm', svm)
], final_estimator=LogisticRegression())

# 🚂 Fit and evaluate Voting Classifier
voting_clf.fit(X_train_sm, y_train_sm)
y_pred_vote = voting_clf.predict(X_test)
y_prob_vote = voting_clf.predict_proba(X_test)[:, 1]

print("\n📊 Voting Classifier Report:")
print(classification_report(y_test, y_pred_vote))
print("ROC AUC:", roc_auc_score(y_test, y_prob_vote))

# 🚂 Fit and evaluate Stacking Classifier
stacking_clf.fit(X_train_sm, y_train_sm)
y_pred_stack = stacking_clf.predict(X_test)
y_prob_stack = stacking_clf.predict_proba(X_test)[:, 1]

print("\n📊 Stacking Classifier Report:")
print(classification_report(y_test, y_pred_stack))
print("ROC AUC:", roc_auc_score(y_test, y_prob_stack))
