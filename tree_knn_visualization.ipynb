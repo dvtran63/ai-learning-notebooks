{
 "cells": [
  {
   "cell_type": "markdown",
   "id": "29bf7766",
   "metadata": {},
   "source": [
    "# 🌳 Visualizing Decision Trees & KNN Boundaries\n",
    "\n",
    "This notebook helps you visualize:\n",
    "- The structure of a Decision Tree\n",
    "- Decision boundaries of Decision Tree vs KNN"
   ]
  },
  {
   "cell_type": "markdown",
   "id": "85cc25da",
   "metadata": {},
   "source": [
    "## 📘 Load Iris Dataset"
   ]
  },
  {
   "cell_type": "code",
   "execution_count": null,
   "id": "3c342a0e",
   "metadata": {},
   "outputs": [],
   "source": [
    "from sklearn.datasets import load_iris\n",
    "from sklearn.model_selection import train_test_split\n",
    "from sklearn.preprocessing import StandardScaler\n",
    "import matplotlib.pyplot as plt\n",
    "import numpy as np\n",
    "\n",
    "# Load and reduce to 2D for visualization\n",
    "iris = load_iris()\n",
    "X = iris.data[:, :2]  # Only first two features\n",
    "y = iris.target\n",
    "X_train, X_test, y_train, y_test = train_test_split(X, y, random_state=42)\n",
    "\n",
    "scaler = StandardScaler()\n",
    "X_train = scaler.fit_transform(X_train)\n",
    "X_test = scaler.transform(X_test)"
   ]
  },
  {
   "cell_type": "markdown",
   "id": "09f9b421",
   "metadata": {},
   "source": [
    "## 🌳 Visualize Decision Tree Structure"
   ]
  },
  {
   "cell_type": "code",
   "execution_count": null,
   "id": "b19bfe4f",
   "metadata": {},
   "outputs": [],
   "source": [
    "from sklearn.tree import DecisionTreeClassifier, plot_tree\n",
    "\n",
    "tree = DecisionTreeClassifier(max_depth=3)\n",
    "tree.fit(X_train, y_train)\n",
    "\n",
    "plt.figure(figsize=(14, 8))\n",
    "plot_tree(tree, filled=True, feature_names=iris.feature_names[:2], class_names=iris.target_names)\n",
    "plt.show()"
   ]
  },
  {
   "cell_type": "markdown",
   "id": "139ae51b",
   "metadata": {},
   "source": [
    "## 🌀 Visualize Decision Boundaries"
   ]
  },
  {
   "cell_type": "code",
   "execution_count": null,
   "id": "fd96b6a0",
   "metadata": {},
   "outputs": [],
   "source": [
    "from sklearn.neighbors import KNeighborsClassifier\n",
    "from matplotlib.colors import ListedColormap\n",
    "\n",
    "def plot_decision_boundary(model, X, y, title):\n",
    "    h = .02  # step size in the mesh\n",
    "    x_min, x_max = X[:, 0].min() - 1, X[:, 0].max() + 1\n",
    "    y_min, y_max = X[:, 1].min() - 1, X[:, 1].max() + 1\n",
    "    xx, yy = np.meshgrid(np.arange(x_min, x_max, h),\n",
    "                         np.arange(y_min, y_max, h))\n",
    "\n",
    "    Z = model.predict(np.c_[xx.ravel(), yy.ravel()])\n",
    "    Z = Z.reshape(xx.shape)\n",
    "\n",
    "    cmap_light = ListedColormap(['#FFAAAA', '#AAFFAA', '#AAAAFF'])\n",
    "    cmap_bold = ['red', 'green', 'blue']\n",
    "\n",
    "    plt.figure(figsize=(8, 6))\n",
    "    plt.contourf(xx, yy, Z, cmap=cmap_light)\n",
    "    for i, color in zip(range(3), cmap_bold):\n",
    "        idx = np.where(y == i)\n",
    "        plt.scatter(X[idx, 0], X[idx, 1], c=color, label=iris.target_names[i], edgecolor='k', s=40)\n",
    "    plt.title(title)\n",
    "    plt.xlabel(iris.feature_names[0])\n",
    "    plt.ylabel(iris.feature_names[1])\n",
    "    plt.legend()\n",
    "    plt.show()\n",
    "\n",
    "# Train both models\n",
    "knn = KNeighborsClassifier(n_neighbors=5).fit(X_train, y_train)\n",
    "tree = DecisionTreeClassifier(max_depth=3).fit(X_train, y_train)\n",
    "\n",
    "plot_decision_boundary(knn, X_train, y_train, \"KNN (k=5) Decision Boundary\")\n",
    "plot_decision_boundary(tree, X_train, y_train, \"Decision Tree (depth=3) Decision Boundary\")"
   ]
  }
 ],
 "metadata": {},
 "nbformat": 4,
 "nbformat_minor": 5
}
