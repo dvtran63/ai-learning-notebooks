{
 "cells": [
  {
   "cell_type": "markdown",
   "id": "c107ec8e",
   "metadata": {},
   "source": [
    "# Titanic Conditional Probability Exercise\n",
    "This notebook walks you through calculating conditional probabilities using the Titanic dataset in **Seaborn**.\n",
    "\n",
    "You'll compute:\n",
    "1. $P(\\text{Survived} \\mid \\text{Age} < 18)$  \n",
    "2. $P(\\text{Survived} \\mid \\text{Sex} = \\text{male}, \\text{Age} < 18)$  \n",
    "3. $P(\\text{Survived} \\mid \\text{Pclass} = 1)$  \n",
    "\n",
    "Feel free to modify and explore further!"
   ]
  },
  {
   "cell_type": "code",
   "execution_count": null,
   "id": "0f8eb3f9",
   "metadata": {},
   "outputs": [],
   "source": [
    "# Install seaborn if needed (Colab usually has it pre‑installed)\n",
    "!pip install seaborn --quiet"
   ]
  },
  {
   "cell_type": "code",
   "execution_count": null,
   "id": "cd9132eb",
   "metadata": {},
   "outputs": [],
   "source": [
    "import seaborn as sns\n",
    "import pandas as pd\n",
    "import numpy as np"
   ]
  },
  {
   "cell_type": "markdown",
   "id": "2a8ef3b4",
   "metadata": {},
   "source": [
    "## Load the Titanic dataset"
   ]
  },
  {
   "cell_type": "code",
   "execution_count": null,
   "id": "5d8af510",
   "metadata": {},
   "outputs": [],
   "source": [
    "df = sns.load_dataset('titanic')\n",
    "df.head()"
   ]
  },
  {
   "cell_type": "markdown",
   "id": "a47176f7",
   "metadata": {},
   "source": [
    "## Clean the Data\n",
    "Remove rows with missing **age** or **survived** values."
   ]
  },
  {
   "cell_type": "code",
   "execution_count": null,
   "id": "d33bbe39",
   "metadata": {},
   "outputs": [],
   "source": [
    "df_filtered = df[df['age'].notnull() & df['survived'].notnull()]\n",
    "df_filtered.shape"
   ]
  },
  {
   "cell_type": "markdown",
   "id": "ef268de8",
   "metadata": {},
   "source": [
    "## Helper Function: Conditional Probability"
   ]
  },
  {
   "cell_type": "code",
   "execution_count": null,
   "id": "0f4c21a3",
   "metadata": {},
   "outputs": [],
   "source": [
    "def conditional_probability(df, condition_mask, target_column, target_value):\n",
    "    \"\"\"Calculate P(target = target_value | condition_mask)\"\"\"\n",
    "    joint_count = len(df[condition_mask & (df[target_column] == target_value)])\n",
    "    condition_count = condition_mask.sum()\n",
    "    return joint_count / condition_count if condition_count else np.nan"
   ]
  },
  {
   "cell_type": "markdown",
   "id": "0a82e575",
   "metadata": {},
   "source": [
    "## 1️⃣ Probability of Survival given Age < 18"
   ]
  },
  {
   "cell_type": "code",
   "execution_count": null,
   "id": "5ebdeefc",
   "metadata": {},
   "outputs": [],
   "source": [
    "mask_under_18 = df_filtered['age'] < 18\n",
    "p_survived_under_18 = conditional_probability(df_filtered, mask_under_18, 'survived', 1)\n",
    "print(f\"P(Survived | Age < 18) = {p_survived_under_18:.2f}\")"
   ]
  },
  {
   "cell_type": "markdown",
   "id": "3cd108b5",
   "metadata": {},
   "source": [
    "## 2️⃣ Probability of Survival for **Male** passengers under 18"
   ]
  },
  {
   "cell_type": "code",
   "execution_count": null,
   "id": "c8838e5c",
   "metadata": {},
   "outputs": [],
   "source": [
    "mask_male_under_18 = (df_filtered['age'] < 18) & (df_filtered['sex'] == 'male')\n",
    "p_survived_male_under_18 = conditional_probability(df_filtered, mask_male_under_18, 'survived', 1)\n",
    "print(f\"P(Survived | Male & Age < 18) = {p_survived_male_under_18:.2f}\")"
   ]
  },
  {
   "cell_type": "markdown",
   "id": "05ca3f47",
   "metadata": {},
   "source": [
    "## 3️⃣ Probability of Survival for **First‑Class** passengers"
   ]
  },
  {
   "cell_type": "code",
   "execution_count": null,
   "id": "a70da691",
   "metadata": {},
   "outputs": [],
   "source": [
    "mask_first_class = df_filtered['pclass'] == 1\n",
    "p_survived_first_class = conditional_probability(df_filtered, mask_first_class, 'survived', 1)\n",
    "print(f\"P(Survived | First‑Class) = {p_survived_first_class:.2f}\")"
   ]
  },
  {
   "cell_type": "markdown",
   "id": "c54a8358",
   "metadata": {},
   "source": [
    "## 🎯 Your Turn\n",
    "Try changing the conditions to explore other questions, e.g.:\n",
    "- Probability of survival given **embark_town == 'Southampton'**\n",
    "- Probability of survival given **parch > 0** (travelling with parents/children)\n",
    "\n",
    "Happy exploring!"
   ]
  }
 ],
 "metadata": {},
 "nbformat": 4,
 "nbformat_minor": 5
}
