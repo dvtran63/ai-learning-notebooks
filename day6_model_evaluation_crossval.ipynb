{
 "cells": [
  {
   "cell_type": "markdown",
   "id": "4e9ba3b4",
   "metadata": {},
   "source": [
    "# 📊 Day 6: Model Evaluation & Cross-Validation\n",
    "\n",
    "Today you'll learn about:\n",
    "- Train/test split vs cross-validation\n",
    "- Evaluation metrics: accuracy, precision, recall, F1-score\n",
    "- Cross-validation with `cross_val_score`\n",
    "- Model selection using evaluation scores"
   ]
  },
  {
   "cell_type": "markdown",
   "id": "ebfb6dd0",
   "metadata": {},
   "source": [
    "## 📥 Load Data and Preprocess"
   ]
  },
  {
   "cell_type": "code",
   "execution_count": null,
   "id": "8a12f559",
   "metadata": {},
   "outputs": [],
   "source": [
    "from sklearn.datasets import load_iris\n",
    "from sklearn.model_selection import train_test_split\n",
    "from sklearn.preprocessing import StandardScaler\n",
    "\n",
    "iris = load_iris()\n",
    "X, y = iris.data, iris.target\n",
    "\n",
    "X_train, X_test, y_train, y_test = train_test_split(X, y, random_state=42)\n",
    "\n",
    "scaler = StandardScaler()\n",
    "X_train = scaler.fit_transform(X_train)\n",
    "X_test = scaler.transform(X_test)"
   ]
  },
  {
   "cell_type": "markdown",
   "id": "ac7eb601",
   "metadata": {},
   "source": [
    "## ⚙️ Train a Model and Evaluate on Test Set"
   ]
  },
  {
   "cell_type": "code",
   "execution_count": null,
   "id": "513b23cb",
   "metadata": {},
   "outputs": [],
   "source": [
    "from sklearn.tree import DecisionTreeClassifier\n",
    "from sklearn.metrics import classification_report, confusion_matrix\n",
    "\n",
    "tree = DecisionTreeClassifier(max_depth=3, random_state=42)\n",
    "tree.fit(X_train, y_train)\n",
    "\n",
    "y_pred = tree.predict(X_test)\n",
    "\n",
    "print(\"Confusion Matrix:\")\n",
    "print(confusion_matrix(y_test, y_pred))\n",
    "print(\"\\nClassification Report:\")\n",
    "print(classification_report(y_test, y_pred))"
   ]
  },
  {
   "cell_type": "markdown",
   "id": "2d98e906",
   "metadata": {},
   "source": [
    "## 🔁 Cross-Validation with `cross_val_score`"
   ]
  },
  {
   "cell_type": "code",
   "execution_count": null,
   "id": "1e62d171",
   "metadata": {},
   "outputs": [],
   "source": [
    "from sklearn.model_selection import cross_val_score\n",
    "\n",
    "scores = cross_val_score(tree, X, y, cv=5, scoring='accuracy')\n",
    "print(\"Cross-validation scores:\", scores)\n",
    "print(\"Average CV accuracy:\", scores.mean())"
   ]
  },
  {
   "cell_type": "markdown",
   "id": "f3a5edd2",
   "metadata": {},
   "source": [
    "## 📚 Exercise: Try Another Model"
   ]
  },
  {
   "cell_type": "code",
   "execution_count": null,
   "id": "74050a1d",
   "metadata": {},
   "outputs": [],
   "source": [
    "# 🔁 Try KNN and compare\n",
    "from sklearn.neighbors import KNeighborsClassifier\n",
    "\n",
    "knn = KNeighborsClassifier(n_neighbors=5)\n",
    "cv_scores = cross_val_score(knn, X, y, cv=5, scoring='accuracy')\n",
    "print(\"KNN CV Scores:\", cv_scores)\n",
    "print(\"KNN Average CV Accuracy:\", cv_scores.mean())"
   ]
  }
 ],
 "metadata": {},
 "nbformat": 4,
 "nbformat_minor": 5
}
